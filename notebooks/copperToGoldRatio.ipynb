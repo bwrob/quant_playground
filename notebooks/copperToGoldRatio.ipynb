{
 "cells": [
  {
   "attachments": {},
   "cell_type": "markdown",
   "metadata": {},
   "source": [
    "# The Copper-to-Gold Ratio Using the OpenBB SDK\n",
    "\n",
    "The copper-to-gold ratio is known as a leading economic indicator.  It is most commonly paired as a time series with the ten-year US Treasury yield. The notable events are the divergences in directional movement, signaling a fundamental regime change that will unfold over months and years.  Not something to go YOLO into, but a metric to shape a long-term view of global economic conditions.\n",
    "\n",
    "The ratio is defined as dividing the spot price of one ounce of copper by an ounce gold.  How much copper is bought with one ouce of gold.  Sounds simple enough,  divide the price of copper by the price of gold, done.  The OpenBB Platform can make quick work out of this task, really quick.  Let's explore."
   ]
  },
  {
   "cell_type": "code",
   "execution_count": 1,
   "metadata": {
    "ExecuteTime": {
     "end_time": "2024-02-17T12:19:12.868737800Z",
     "start_time": "2024-02-17T12:19:07.452426100Z"
    }
   },
   "outputs": [],
   "source": [
    "# Import the Platform and Pandas for some calculations.\n",
    "\n",
    "import pandas as pd\n",
    "import plotly.graph_objects as go\n",
    "from openbb import obb"
   ]
  },
  {
   "attachments": {},
   "cell_type": "markdown",
   "metadata": {},
   "source": [
    "The most accessible data is going to be the continuous front-month futures contracts for physical delivery, listed on the CME.  We'll create a Pandas Series for each asset, requesting weekly historical data using the `openbb-yfinance` data extension."
   ]
  },
  {
   "cell_type": "code",
   "execution_count": 2,
   "metadata": {
    "ExecuteTime": {
     "end_time": "2024-02-17T12:19:13.706552900Z",
     "start_time": "2024-02-17T12:19:12.869738100Z"
    }
   },
   "outputs": [
    {
     "name": "stderr",
     "output_type": "stream",
     "text": [
      "C:\\Users\\bw200\\AppData\\Local\\pypoetry\\Cache\\virtualenvs\\py-quant-news-playground-0ZE7DJk8-py3.11\\Lib\\site-packages\\yfinance\\utils.py:775: FutureWarning: The 'unit' keyword in TimedeltaIndex construction is deprecated and will be removed in a future version. Use pd.to_timedelta instead.\n",
      "  df.index += _pd.TimedeltaIndex(dst_error_hours, 'h')\n",
      "C:\\Users\\bw200\\AppData\\Local\\pypoetry\\Cache\\virtualenvs\\py-quant-news-playground-0ZE7DJk8-py3.11\\Lib\\site-packages\\yfinance\\utils.py:775: FutureWarning: The 'unit' keyword in TimedeltaIndex construction is deprecated and will be removed in a future version. Use pd.to_timedelta instead.\n",
      "  df.index += _pd.TimedeltaIndex(dst_error_hours, 'h')\n"
     ]
    }
   ],
   "source": [
    "data = pd.DataFrame()\n",
    "cols_dict = {\"GC\": \"Gold\", \"HG\": \"Copper\"}\n",
    "for symbol in [\"GC\", \"HG\"]:\n",
    "    data[symbol] = (\n",
    "        obb.derivatives.futures.historical(\n",
    "            symbol,\n",
    "            start_date=\"2000-01-01\",\n",
    "            interval=\"1wk\",\n",
    "        )\n",
    "        .to_df()[\"close\"]\n",
    "        .rename(symbol)\n",
    "    )\n",
    "data.columns = cols_dict.values()\n",
    "data.index = data.index.strftime(\"%Y-%m-%d\")"
   ]
  },
  {
   "attachments": {},
   "cell_type": "markdown",
   "metadata": {},
   "source": [
    "Let's inspect the results."
   ]
  },
  {
   "cell_type": "code",
   "execution_count": 3,
   "metadata": {
    "ExecuteTime": {
     "end_time": "2024-02-17T12:19:13.741130900Z",
     "start_time": "2024-02-17T12:19:13.703552200Z"
    }
   },
   "outputs": [
    {
     "data": {
      "text/plain": "                  Gold  Copper\ndate                          \n2000-08-28  277.000000   0.889\n2000-09-04  273.299988   0.912",
      "text/html": "<div>\n<style scoped>\n    .dataframe tbody tr th:only-of-type {\n        vertical-align: middle;\n    }\n\n    .dataframe tbody tr th {\n        vertical-align: top;\n    }\n\n    .dataframe thead th {\n        text-align: right;\n    }\n</style>\n<table border=\"1\" class=\"dataframe\">\n  <thead>\n    <tr style=\"text-align: right;\">\n      <th></th>\n      <th>Gold</th>\n      <th>Copper</th>\n    </tr>\n    <tr>\n      <th>date</th>\n      <th></th>\n      <th></th>\n    </tr>\n  </thead>\n  <tbody>\n    <tr>\n      <th>2000-08-28</th>\n      <td>277.000000</td>\n      <td>0.889</td>\n    </tr>\n    <tr>\n      <th>2000-09-04</th>\n      <td>273.299988</td>\n      <td>0.912</td>\n    </tr>\n  </tbody>\n</table>\n</div>"
     },
     "execution_count": 3,
     "metadata": {},
     "output_type": "execute_result"
    }
   ],
   "source": [
    "data.head(2)"
   ]
  },
  {
   "attachments": {},
   "cell_type": "markdown",
   "metadata": {},
   "source": [
    "To get the copper-to-gold ratio, divide the two columns along each row."
   ]
  },
  {
   "cell_type": "code",
   "execution_count": 4,
   "metadata": {
    "ExecuteTime": {
     "end_time": "2024-02-17T12:19:13.742131Z",
     "start_time": "2024-02-17T12:19:13.726813400Z"
    }
   },
   "outputs": [
    {
     "data": {
      "text/plain": "                   Gold  Copper  Copper/Gold Ratio\ndate                                              \n2024-02-05  2023.300049   3.686           0.001822\n2024-02-12  2025.500000   3.822           0.001887",
      "text/html": "<div>\n<style scoped>\n    .dataframe tbody tr th:only-of-type {\n        vertical-align: middle;\n    }\n\n    .dataframe tbody tr th {\n        vertical-align: top;\n    }\n\n    .dataframe thead th {\n        text-align: right;\n    }\n</style>\n<table border=\"1\" class=\"dataframe\">\n  <thead>\n    <tr style=\"text-align: right;\">\n      <th></th>\n      <th>Gold</th>\n      <th>Copper</th>\n      <th>Copper/Gold Ratio</th>\n    </tr>\n    <tr>\n      <th>date</th>\n      <th></th>\n      <th></th>\n      <th></th>\n    </tr>\n  </thead>\n  <tbody>\n    <tr>\n      <th>2024-02-05</th>\n      <td>2023.300049</td>\n      <td>3.686</td>\n      <td>0.001822</td>\n    </tr>\n    <tr>\n      <th>2024-02-12</th>\n      <td>2025.500000</td>\n      <td>3.822</td>\n      <td>0.001887</td>\n    </tr>\n  </tbody>\n</table>\n</div>"
     },
     "execution_count": 4,
     "metadata": {},
     "output_type": "execute_result"
    }
   ],
   "source": [
    "data[\"Copper/Gold Ratio\"] = data[\"Copper\"] / data[\"Gold\"]\n",
    "\n",
    "data.tail(2)"
   ]
  },
  {
   "attachments": {},
   "cell_type": "markdown",
   "metadata": {},
   "source": [
    "Because the numbers are so small, the ratio is often be presented as a % value.  0.2% is a popular way to display the value.  However, to plot it on the same y-axis as a Treasury yield, it needs to be multiplied by 1000.  Let's alter the block above to include this."
   ]
  },
  {
   "cell_type": "code",
   "execution_count": 5,
   "metadata": {
    "ExecuteTime": {
     "end_time": "2024-02-17T12:19:13.742131Z",
     "start_time": "2024-02-17T12:19:13.731083300Z"
    }
   },
   "outputs": [
    {
     "data": {
      "text/plain": "                   Gold  Copper  Copper/Gold Ratio\ndate                                              \n2024-02-05  2023.300049   3.686           1.821776\n2024-02-12  2025.500000   3.822           1.886942",
      "text/html": "<div>\n<style scoped>\n    .dataframe tbody tr th:only-of-type {\n        vertical-align: middle;\n    }\n\n    .dataframe tbody tr th {\n        vertical-align: top;\n    }\n\n    .dataframe thead th {\n        text-align: right;\n    }\n</style>\n<table border=\"1\" class=\"dataframe\">\n  <thead>\n    <tr style=\"text-align: right;\">\n      <th></th>\n      <th>Gold</th>\n      <th>Copper</th>\n      <th>Copper/Gold Ratio</th>\n    </tr>\n    <tr>\n      <th>date</th>\n      <th></th>\n      <th></th>\n      <th></th>\n    </tr>\n  </thead>\n  <tbody>\n    <tr>\n      <th>2024-02-05</th>\n      <td>2023.300049</td>\n      <td>3.686</td>\n      <td>1.821776</td>\n    </tr>\n    <tr>\n      <th>2024-02-12</th>\n      <td>2025.500000</td>\n      <td>3.822</td>\n      <td>1.886942</td>\n    </tr>\n  </tbody>\n</table>\n</div>"
     },
     "execution_count": 5,
     "metadata": {},
     "output_type": "execute_result"
    }
   ],
   "source": [
    "data[\"Copper/Gold Ratio\"] = (data[\"Copper\"] / data[\"Gold\"]) * 1000\n",
    "\n",
    "data.tail(2)"
   ]
  },
  {
   "attachments": {},
   "cell_type": "markdown",
   "metadata": {},
   "source": [
    "Now let's add a column for the daily 10 Year US Treasury Yield.  This can be requested using the `fred_series` function within the `economy` module.  The first line in the block below requests the data, the second assigns it to a column in the target DataFrame."
   ]
  },
  {
   "cell_type": "code",
   "execution_count": 6,
   "metadata": {
    "ExecuteTime": {
     "end_time": "2024-02-17T12:19:14.164995500Z",
     "start_time": "2024-02-17T12:19:13.735129900Z"
    }
   },
   "outputs": [
    {
     "ename": "OpenBBError",
     "evalue": "Missing credential 'fred_api_key'. Check https://fred.stlouisfed.org/ to get it.",
     "output_type": "error",
     "traceback": [
      "\u001b[1;31m---------------------------------------------------------------------------\u001b[0m",
      "\u001b[1;31mOpenBBError\u001b[0m                               Traceback (most recent call last)",
      "File \u001b[1;32m~\\AppData\\Local\\pypoetry\\Cache\\virtualenvs\\py-quant-news-playground-0ZE7DJk8-py3.11\\Lib\\site-packages\\openbb_core\\app\\command_runner.py:328\u001b[0m, in \u001b[0;36mStaticCommandRunner._execute_func\u001b[1;34m(cls, route, args, execution_context, func, kwargs)\u001b[0m\n\u001b[0;32m    327\u001b[0m \u001b[38;5;28;01mtry\u001b[39;00m:\n\u001b[1;32m--> 328\u001b[0m     obbject \u001b[38;5;241m=\u001b[39m \u001b[38;5;28;01mawait\u001b[39;00m \u001b[38;5;28mcls\u001b[39m\u001b[38;5;241m.\u001b[39m_command(\n\u001b[0;32m    329\u001b[0m         func\u001b[38;5;241m=\u001b[39mfunc,\n\u001b[0;32m    330\u001b[0m         kwargs\u001b[38;5;241m=\u001b[39mkwargs,\n\u001b[0;32m    331\u001b[0m         show_warnings\u001b[38;5;241m=\u001b[39muser_settings\u001b[38;5;241m.\u001b[39mpreferences\u001b[38;5;241m.\u001b[39mshow_warnings,\n\u001b[0;32m    332\u001b[0m     )\n\u001b[0;32m    333\u001b[0m     \u001b[38;5;66;03m# pylint: disable=protected-access\u001b[39;00m\n",
      "File \u001b[1;32m~\\AppData\\Local\\pypoetry\\Cache\\virtualenvs\\py-quant-news-playground-0ZE7DJk8-py3.11\\Lib\\site-packages\\openbb_core\\app\\command_runner.py:250\u001b[0m, in \u001b[0;36mStaticCommandRunner._command\u001b[1;34m(cls, func, kwargs, show_warnings)\u001b[0m\n\u001b[0;32m    249\u001b[0m \u001b[38;5;28;01mwith\u001b[39;00m warnings\u001b[38;5;241m.\u001b[39mcatch_warnings(record\u001b[38;5;241m=\u001b[39m\u001b[38;5;28;01mTrue\u001b[39;00m) \u001b[38;5;28;01mas\u001b[39;00m warning_list:\n\u001b[1;32m--> 250\u001b[0m     obbject \u001b[38;5;241m=\u001b[39m \u001b[38;5;28;01mawait\u001b[39;00m maybe_coroutine(func, \u001b[38;5;241m*\u001b[39m\u001b[38;5;241m*\u001b[39mkwargs)\n\u001b[0;32m    251\u001b[0m     obbject\u001b[38;5;241m.\u001b[39mprovider \u001b[38;5;241m=\u001b[39m \u001b[38;5;28mgetattr\u001b[39m(\n\u001b[0;32m    252\u001b[0m         kwargs\u001b[38;5;241m.\u001b[39mget(\u001b[38;5;124m\"\u001b[39m\u001b[38;5;124mprovider_choices\u001b[39m\u001b[38;5;124m\"\u001b[39m, \u001b[38;5;28;01mNone\u001b[39;00m), \u001b[38;5;124m\"\u001b[39m\u001b[38;5;124mprovider\u001b[39m\u001b[38;5;124m\"\u001b[39m, \u001b[38;5;28;01mNone\u001b[39;00m\n\u001b[0;32m    253\u001b[0m     )\n",
      "File \u001b[1;32m~\\AppData\\Local\\pypoetry\\Cache\\virtualenvs\\py-quant-news-playground-0ZE7DJk8-py3.11\\Lib\\site-packages\\openbb_core\\provider\\utils\\helpers.py:268\u001b[0m, in \u001b[0;36mmaybe_coroutine\u001b[1;34m(func, *args, **kwargs)\u001b[0m\n\u001b[0;32m    266\u001b[0m     \u001b[38;5;28;01mreturn\u001b[39;00m cast(T, func(\u001b[38;5;241m*\u001b[39margs, \u001b[38;5;241m*\u001b[39m\u001b[38;5;241m*\u001b[39mkwargs))\n\u001b[1;32m--> 268\u001b[0m \u001b[38;5;28;01mreturn\u001b[39;00m \u001b[38;5;28;01mawait\u001b[39;00m func(\u001b[38;5;241m*\u001b[39margs, \u001b[38;5;241m*\u001b[39m\u001b[38;5;241m*\u001b[39mkwargs)\n",
      "File \u001b[1;32m~\\AppData\\Local\\pypoetry\\Cache\\virtualenvs\\py-quant-news-playground-0ZE7DJk8-py3.11\\Lib\\site-packages\\openbb_economy\\economy_router.py:126\u001b[0m, in \u001b[0;36mfred_series\u001b[1;34m(cc, provider_choices, standard_params, extra_params)\u001b[0m\n\u001b[0;32m    125\u001b[0m \u001b[38;5;250m\u001b[39m\u001b[38;5;124;03m\"\"\"Get data by series ID from FRED.\"\"\"\u001b[39;00m\n\u001b[1;32m--> 126\u001b[0m \u001b[38;5;28;01mreturn\u001b[39;00m \u001b[38;5;28;01mawait\u001b[39;00m OBBject\u001b[38;5;241m.\u001b[39mfrom_query(Query(\u001b[38;5;241m*\u001b[39m\u001b[38;5;241m*\u001b[39m\u001b[38;5;28mlocals\u001b[39m()))\n",
      "File \u001b[1;32m~\\AppData\\Local\\pypoetry\\Cache\\virtualenvs\\py-quant-news-playground-0ZE7DJk8-py3.11\\Lib\\site-packages\\openbb_core\\app\\model\\obbject.py:303\u001b[0m, in \u001b[0;36mOBBject.from_query\u001b[1;34m(cls, query)\u001b[0m\n\u001b[0;32m    291\u001b[0m \u001b[38;5;250m\u001b[39m\u001b[38;5;124;03m\"\"\"Create OBBject from query.\u001b[39;00m\n\u001b[0;32m    292\u001b[0m \n\u001b[0;32m    293\u001b[0m \u001b[38;5;124;03mParameters\u001b[39;00m\n\u001b[1;32m   (...)\u001b[0m\n\u001b[0;32m    301\u001b[0m \u001b[38;5;124;03m    OBBject with results.\u001b[39;00m\n\u001b[0;32m    302\u001b[0m \u001b[38;5;124;03m\"\"\"\u001b[39;00m\n\u001b[1;32m--> 303\u001b[0m \u001b[38;5;28;01mreturn\u001b[39;00m \u001b[38;5;28mcls\u001b[39m(results\u001b[38;5;241m=\u001b[39m\u001b[38;5;28;01mawait\u001b[39;00m query\u001b[38;5;241m.\u001b[39mexecute())\n",
      "File \u001b[1;32m~\\AppData\\Local\\pypoetry\\Cache\\virtualenvs\\py-quant-news-playground-0ZE7DJk8-py3.11\\Lib\\site-packages\\openbb_core\\app\\query.py:72\u001b[0m, in \u001b[0;36mQuery.execute\u001b[1;34m(self)\u001b[0m\n\u001b[0;32m     70\u001b[0m query_executor \u001b[38;5;241m=\u001b[39m \u001b[38;5;28mself\u001b[39m\u001b[38;5;241m.\u001b[39mprovider_interface\u001b[38;5;241m.\u001b[39mcreate_executor()\n\u001b[1;32m---> 72\u001b[0m \u001b[38;5;28;01mreturn\u001b[39;00m \u001b[38;5;28;01mawait\u001b[39;00m query_executor\u001b[38;5;241m.\u001b[39mexecute(\n\u001b[0;32m     73\u001b[0m     provider_name\u001b[38;5;241m=\u001b[39m\u001b[38;5;28mself\u001b[39m\u001b[38;5;241m.\u001b[39mprovider,\n\u001b[0;32m     74\u001b[0m     model_name\u001b[38;5;241m=\u001b[39m\u001b[38;5;28mself\u001b[39m\u001b[38;5;241m.\u001b[39mname,\n\u001b[0;32m     75\u001b[0m     params\u001b[38;5;241m=\u001b[39m{\u001b[38;5;241m*\u001b[39m\u001b[38;5;241m*\u001b[39mstandard_dict, \u001b[38;5;241m*\u001b[39m\u001b[38;5;241m*\u001b[39mextra_dict},\n\u001b[0;32m     76\u001b[0m     credentials\u001b[38;5;241m=\u001b[39m\u001b[38;5;28mself\u001b[39m\u001b[38;5;241m.\u001b[39mcc\u001b[38;5;241m.\u001b[39muser_settings\u001b[38;5;241m.\u001b[39mcredentials\u001b[38;5;241m.\u001b[39mmodel_dump(),\n\u001b[0;32m     77\u001b[0m     preferences\u001b[38;5;241m=\u001b[39m\u001b[38;5;28mself\u001b[39m\u001b[38;5;241m.\u001b[39mcc\u001b[38;5;241m.\u001b[39muser_settings\u001b[38;5;241m.\u001b[39mpreferences\u001b[38;5;241m.\u001b[39mmodel_dump(),\n\u001b[0;32m     78\u001b[0m )\n",
      "File \u001b[1;32m~\\AppData\\Local\\pypoetry\\Cache\\virtualenvs\\py-quant-news-playground-0ZE7DJk8-py3.11\\Lib\\site-packages\\openbb_core\\provider\\query_executor.py:93\u001b[0m, in \u001b[0;36mQueryExecutor.execute\u001b[1;34m(self, provider_name, model_name, params, credentials, **kwargs)\u001b[0m\n\u001b[0;32m     92\u001b[0m fetcher \u001b[38;5;241m=\u001b[39m \u001b[38;5;28mself\u001b[39m\u001b[38;5;241m.\u001b[39mget_fetcher(provider, model_name)\n\u001b[1;32m---> 93\u001b[0m filtered_credentials \u001b[38;5;241m=\u001b[39m \u001b[38;5;28;43mself\u001b[39;49m\u001b[38;5;241;43m.\u001b[39;49m\u001b[43mfilter_credentials\u001b[49m\u001b[43m(\u001b[49m\n\u001b[0;32m     94\u001b[0m \u001b[43m    \u001b[49m\u001b[43mcredentials\u001b[49m\u001b[43m,\u001b[49m\u001b[43m \u001b[49m\u001b[43mprovider\u001b[49m\u001b[43m,\u001b[49m\u001b[43m \u001b[49m\u001b[43mfetcher\u001b[49m\u001b[38;5;241;43m.\u001b[39;49m\u001b[43mrequire_credentials\u001b[49m\n\u001b[0;32m     95\u001b[0m \u001b[43m\u001b[49m\u001b[43m)\u001b[49m\n\u001b[0;32m     97\u001b[0m \u001b[38;5;28;01mtry\u001b[39;00m:\n",
      "File \u001b[1;32m~\\AppData\\Local\\pypoetry\\Cache\\virtualenvs\\py-quant-news-playground-0ZE7DJk8-py3.11\\Lib\\site-packages\\openbb_core\\provider\\query_executor.py:58\u001b[0m, in \u001b[0;36mQueryExecutor.filter_credentials\u001b[1;34m(credentials, provider, require_credentials)\u001b[0m\n\u001b[0;32m     57\u001b[0m         extra_msg \u001b[38;5;241m=\u001b[39m \u001b[38;5;124mf\u001b[39m\u001b[38;5;124m\"\u001b[39m\u001b[38;5;124m Check \u001b[39m\u001b[38;5;132;01m{\u001b[39;00mwebsite\u001b[38;5;132;01m}\u001b[39;00m\u001b[38;5;124m to get it.\u001b[39m\u001b[38;5;124m\"\u001b[39m \u001b[38;5;28;01mif\u001b[39;00m website \u001b[38;5;28;01melse\u001b[39;00m \u001b[38;5;124m\"\u001b[39m\u001b[38;5;124m\"\u001b[39m\n\u001b[1;32m---> 58\u001b[0m         \u001b[38;5;28;01mraise\u001b[39;00m OpenBBError(\u001b[38;5;124mf\u001b[39m\u001b[38;5;124m\"\u001b[39m\u001b[38;5;124mMissing credential \u001b[39m\u001b[38;5;124m'\u001b[39m\u001b[38;5;132;01m{\u001b[39;00mc\u001b[38;5;132;01m}\u001b[39;00m\u001b[38;5;124m'\u001b[39m\u001b[38;5;124m.\u001b[39m\u001b[38;5;132;01m{\u001b[39;00mextra_msg\u001b[38;5;132;01m}\u001b[39;00m\u001b[38;5;124m\"\u001b[39m)\n\u001b[0;32m     59\u001b[0m \u001b[38;5;28;01melse\u001b[39;00m:\n",
      "\u001b[1;31mOpenBBError\u001b[0m: Missing credential 'fred_api_key'. Check https://fred.stlouisfed.org/ to get it.",
      "\nThe above exception was the direct cause of the following exception:\n",
      "\u001b[1;31mOpenBBError\u001b[0m                               Traceback (most recent call last)",
      "Cell \u001b[1;32mIn[6], line 1\u001b[0m\n\u001b[1;32m----> 1\u001b[0m us10year \u001b[38;5;241m=\u001b[39m \u001b[43mobb\u001b[49m\u001b[38;5;241;43m.\u001b[39;49m\u001b[43meconomy\u001b[49m\u001b[38;5;241;43m.\u001b[39;49m\u001b[43mfred_series\u001b[49m\u001b[43m(\u001b[49m\n\u001b[0;32m      2\u001b[0m \u001b[43m    \u001b[49m\u001b[38;5;124;43m\"\u001b[39;49m\u001b[38;5;124;43mDGS10\u001b[39;49m\u001b[38;5;124;43m\"\u001b[39;49m\u001b[43m,\u001b[49m\n\u001b[0;32m      3\u001b[0m \u001b[43m    \u001b[49m\u001b[43mfrequency\u001b[49m\u001b[38;5;241;43m=\u001b[39;49m\u001b[38;5;124;43m\"\u001b[39;49m\u001b[38;5;124;43mwem\u001b[39;49m\u001b[38;5;124;43m\"\u001b[39;49m\u001b[43m,\u001b[49m\n\u001b[0;32m      4\u001b[0m \u001b[43m    \u001b[49m\u001b[43mstart_date\u001b[49m\u001b[38;5;241;43m=\u001b[39;49m\u001b[38;5;124;43m\"\u001b[39;49m\u001b[38;5;124;43m2000-08-28\u001b[39;49m\u001b[38;5;124;43m\"\u001b[39;49m\u001b[43m,\u001b[49m\n\u001b[0;32m      5\u001b[0m \u001b[43m    \u001b[49m\u001b[43mend_date\u001b[49m\u001b[38;5;241;43m=\u001b[39;49m\u001b[38;5;124;43m\"\u001b[39;49m\u001b[38;5;124;43m2023-11-27\u001b[39;49m\u001b[38;5;124;43m\"\u001b[39;49m\n\u001b[0;32m      6\u001b[0m \u001b[43m)\u001b[49m\u001b[38;5;241m.\u001b[39mto_df()[[\u001b[38;5;124m\"\u001b[39m\u001b[38;5;124mDGS10\u001b[39m\u001b[38;5;124m\"\u001b[39m]]\n\u001b[0;32m      8\u001b[0m us10year\u001b[38;5;241m.\u001b[39mindex \u001b[38;5;241m=\u001b[39m us10year\u001b[38;5;241m.\u001b[39mindex\u001b[38;5;241m.\u001b[39mstrftime(\u001b[38;5;124m\"\u001b[39m\u001b[38;5;124m%\u001b[39m\u001b[38;5;124mY-\u001b[39m\u001b[38;5;124m%\u001b[39m\u001b[38;5;124mm-\u001b[39m\u001b[38;5;132;01m%d\u001b[39;00m\u001b[38;5;124m\"\u001b[39m)\n\u001b[0;32m      9\u001b[0m data[\u001b[38;5;124m\"\u001b[39m\u001b[38;5;124mUS 10-Year Constant Maturity\u001b[39m\u001b[38;5;124m\"\u001b[39m] \u001b[38;5;241m=\u001b[39m us10year[\u001b[38;5;124m\"\u001b[39m\u001b[38;5;124mDGS10\u001b[39m\u001b[38;5;124m\"\u001b[39m]\n",
      "File \u001b[1;32m~\\AppData\\Local\\pypoetry\\Cache\\virtualenvs\\py-quant-news-playground-0ZE7DJk8-py3.11\\Lib\\site-packages\\openbb_core\\app\\static\\utils\\decorators.py:34\u001b[0m, in \u001b[0;36mvalidate.<locals>.decorated.<locals>.wrapper\u001b[1;34m(*f_args, **f_kwargs)\u001b[0m\n\u001b[0;32m     32\u001b[0m \u001b[38;5;129m@wraps\u001b[39m(f)\n\u001b[0;32m     33\u001b[0m \u001b[38;5;28;01mdef\u001b[39;00m \u001b[38;5;21mwrapper\u001b[39m(\u001b[38;5;241m*\u001b[39mf_args, \u001b[38;5;241m*\u001b[39m\u001b[38;5;241m*\u001b[39mf_kwargs):\n\u001b[1;32m---> 34\u001b[0m     \u001b[38;5;28;01mreturn\u001b[39;00m \u001b[43mvalidate_call\u001b[49m\u001b[43m(\u001b[49m\u001b[43mf\u001b[49m\u001b[43m,\u001b[49m\u001b[43m \u001b[49m\u001b[38;5;241;43m*\u001b[39;49m\u001b[38;5;241;43m*\u001b[39;49m\u001b[43mdec_kwargs\u001b[49m\u001b[43m)\u001b[49m\u001b[43m(\u001b[49m\u001b[38;5;241;43m*\u001b[39;49m\u001b[43mf_args\u001b[49m\u001b[43m,\u001b[49m\u001b[43m \u001b[49m\u001b[38;5;241;43m*\u001b[39;49m\u001b[38;5;241;43m*\u001b[39;49m\u001b[43mf_kwargs\u001b[49m\u001b[43m)\u001b[49m\n",
      "File \u001b[1;32m~\\AppData\\Local\\pypoetry\\Cache\\virtualenvs\\py-quant-news-playground-0ZE7DJk8-py3.11\\Lib\\site-packages\\pydantic\\validate_call_decorator.py:58\u001b[0m, in \u001b[0;36mvalidate_call.<locals>.validate.<locals>.wrapper_function\u001b[1;34m(*args, **kwargs)\u001b[0m\n\u001b[0;32m     56\u001b[0m \u001b[38;5;129m@functools\u001b[39m\u001b[38;5;241m.\u001b[39mwraps(function)\n\u001b[0;32m     57\u001b[0m \u001b[38;5;28;01mdef\u001b[39;00m \u001b[38;5;21mwrapper_function\u001b[39m(\u001b[38;5;241m*\u001b[39margs, \u001b[38;5;241m*\u001b[39m\u001b[38;5;241m*\u001b[39mkwargs):\n\u001b[1;32m---> 58\u001b[0m     \u001b[38;5;28;01mreturn\u001b[39;00m \u001b[43mvalidate_call_wrapper\u001b[49m\u001b[43m(\u001b[49m\u001b[38;5;241;43m*\u001b[39;49m\u001b[43margs\u001b[49m\u001b[43m,\u001b[49m\u001b[43m \u001b[49m\u001b[38;5;241;43m*\u001b[39;49m\u001b[38;5;241;43m*\u001b[39;49m\u001b[43mkwargs\u001b[49m\u001b[43m)\u001b[49m\n",
      "File \u001b[1;32m~\\AppData\\Local\\pypoetry\\Cache\\virtualenvs\\py-quant-news-playground-0ZE7DJk8-py3.11\\Lib\\site-packages\\pydantic\\_internal\\_validate_call.py:81\u001b[0m, in \u001b[0;36mValidateCallWrapper.__call__\u001b[1;34m(self, *args, **kwargs)\u001b[0m\n\u001b[0;32m     80\u001b[0m \u001b[38;5;28;01mdef\u001b[39;00m \u001b[38;5;21m__call__\u001b[39m(\u001b[38;5;28mself\u001b[39m, \u001b[38;5;241m*\u001b[39margs: Any, \u001b[38;5;241m*\u001b[39m\u001b[38;5;241m*\u001b[39mkwargs: Any) \u001b[38;5;241m-\u001b[39m\u001b[38;5;241m>\u001b[39m Any:\n\u001b[1;32m---> 81\u001b[0m     res \u001b[38;5;241m=\u001b[39m \u001b[38;5;28;43mself\u001b[39;49m\u001b[38;5;241;43m.\u001b[39;49m\u001b[43m__pydantic_validator__\u001b[49m\u001b[38;5;241;43m.\u001b[39;49m\u001b[43mvalidate_python\u001b[49m\u001b[43m(\u001b[49m\u001b[43mpydantic_core\u001b[49m\u001b[38;5;241;43m.\u001b[39;49m\u001b[43mArgsKwargs\u001b[49m\u001b[43m(\u001b[49m\u001b[43margs\u001b[49m\u001b[43m,\u001b[49m\u001b[43m \u001b[49m\u001b[43mkwargs\u001b[49m\u001b[43m)\u001b[49m\u001b[43m)\u001b[49m\n\u001b[0;32m     82\u001b[0m     \u001b[38;5;28;01mif\u001b[39;00m \u001b[38;5;28mself\u001b[39m\u001b[38;5;241m.\u001b[39m__return_pydantic_validator__:\n\u001b[0;32m     83\u001b[0m         \u001b[38;5;28;01mreturn\u001b[39;00m \u001b[38;5;28mself\u001b[39m\u001b[38;5;241m.\u001b[39m__return_pydantic_validator__(res)\n",
      "File \u001b[1;32m~\\AppData\\Local\\pypoetry\\Cache\\virtualenvs\\py-quant-news-playground-0ZE7DJk8-py3.11\\Lib\\site-packages\\openbb\\package\\economy.py:749\u001b[0m, in \u001b[0;36mROUTER_economy.fred_series\u001b[1;34m(self, symbol, start_date, end_date, limit, provider, **kwargs)\u001b[0m\n\u001b[0;32m    629\u001b[0m \u001b[38;5;129m@validate\u001b[39m\n\u001b[0;32m    630\u001b[0m \u001b[38;5;28;01mdef\u001b[39;00m \u001b[38;5;21mfred_series\u001b[39m(\n\u001b[0;32m    631\u001b[0m     \u001b[38;5;28mself\u001b[39m,\n\u001b[1;32m   (...)\u001b[0m\n\u001b[0;32m    655\u001b[0m     \u001b[38;5;241m*\u001b[39m\u001b[38;5;241m*\u001b[39mkwargs\n\u001b[0;32m    656\u001b[0m ) \u001b[38;5;241m-\u001b[39m\u001b[38;5;241m>\u001b[39m OBBject:\n\u001b[0;32m    657\u001b[0m \u001b[38;5;250m    \u001b[39m\u001b[38;5;124;03m\"\"\"Get data by series ID from FRED.\u001b[39;00m\n\u001b[0;32m    658\u001b[0m \n\u001b[0;32m    659\u001b[0m \u001b[38;5;124;03m    Parameters\u001b[39;00m\n\u001b[1;32m   (...)\u001b[0m\n\u001b[0;32m    746\u001b[0m \u001b[38;5;124;03m    >>> obb.economy.fred_series(\"CBBTCUSD\", transform=\"pc1\").to_df()\u001b[39;00m\n\u001b[0;32m    747\u001b[0m \u001b[38;5;124;03m    \"\"\"\u001b[39;00m  \u001b[38;5;66;03m# noqa: E501\u001b[39;00m\n\u001b[1;32m--> 749\u001b[0m     \u001b[38;5;28;01mreturn\u001b[39;00m \u001b[38;5;28;43mself\u001b[39;49m\u001b[38;5;241;43m.\u001b[39;49m\u001b[43m_run\u001b[49m\u001b[43m(\u001b[49m\n\u001b[0;32m    750\u001b[0m \u001b[43m        \u001b[49m\u001b[38;5;124;43m\"\u001b[39;49m\u001b[38;5;124;43m/economy/fred_series\u001b[39;49m\u001b[38;5;124;43m\"\u001b[39;49m\u001b[43m,\u001b[49m\n\u001b[0;32m    751\u001b[0m \u001b[43m        \u001b[49m\u001b[38;5;241;43m*\u001b[39;49m\u001b[38;5;241;43m*\u001b[39;49m\u001b[43mfilter_inputs\u001b[49m\u001b[43m(\u001b[49m\n\u001b[0;32m    752\u001b[0m \u001b[43m            \u001b[49m\u001b[43mprovider_choices\u001b[49m\u001b[38;5;241;43m=\u001b[39;49m\u001b[43m{\u001b[49m\n\u001b[0;32m    753\u001b[0m \u001b[43m                \u001b[49m\u001b[38;5;124;43m\"\u001b[39;49m\u001b[38;5;124;43mprovider\u001b[39;49m\u001b[38;5;124;43m\"\u001b[39;49m\u001b[43m:\u001b[49m\u001b[43m \u001b[49m\u001b[38;5;28;43mself\u001b[39;49m\u001b[38;5;241;43m.\u001b[39;49m\u001b[43m_get_provider\u001b[49m\u001b[43m(\u001b[49m\n\u001b[0;32m    754\u001b[0m \u001b[43m                    \u001b[49m\u001b[43mprovider\u001b[49m\u001b[43m,\u001b[49m\n\u001b[0;32m    755\u001b[0m \u001b[43m                    \u001b[49m\u001b[38;5;124;43m\"\u001b[39;49m\u001b[38;5;124;43m/economy/fred_series\u001b[39;49m\u001b[38;5;124;43m\"\u001b[39;49m\u001b[43m,\u001b[49m\n\u001b[0;32m    756\u001b[0m \u001b[43m                    \u001b[49m\u001b[43m(\u001b[49m\u001b[38;5;124;43m\"\u001b[39;49m\u001b[38;5;124;43mfred\u001b[39;49m\u001b[38;5;124;43m\"\u001b[39;49m\u001b[43m,\u001b[49m\u001b[43m \u001b[49m\u001b[38;5;124;43m\"\u001b[39;49m\u001b[38;5;124;43mintrinio\u001b[39;49m\u001b[38;5;124;43m\"\u001b[39;49m\u001b[43m)\u001b[49m\u001b[43m,\u001b[49m\n\u001b[0;32m    757\u001b[0m \u001b[43m                \u001b[49m\u001b[43m)\u001b[49m\n\u001b[0;32m    758\u001b[0m \u001b[43m            \u001b[49m\u001b[43m}\u001b[49m\u001b[43m,\u001b[49m\n\u001b[0;32m    759\u001b[0m \u001b[43m            \u001b[49m\u001b[43mstandard_params\u001b[49m\u001b[38;5;241;43m=\u001b[39;49m\u001b[43m{\u001b[49m\n\u001b[0;32m    760\u001b[0m \u001b[43m                \u001b[49m\u001b[38;5;124;43m\"\u001b[39;49m\u001b[38;5;124;43msymbol\u001b[39;49m\u001b[38;5;124;43m\"\u001b[39;49m\u001b[43m:\u001b[49m\u001b[43m \u001b[49m\u001b[43msymbol\u001b[49m\u001b[43m,\u001b[49m\n\u001b[0;32m    761\u001b[0m \u001b[43m                \u001b[49m\u001b[38;5;124;43m\"\u001b[39;49m\u001b[38;5;124;43mstart_date\u001b[39;49m\u001b[38;5;124;43m\"\u001b[39;49m\u001b[43m:\u001b[49m\u001b[43m \u001b[49m\u001b[43mstart_date\u001b[49m\u001b[43m,\u001b[49m\n\u001b[0;32m    762\u001b[0m \u001b[43m                \u001b[49m\u001b[38;5;124;43m\"\u001b[39;49m\u001b[38;5;124;43mend_date\u001b[39;49m\u001b[38;5;124;43m\"\u001b[39;49m\u001b[43m:\u001b[49m\u001b[43m \u001b[49m\u001b[43mend_date\u001b[49m\u001b[43m,\u001b[49m\n\u001b[0;32m    763\u001b[0m \u001b[43m                \u001b[49m\u001b[38;5;124;43m\"\u001b[39;49m\u001b[38;5;124;43mlimit\u001b[39;49m\u001b[38;5;124;43m\"\u001b[39;49m\u001b[43m:\u001b[49m\u001b[43m \u001b[49m\u001b[43mlimit\u001b[49m\u001b[43m,\u001b[49m\n\u001b[0;32m    764\u001b[0m \u001b[43m            \u001b[49m\u001b[43m}\u001b[49m\u001b[43m,\u001b[49m\n\u001b[0;32m    765\u001b[0m \u001b[43m            \u001b[49m\u001b[43mextra_params\u001b[49m\u001b[38;5;241;43m=\u001b[39;49m\u001b[43mkwargs\u001b[49m\u001b[43m,\u001b[49m\n\u001b[0;32m    766\u001b[0m \u001b[43m            \u001b[49m\u001b[43mextra_info\u001b[49m\u001b[38;5;241;43m=\u001b[39;49m\u001b[43m{\u001b[49m\u001b[38;5;124;43m\"\u001b[39;49m\u001b[38;5;124;43msymbol\u001b[39;49m\u001b[38;5;124;43m\"\u001b[39;49m\u001b[43m:\u001b[49m\u001b[43m \u001b[49m\u001b[43m{\u001b[49m\u001b[38;5;124;43m\"\u001b[39;49m\u001b[38;5;124;43mmultiple_items_allowed\u001b[39;49m\u001b[38;5;124;43m\"\u001b[39;49m\u001b[43m:\u001b[49m\u001b[43m \u001b[49m\u001b[43m[\u001b[49m\u001b[38;5;124;43m\"\u001b[39;49m\u001b[38;5;124;43mfred\u001b[39;49m\u001b[38;5;124;43m\"\u001b[39;49m\u001b[43m]\u001b[49m\u001b[43m}\u001b[49m\u001b[43m}\u001b[49m\u001b[43m,\u001b[49m\n\u001b[0;32m    767\u001b[0m \u001b[43m        \u001b[49m\u001b[43m)\u001b[49m\n\u001b[0;32m    768\u001b[0m \u001b[43m    \u001b[49m\u001b[43m)\u001b[49m\n",
      "File \u001b[1;32m~\\AppData\\Local\\pypoetry\\Cache\\virtualenvs\\py-quant-news-playground-0ZE7DJk8-py3.11\\Lib\\site-packages\\openbb_core\\app\\static\\container.py:20\u001b[0m, in \u001b[0;36mContainer._run\u001b[1;34m(self, *args, **kwargs)\u001b[0m\n\u001b[0;32m     18\u001b[0m \u001b[38;5;28;01mdef\u001b[39;00m \u001b[38;5;21m_run\u001b[39m(\u001b[38;5;28mself\u001b[39m, \u001b[38;5;241m*\u001b[39margs, \u001b[38;5;241m*\u001b[39m\u001b[38;5;241m*\u001b[39mkwargs) \u001b[38;5;241m-\u001b[39m\u001b[38;5;241m>\u001b[39m Any:\n\u001b[0;32m     19\u001b[0m \u001b[38;5;250m    \u001b[39m\u001b[38;5;124;03m\"\"\"Run a command in the container.\"\"\"\u001b[39;00m\n\u001b[1;32m---> 20\u001b[0m     obbject \u001b[38;5;241m=\u001b[39m \u001b[38;5;28;43mself\u001b[39;49m\u001b[38;5;241;43m.\u001b[39;49m\u001b[43m_command_runner\u001b[49m\u001b[38;5;241;43m.\u001b[39;49m\u001b[43msync_run\u001b[49m\u001b[43m(\u001b[49m\u001b[38;5;241;43m*\u001b[39;49m\u001b[43margs\u001b[49m\u001b[43m,\u001b[49m\u001b[43m \u001b[49m\u001b[38;5;241;43m*\u001b[39;49m\u001b[38;5;241;43m*\u001b[39;49m\u001b[43mkwargs\u001b[49m\u001b[43m)\u001b[49m\n\u001b[0;32m     21\u001b[0m     output_type \u001b[38;5;241m=\u001b[39m \u001b[38;5;28mself\u001b[39m\u001b[38;5;241m.\u001b[39m_command_runner\u001b[38;5;241m.\u001b[39muser_settings\u001b[38;5;241m.\u001b[39mpreferences\u001b[38;5;241m.\u001b[39moutput_type\n\u001b[0;32m     22\u001b[0m     \u001b[38;5;28;01mif\u001b[39;00m output_type \u001b[38;5;241m==\u001b[39m \u001b[38;5;124m\"\u001b[39m\u001b[38;5;124mOBBject\u001b[39m\u001b[38;5;124m\"\u001b[39m:\n",
      "File \u001b[1;32m~\\AppData\\Local\\pypoetry\\Cache\\virtualenvs\\py-quant-news-playground-0ZE7DJk8-py3.11\\Lib\\site-packages\\openbb_core\\app\\command_runner.py:474\u001b[0m, in \u001b[0;36mCommandRunner.sync_run\u001b[1;34m(self, route, user_settings, *args, **kwargs)\u001b[0m\n\u001b[0;32m    465\u001b[0m \u001b[38;5;28;01mdef\u001b[39;00m \u001b[38;5;21msync_run\u001b[39m(\n\u001b[0;32m    466\u001b[0m     \u001b[38;5;28mself\u001b[39m,\n\u001b[0;32m    467\u001b[0m     route: \u001b[38;5;28mstr\u001b[39m,\n\u001b[1;32m   (...)\u001b[0m\n\u001b[0;32m    471\u001b[0m     \u001b[38;5;241m*\u001b[39m\u001b[38;5;241m*\u001b[39mkwargs,\n\u001b[0;32m    472\u001b[0m ) \u001b[38;5;241m-\u001b[39m\u001b[38;5;241m>\u001b[39m OBBject:\n\u001b[0;32m    473\u001b[0m \u001b[38;5;250m    \u001b[39m\u001b[38;5;124;03m\"\"\"Run a command and return the OBBject as output.\"\"\"\u001b[39;00m\n\u001b[1;32m--> 474\u001b[0m     \u001b[38;5;28;01mreturn\u001b[39;00m \u001b[43mrun_async\u001b[49m\u001b[43m(\u001b[49m\u001b[38;5;28;43mself\u001b[39;49m\u001b[38;5;241;43m.\u001b[39;49m\u001b[43mrun\u001b[49m\u001b[43m,\u001b[49m\u001b[43m \u001b[49m\u001b[43mroute\u001b[49m\u001b[43m,\u001b[49m\u001b[43m \u001b[49m\u001b[43muser_settings\u001b[49m\u001b[43m,\u001b[49m\u001b[43m \u001b[49m\u001b[38;5;241;43m*\u001b[39;49m\u001b[43margs\u001b[49m\u001b[43m,\u001b[49m\u001b[43m \u001b[49m\u001b[38;5;241;43m*\u001b[39;49m\u001b[38;5;241;43m*\u001b[39;49m\u001b[43mkwargs\u001b[49m\u001b[43m)\u001b[49m\n",
      "File \u001b[1;32m~\\AppData\\Local\\pypoetry\\Cache\\virtualenvs\\py-quant-news-playground-0ZE7DJk8-py3.11\\Lib\\site-packages\\openbb_core\\provider\\utils\\helpers.py:280\u001b[0m, in \u001b[0;36mrun_async\u001b[1;34m(func, *args, **kwargs)\u001b[0m\n\u001b[0;32m    278\u001b[0m \u001b[38;5;28;01mwith\u001b[39;00m start_blocking_portal() \u001b[38;5;28;01mas\u001b[39;00m portal:\n\u001b[0;32m    279\u001b[0m     \u001b[38;5;28;01mtry\u001b[39;00m:\n\u001b[1;32m--> 280\u001b[0m         \u001b[38;5;28;01mreturn\u001b[39;00m \u001b[43mportal\u001b[49m\u001b[38;5;241;43m.\u001b[39;49m\u001b[43mcall\u001b[49m\u001b[43m(\u001b[49m\u001b[43mpartial\u001b[49m\u001b[43m(\u001b[49m\u001b[43mfunc\u001b[49m\u001b[43m,\u001b[49m\u001b[43m \u001b[49m\u001b[38;5;241;43m*\u001b[39;49m\u001b[43margs\u001b[49m\u001b[43m,\u001b[49m\u001b[43m \u001b[49m\u001b[38;5;241;43m*\u001b[39;49m\u001b[38;5;241;43m*\u001b[39;49m\u001b[43mkwargs\u001b[49m\u001b[43m)\u001b[49m\u001b[43m)\u001b[49m\n\u001b[0;32m    281\u001b[0m     \u001b[38;5;28;01mfinally\u001b[39;00m:\n\u001b[0;32m    282\u001b[0m         portal\u001b[38;5;241m.\u001b[39mcall(portal\u001b[38;5;241m.\u001b[39mstop)\n",
      "File \u001b[1;32m~\\AppData\\Local\\pypoetry\\Cache\\virtualenvs\\py-quant-news-playground-0ZE7DJk8-py3.11\\Lib\\site-packages\\anyio\\from_thread.py:277\u001b[0m, in \u001b[0;36mBlockingPortal.call\u001b[1;34m(self, func, *args)\u001b[0m\n\u001b[0;32m    264\u001b[0m \u001b[38;5;28;01mdef\u001b[39;00m \u001b[38;5;21mcall\u001b[39m(\n\u001b[0;32m    265\u001b[0m     \u001b[38;5;28mself\u001b[39m, func: Callable[\u001b[38;5;241m.\u001b[39m\u001b[38;5;241m.\u001b[39m\u001b[38;5;241m.\u001b[39m, Awaitable[T_Retval] \u001b[38;5;241m|\u001b[39m T_Retval], \u001b[38;5;241m*\u001b[39margs: \u001b[38;5;28mobject\u001b[39m\n\u001b[0;32m    266\u001b[0m ) \u001b[38;5;241m-\u001b[39m\u001b[38;5;241m>\u001b[39m T_Retval:\n\u001b[0;32m    267\u001b[0m \u001b[38;5;250m    \u001b[39m\u001b[38;5;124;03m\"\"\"\u001b[39;00m\n\u001b[0;32m    268\u001b[0m \u001b[38;5;124;03m    Call the given function in the event loop thread.\u001b[39;00m\n\u001b[0;32m    269\u001b[0m \n\u001b[1;32m   (...)\u001b[0m\n\u001b[0;32m    275\u001b[0m \n\u001b[0;32m    276\u001b[0m \u001b[38;5;124;03m    \"\"\"\u001b[39;00m\n\u001b[1;32m--> 277\u001b[0m     \u001b[38;5;28;01mreturn\u001b[39;00m cast(T_Retval, \u001b[38;5;28;43mself\u001b[39;49m\u001b[38;5;241;43m.\u001b[39;49m\u001b[43mstart_task_soon\u001b[49m\u001b[43m(\u001b[49m\u001b[43mfunc\u001b[49m\u001b[43m,\u001b[49m\u001b[43m \u001b[49m\u001b[38;5;241;43m*\u001b[39;49m\u001b[43margs\u001b[49m\u001b[43m)\u001b[49m\u001b[38;5;241;43m.\u001b[39;49m\u001b[43mresult\u001b[49m\u001b[43m(\u001b[49m\u001b[43m)\u001b[49m)\n",
      "File \u001b[1;32m~\\AppData\\Local\\Programs\\Python\\Python311\\Lib\\concurrent\\futures\\_base.py:456\u001b[0m, in \u001b[0;36mFuture.result\u001b[1;34m(self, timeout)\u001b[0m\n\u001b[0;32m    454\u001b[0m     \u001b[38;5;28;01mraise\u001b[39;00m CancelledError()\n\u001b[0;32m    455\u001b[0m \u001b[38;5;28;01melif\u001b[39;00m \u001b[38;5;28mself\u001b[39m\u001b[38;5;241m.\u001b[39m_state \u001b[38;5;241m==\u001b[39m FINISHED:\n\u001b[1;32m--> 456\u001b[0m     \u001b[38;5;28;01mreturn\u001b[39;00m \u001b[38;5;28;43mself\u001b[39;49m\u001b[38;5;241;43m.\u001b[39;49m\u001b[43m__get_result\u001b[49m\u001b[43m(\u001b[49m\u001b[43m)\u001b[49m\n\u001b[0;32m    457\u001b[0m \u001b[38;5;28;01melse\u001b[39;00m:\n\u001b[0;32m    458\u001b[0m     \u001b[38;5;28;01mraise\u001b[39;00m \u001b[38;5;167;01mTimeoutError\u001b[39;00m()\n",
      "File \u001b[1;32m~\\AppData\\Local\\Programs\\Python\\Python311\\Lib\\concurrent\\futures\\_base.py:401\u001b[0m, in \u001b[0;36mFuture.__get_result\u001b[1;34m(self)\u001b[0m\n\u001b[0;32m    399\u001b[0m \u001b[38;5;28;01mif\u001b[39;00m \u001b[38;5;28mself\u001b[39m\u001b[38;5;241m.\u001b[39m_exception:\n\u001b[0;32m    400\u001b[0m     \u001b[38;5;28;01mtry\u001b[39;00m:\n\u001b[1;32m--> 401\u001b[0m         \u001b[38;5;28;01mraise\u001b[39;00m \u001b[38;5;28mself\u001b[39m\u001b[38;5;241m.\u001b[39m_exception\n\u001b[0;32m    402\u001b[0m     \u001b[38;5;28;01mfinally\u001b[39;00m:\n\u001b[0;32m    403\u001b[0m         \u001b[38;5;66;03m# Break a reference cycle with the exception in self._exception\u001b[39;00m\n\u001b[0;32m    404\u001b[0m         \u001b[38;5;28mself\u001b[39m \u001b[38;5;241m=\u001b[39m \u001b[38;5;28;01mNone\u001b[39;00m\n",
      "File \u001b[1;32m~\\AppData\\Local\\pypoetry\\Cache\\virtualenvs\\py-quant-news-playground-0ZE7DJk8-py3.11\\Lib\\site-packages\\anyio\\from_thread.py:217\u001b[0m, in \u001b[0;36mBlockingPortal._call_func\u001b[1;34m(self, func, args, kwargs, future)\u001b[0m\n\u001b[0;32m    214\u001b[0m             \u001b[38;5;28;01melse\u001b[39;00m:\n\u001b[0;32m    215\u001b[0m                 future\u001b[38;5;241m.\u001b[39madd_done_callback(callback)\n\u001b[1;32m--> 217\u001b[0m             retval \u001b[38;5;241m=\u001b[39m \u001b[38;5;28;01mawait\u001b[39;00m retval\n\u001b[0;32m    218\u001b[0m \u001b[38;5;28;01mexcept\u001b[39;00m \u001b[38;5;28mself\u001b[39m\u001b[38;5;241m.\u001b[39m_cancelled_exc_class:\n\u001b[0;32m    219\u001b[0m     future\u001b[38;5;241m.\u001b[39mcancel()\n",
      "File \u001b[1;32m~\\AppData\\Local\\pypoetry\\Cache\\virtualenvs\\py-quant-news-playground-0ZE7DJk8-py3.11\\Lib\\site-packages\\openbb_core\\app\\command_runner.py:462\u001b[0m, in \u001b[0;36mCommandRunner.run\u001b[1;34m(self, route, user_settings, *args, **kwargs)\u001b[0m\n\u001b[0;32m    453\u001b[0m \u001b[38;5;28mself\u001b[39m\u001b[38;5;241m.\u001b[39m_user_settings \u001b[38;5;241m=\u001b[39m user_settings \u001b[38;5;129;01mor\u001b[39;00m \u001b[38;5;28mself\u001b[39m\u001b[38;5;241m.\u001b[39m_user_settings\n\u001b[0;32m    455\u001b[0m execution_context \u001b[38;5;241m=\u001b[39m ExecutionContext(\n\u001b[0;32m    456\u001b[0m     command_map\u001b[38;5;241m=\u001b[39m\u001b[38;5;28mself\u001b[39m\u001b[38;5;241m.\u001b[39m_command_map,\n\u001b[0;32m    457\u001b[0m     route\u001b[38;5;241m=\u001b[39mroute,\n\u001b[0;32m    458\u001b[0m     system_settings\u001b[38;5;241m=\u001b[39m\u001b[38;5;28mself\u001b[39m\u001b[38;5;241m.\u001b[39m_system_settings,\n\u001b[0;32m    459\u001b[0m     user_settings\u001b[38;5;241m=\u001b[39m\u001b[38;5;28mself\u001b[39m\u001b[38;5;241m.\u001b[39m_user_settings,\n\u001b[0;32m    460\u001b[0m )\n\u001b[1;32m--> 462\u001b[0m \u001b[38;5;28;01mreturn\u001b[39;00m \u001b[38;5;28;01mawait\u001b[39;00m StaticCommandRunner\u001b[38;5;241m.\u001b[39mrun(execution_context, \u001b[38;5;241m*\u001b[39margs, \u001b[38;5;241m*\u001b[39m\u001b[38;5;241m*\u001b[39mkwargs)\n",
      "File \u001b[1;32m~\\AppData\\Local\\pypoetry\\Cache\\virtualenvs\\py-quant-news-playground-0ZE7DJk8-py3.11\\Lib\\site-packages\\openbb_core\\app\\command_runner.py:377\u001b[0m, in \u001b[0;36mStaticCommandRunner.run\u001b[1;34m(cls, execution_context, *args, **kwargs)\u001b[0m\n\u001b[0;32m    374\u001b[0m route \u001b[38;5;241m=\u001b[39m execution_context\u001b[38;5;241m.\u001b[39mroute\n\u001b[0;32m    376\u001b[0m \u001b[38;5;28;01mif\u001b[39;00m func \u001b[38;5;241m:=\u001b[39m command_map\u001b[38;5;241m.\u001b[39mget_command(route\u001b[38;5;241m=\u001b[39mroute):\n\u001b[1;32m--> 377\u001b[0m     obbject \u001b[38;5;241m=\u001b[39m \u001b[38;5;28;01mawait\u001b[39;00m \u001b[38;5;28mcls\u001b[39m\u001b[38;5;241m.\u001b[39m_execute_func(\n\u001b[0;32m    378\u001b[0m         route\u001b[38;5;241m=\u001b[39mroute,\n\u001b[0;32m    379\u001b[0m         args\u001b[38;5;241m=\u001b[39margs,  \u001b[38;5;66;03m# type: ignore\u001b[39;00m\n\u001b[0;32m    380\u001b[0m         execution_context\u001b[38;5;241m=\u001b[39mexecution_context,\n\u001b[0;32m    381\u001b[0m         func\u001b[38;5;241m=\u001b[39mfunc,\n\u001b[0;32m    382\u001b[0m         kwargs\u001b[38;5;241m=\u001b[39mkwargs,\n\u001b[0;32m    383\u001b[0m     )\n\u001b[0;32m    384\u001b[0m \u001b[38;5;28;01melse\u001b[39;00m:\n\u001b[0;32m    385\u001b[0m     \u001b[38;5;28;01mraise\u001b[39;00m \u001b[38;5;167;01mAttributeError\u001b[39;00m(\u001b[38;5;124mf\u001b[39m\u001b[38;5;124m\"\u001b[39m\u001b[38;5;124mInvalid command : route=\u001b[39m\u001b[38;5;132;01m{\u001b[39;00mroute\u001b[38;5;132;01m}\u001b[39;00m\u001b[38;5;124m\"\u001b[39m)\n",
      "File \u001b[1;32m~\\AppData\\Local\\pypoetry\\Cache\\virtualenvs\\py-quant-news-playground-0ZE7DJk8-py3.11\\Lib\\site-packages\\openbb_core\\app\\command_runner.py:344\u001b[0m, in \u001b[0;36mStaticCommandRunner._execute_func\u001b[1;34m(cls, route, args, execution_context, func, kwargs)\u001b[0m\n\u001b[0;32m    338\u001b[0m         \u001b[38;5;28mcls\u001b[39m\u001b[38;5;241m.\u001b[39m_chart(\n\u001b[0;32m    339\u001b[0m             obbject\u001b[38;5;241m=\u001b[39mobbject,\n\u001b[0;32m    340\u001b[0m             \u001b[38;5;241m*\u001b[39m\u001b[38;5;241m*\u001b[39mkwargs,\n\u001b[0;32m    341\u001b[0m         )\n\u001b[0;32m    343\u001b[0m \u001b[38;5;28;01mexcept\u001b[39;00m \u001b[38;5;167;01mException\u001b[39;00m \u001b[38;5;28;01mas\u001b[39;00m e:\n\u001b[1;32m--> 344\u001b[0m     \u001b[38;5;28;01mraise\u001b[39;00m OpenBBError(e) \u001b[38;5;28;01mfrom\u001b[39;00m \u001b[38;5;21;01me\u001b[39;00m\n\u001b[0;32m    345\u001b[0m \u001b[38;5;28;01mfinally\u001b[39;00m:\n\u001b[0;32m    346\u001b[0m     ls \u001b[38;5;241m=\u001b[39m LoggingService(\n\u001b[0;32m    347\u001b[0m         user_settings\u001b[38;5;241m=\u001b[39muser_settings, system_settings\u001b[38;5;241m=\u001b[39msystem_settings\n\u001b[0;32m    348\u001b[0m     )\n",
      "\u001b[1;31mOpenBBError\u001b[0m: Missing credential 'fred_api_key'. Check https://fred.stlouisfed.org/ to get it."
     ]
    }
   ],
   "source": [
    "us10year = obb.economy.fred_series(\n",
    "    \"DGS10\", frequency=\"wem\", start_date=\"2000-08-28\", end_date=\"2023-11-27\"\n",
    ").to_df()[[\"DGS10\"]]\n",
    "\n",
    "us10year.index = us10year.index.strftime(\"%Y-%m-%d\")\n",
    "data[\"US 10-Year Constant Maturity\"] = us10year[\"DGS10\"]\n",
    "\n",
    "data.head(2)"
   ]
  },
  {
   "attachments": {},
   "cell_type": "markdown",
   "metadata": {},
   "source": [
    "With all the data collected, let's draw the chart to visualize the relationship."
   ]
  },
  {
   "cell_type": "code",
   "execution_count": null,
   "metadata": {
    "ExecuteTime": {
     "start_time": "2024-02-17T12:19:14.164995500Z"
    }
   },
   "outputs": [],
   "source": [
    "fig = go.Figure()\n",
    "fig.add_scatter(\n",
    "    x=data.index, y=data[\"Copper/Gold Ratio\"], name=\"Copper/Gold Ratio (x1000) %\"\n",
    ")\n",
    "fig.add_scatter(\n",
    "    x=data.index,\n",
    "    y=data[\"US 10-Year Constant Maturity\"],\n",
    "    name=\"US 10-Year Constant Maturity %\",\n",
    ")\n",
    "fig.update(\n",
    "    {\n",
    "        \"layout\": {\n",
    "            \"xaxis\": {\"title\": \"Date\"},\n",
    "            \"yaxis\": {\"title\": \"%\"},\n",
    "            \"title\": \"Copper/Gold Ratio vs. US 10-Year Constant Maturity\",\n",
    "            \"title_y\": 0.90,\n",
    "            \"title_x\": 0.5,\n",
    "        }\n",
    "    }\n",
    ")\n",
    "fig.update_layout(legend=dict(yanchor=\"top\", y=1, xanchor=\"right\", x=1.0))"
   ]
  },
  {
   "attachments": {},
   "cell_type": "markdown",
   "metadata": {},
   "source": [
    "What we have currently is the price relationship between one Troy ounce of gold and one pound of copper.  As we described the copper-to-gold ratio as the price-per-ounce of each, some adjustments are required to be true to the definition.\n",
    "\n",
    "- 1 ounce = 0.911458 Troy ounces\n",
    "- 1 pound = 16 ounces\n",
    "  \n",
    "To adjust the gold price as USD/ounce, multiply each row by 0.911458.  To adjust the copper price, divide each row by 16."
   ]
  },
  {
   "cell_type": "code",
   "execution_count": null,
   "metadata": {
    "ExecuteTime": {
     "end_time": "2024-02-17T12:19:14.169995400Z",
     "start_time": "2024-02-17T12:19:14.165994600Z"
    }
   },
   "outputs": [],
   "source": [
    "data[\"Copper/Gold Ratio per Ounce (x1000) %\"] = (\n",
    "    (data[\"Copper\"] / 16) / (data[\"Gold\"] * 0.911458)\n",
    ") * 1000\n",
    "\n",
    "data.tail(2)"
   ]
  },
  {
   "cell_type": "markdown",
   "metadata": {},
   "source": [
    "Now let's draw it!"
   ]
  },
  {
   "cell_type": "code",
   "execution_count": null,
   "metadata": {
    "ExecuteTime": {
     "start_time": "2024-02-17T12:19:14.166995Z"
    }
   },
   "outputs": [],
   "source": [
    "fig = go.Figure()\n",
    "\n",
    "# Add the first scatter trace with its own y-axis\n",
    "fig.add_scatter(\n",
    "    x=data.index,\n",
    "    y=data[\"Copper/Gold Ratio\"],\n",
    "    name=\"Copper/Gold Ratio (x1000) %\",\n",
    "    yaxis=\"y1\",\n",
    ")\n",
    "\n",
    "# Add the second scatter trace with its own y-axis\n",
    "fig.add_scatter(\n",
    "    x=data.index,\n",
    "    y=data[\"US 10-Year Constant Maturity\"],\n",
    "    name=\"US 10-Year Constant Maturity %\",\n",
    "    yaxis=\"y2\",\n",
    ")\n",
    "\n",
    "# Update the layout to include the y-axes and their titles\n",
    "fig.update_layout(\n",
    "    yaxis=dict(\n",
    "        title=\"Copper/Gold Ratio (x1000) %\",\n",
    "        side=\"left\",\n",
    "        position=0,\n",
    "        titlefont=dict(size=12),\n",
    "        showgrid=False,\n",
    "    ),\n",
    "    yaxis2=dict(\n",
    "        title=\"US 10-Year Constant Maturity %\",\n",
    "        side=\"right\",\n",
    "        overlaying=\"y\",\n",
    "        position=1,\n",
    "        titlefont=dict(size=12),\n",
    "    ),\n",
    "    xaxis=dict(title=\"Date\"),\n",
    "    title=\"Copper/Gold Ratio vs. US 10-Year Constant Maturity\",\n",
    "    title_y=0.90,\n",
    "    title_x=0.5,\n",
    ")\n",
    "\n",
    "# Set the legend position\n",
    "fig.update_layout(\n",
    "    legend=dict(yanchor=\"top\", y=1, xanchor=\"right\", x=1.0, font=dict(size=10))\n",
    ")\n",
    "\n",
    "# Show the plot\n",
    "fig.show()"
   ]
  },
  {
   "attachments": {},
   "cell_type": "markdown",
   "metadata": {},
   "source": [
    "There you have it, folks!  The OpenBB Platform provides endless possibilities for creating unique indicators and analysis with the wide variety of data available at your fingertips.  We love seeing the creations of users, so be sure to tag us on social media and show off your work."
   ]
  }
 ],
 "metadata": {
  "kernelspec": {
   "display_name": "obb",
   "language": "python",
   "name": "python3"
  },
  "language_info": {
   "codemirror_mode": {
    "name": "ipython",
    "version": 3
   },
   "file_extension": ".py",
   "mimetype": "text/x-python",
   "name": "python",
   "nbconvert_exporter": "python",
   "pygments_lexer": "ipython3",
   "version": "3.11.4"
  },
  "orig_nbformat": 4
 },
 "nbformat": 4,
 "nbformat_minor": 2
}
