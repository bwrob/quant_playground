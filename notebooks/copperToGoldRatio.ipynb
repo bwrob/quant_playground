{
 "cells": [
  {
   "attachments": {},
   "cell_type": "markdown",
   "metadata": {},
   "source": [
    "# The Copper-to-Gold Ratio Using the OpenBB SDK\n",
    "\n",
    "The copper-to-gold ratio is known as a leading economic indicator.  It is most commonly paired as a time series with the ten-year US Treasury yield. The notable events are the divergences in directional movement, signaling a fundamental regime change that will unfold over months and years.  Not something to go YOLO into, but a metric to shape a long-term view of global economic conditions.\n",
    "\n",
    "The ratio is defined as dividing the spot price of one ounce of copper by an ounce gold.  How much copper is bought with one ouce of gold.  Sounds simple enough,  divide the price of copper by the price of gold, done.  The OpenBB Platform can make quick work out of this task, really quick.  Let's explore."
   ]
  },
  {
   "cell_type": "code",
   "execution_count": null,
   "metadata": {},
   "outputs": [],
   "source": [
    "# Import the Platform and Pandas for some calculations.\n",
    "\n",
    "import pandas as pd\n",
    "import plotly.graph_objects as go\n",
    "from openbb import obb"
   ]
  },
  {
   "attachments": {},
   "cell_type": "markdown",
   "metadata": {},
   "source": [
    "The most accessible data is going to be the continuous front-month futures contracts for physical delivery, listed on the CME.  We'll create a Pandas Series for each asset, requesting weekly historical data using the `openbb-yfinance` data extension."
   ]
  },
  {
   "cell_type": "code",
   "execution_count": null,
   "metadata": {},
   "outputs": [],
   "source": [
    "data = pd.DataFrame()\n",
    "cols_dict = {\"GC\": \"Gold\", \"HG\": \"Copper\"}\n",
    "for symbol in [\"GC\", \"HG\"]:\n",
    "    data[symbol] = (\n",
    "        obb.derivatives.futures.historical(\n",
    "            symbol,\n",
    "            start_date=\"2000-01-01\",\n",
    "            interval=\"1wk\",\n",
    "        )\n",
    "        .to_df()[\"close\"]\n",
    "        .rename(symbol)\n",
    "    )\n",
    "data.columns = cols_dict.values()\n",
    "data.index = data.index.strftime(\"%Y-%m-%d\")"
   ]
  },
  {
   "attachments": {},
   "cell_type": "markdown",
   "metadata": {},
   "source": [
    "Let's inspect the results."
   ]
  },
  {
   "cell_type": "code",
   "execution_count": null,
   "metadata": {},
   "outputs": [],
   "source": [
    "data.head(2)"
   ]
  },
  {
   "attachments": {},
   "cell_type": "markdown",
   "metadata": {},
   "source": [
    "To get the copper-to-gold ratio, divide the two columns along each row."
   ]
  },
  {
   "cell_type": "code",
   "execution_count": null,
   "metadata": {},
   "outputs": [],
   "source": [
    "data[\"Copper/Gold Ratio\"] = data[\"Copper\"] / data[\"Gold\"]\n",
    "\n",
    "data.tail(2)"
   ]
  },
  {
   "attachments": {},
   "cell_type": "markdown",
   "metadata": {},
   "source": [
    "Because the numbers are so small, the ratio is often be presented as a % value.  0.2% is a popular way to display the value.  However, to plot it on the same y-axis as a Treasury yield, it needs to be multiplied by 1000.  Let's alter the block above to include this."
   ]
  },
  {
   "cell_type": "code",
   "execution_count": null,
   "metadata": {},
   "outputs": [],
   "source": [
    "data[\"Copper/Gold Ratio\"] = (data[\"Copper\"] / data[\"Gold\"]) * 1000\n",
    "\n",
    "data.tail(2)"
   ]
  },
  {
   "attachments": {},
   "cell_type": "markdown",
   "metadata": {},
   "source": [
    "Now let's add a column for the daily 10 Year US Treasury Yield.  This can be requested using the `fred_series` function within the `economy` module.  The first line in the block below requests the data, the second assigns it to a column in the target DataFrame."
   ]
  },
  {
   "cell_type": "code",
   "execution_count": null,
   "metadata": {},
   "outputs": [],
   "source": [
    "us10year = obb.economy.fred_series(\n",
    "    \"DGS10\", frequency=\"wem\", start_date=\"2000-08-28\", end_date=\"2023-11-27\"\n",
    ").to_df()[[\"DGS10\"]]\n",
    "\n",
    "us10year.index = us10year.index.strftime(\"%Y-%m-%d\")\n",
    "data[\"US 10-Year Constant Maturity\"] = us10year[\"DGS10\"]\n",
    "\n",
    "data.head(2)"
   ]
  },
  {
   "attachments": {},
   "cell_type": "markdown",
   "metadata": {},
   "source": [
    "With all the data collected, let's draw the chart to visualize the relationship."
   ]
  },
  {
   "cell_type": "code",
   "execution_count": null,
   "metadata": {},
   "outputs": [],
   "source": [
    "fig = go.Figure()\n",
    "fig.add_scatter(\n",
    "    x=data.index, y=data[\"Copper/Gold Ratio\"], name=\"Copper/Gold Ratio (x1000) %\"\n",
    ")\n",
    "fig.add_scatter(\n",
    "    x=data.index,\n",
    "    y=data[\"US 10-Year Constant Maturity\"],\n",
    "    name=\"US 10-Year Constant Maturity %\",\n",
    ")\n",
    "fig.update(\n",
    "    {\n",
    "        \"layout\": {\n",
    "            \"xaxis\": {\"title\": \"Date\"},\n",
    "            \"yaxis\": {\"title\": \"%\"},\n",
    "            \"title\": \"Copper/Gold Ratio vs. US 10-Year Constant Maturity\",\n",
    "            \"title_y\": 0.90,\n",
    "            \"title_x\": 0.5,\n",
    "        }\n",
    "    }\n",
    ")\n",
    "fig.update_layout(legend=dict(yanchor=\"top\", y=1, xanchor=\"right\", x=1.0))"
   ]
  },
  {
   "attachments": {},
   "cell_type": "markdown",
   "metadata": {},
   "source": [
    "What we have currently is the price relationship between one Troy ounce of gold and one pound of copper.  As we described the copper-to-gold ratio as the price-per-ounce of each, some adjustments are required to be true to the definition.\n",
    "\n",
    "- 1 ounce = 0.911458 Troy ounces\n",
    "- 1 pound = 16 ounces\n",
    "  \n",
    "To adjust the gold price as USD/ounce, multiply each row by 0.911458.  To adjust the copper price, divide each row by 16."
   ]
  },
  {
   "cell_type": "code",
   "execution_count": null,
   "metadata": {},
   "outputs": [],
   "source": [
    "data[\"Copper/Gold Ratio per Ounce (x1000) %\"] = (\n",
    "    (data[\"Copper\"] / 16) / (data[\"Gold\"] * 0.911458)\n",
    ") * 1000\n",
    "\n",
    "data.tail(2)"
   ]
  },
  {
   "cell_type": "markdown",
   "metadata": {},
   "source": [
    "Now let's draw it!"
   ]
  },
  {
   "cell_type": "code",
   "execution_count": null,
   "metadata": {},
   "outputs": [],
   "source": [
    "fig = go.Figure()\n",
    "\n",
    "# Add the first scatter trace with its own y-axis\n",
    "fig.add_scatter(\n",
    "    x=data.index,\n",
    "    y=data[\"Copper/Gold Ratio\"],\n",
    "    name=\"Copper/Gold Ratio (x1000) %\",\n",
    "    yaxis=\"y1\",\n",
    ")\n",
    "\n",
    "# Add the second scatter trace with its own y-axis\n",
    "fig.add_scatter(\n",
    "    x=data.index,\n",
    "    y=data[\"US 10-Year Constant Maturity\"],\n",
    "    name=\"US 10-Year Constant Maturity %\",\n",
    "    yaxis=\"y2\",\n",
    ")\n",
    "\n",
    "# Update the layout to include the y-axes and their titles\n",
    "fig.update_layout(\n",
    "    yaxis=dict(\n",
    "        title=\"Copper/Gold Ratio (x1000) %\",\n",
    "        side=\"left\",\n",
    "        position=0,\n",
    "        titlefont=dict(size=12),\n",
    "        showgrid=False,\n",
    "    ),\n",
    "    yaxis2=dict(\n",
    "        title=\"US 10-Year Constant Maturity %\",\n",
    "        side=\"right\",\n",
    "        overlaying=\"y\",\n",
    "        position=1,\n",
    "        titlefont=dict(size=12),\n",
    "    ),\n",
    "    xaxis=dict(title=\"Date\"),\n",
    "    title=\"Copper/Gold Ratio vs. US 10-Year Constant Maturity\",\n",
    "    title_y=0.90,\n",
    "    title_x=0.5,\n",
    ")\n",
    "\n",
    "# Set the legend position\n",
    "fig.update_layout(\n",
    "    legend=dict(yanchor=\"top\", y=1, xanchor=\"right\", x=1.0, font=dict(size=10))\n",
    ")\n",
    "\n",
    "# Show the plot\n",
    "fig.show()"
   ]
  },
  {
   "attachments": {},
   "cell_type": "markdown",
   "metadata": {},
   "source": [
    "There you have it, folks!  The OpenBB Platform provides endless possibilities for creating unique indicators and analysis with the wide variety of data available at your fingertips.  We love seeing the creations of users, so be sure to tag us on social media and show off your work."
   ]
  }
 ],
 "metadata": {
  "kernelspec": {
   "display_name": "obb",
   "language": "python",
   "name": "python3"
  },
  "language_info": {
   "codemirror_mode": {
    "name": "ipython",
    "version": 3
   },
   "file_extension": ".py",
   "mimetype": "text/x-python",
   "name": "python",
   "nbconvert_exporter": "python",
   "pygments_lexer": "ipython3",
   "version": "3.11.4"
  },
  "orig_nbformat": 4
 },
 "nbformat": 4,
 "nbformat_minor": 2
}
