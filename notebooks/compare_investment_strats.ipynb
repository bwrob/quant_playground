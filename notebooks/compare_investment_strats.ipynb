{
 "cells": [
  {
   "cell_type": "code",
   "execution_count": null,
   "id": "6c573e2b05a787f7",
   "metadata": {
    "collapsed": false
   },
   "outputs": [],
   "source": [
    "from plotly.io import show\n",
    "from sklearn.model_selection import train_test_split\n",
    "from skfolio import Population\n",
    "from skfolio.optimization import EqualWeighted, MaximumDiversification, Random\n",
    "from skfolio.preprocessing import prices_to_returns\n",
    "from openbb import obb\n",
    "from itertools import chain, combinations"
   ]
  },
  {
   "cell_type": "code",
   "outputs": [],
   "source": [
    "sectors = [\n",
    "    \"SPY\",\n",
    "    \"QYLD\",\n",
    "    \"XYLD\",\n",
    "    \"ALV.DE\",\n",
    "    \"CDR.WA\",\n",
    "]"
   ],
   "metadata": {
    "collapsed": true
   },
   "id": "initial_id",
   "execution_count": null
  },
  {
   "cell_type": "code",
   "outputs": [],
   "source": [
    "def powerset(iterable):\n",
    "    \"\"\"\n",
    "    powerset([1,2,3]) --> () (1,) (2,) (3,) (1,2) (1,3) (2,3) (1,2,3)\n",
    "    \"\"\"\n",
    "    xs = list(iterable)\n",
    "    # note we return an iterator rather than a list\n",
    "    return chain.from_iterable(combinations(xs, n) for n in range(2, len(xs) + 1))"
   ],
   "metadata": {
    "collapsed": false
   },
   "id": "9a51f3571fcb9bc5",
   "execution_count": null
  },
  {
   "cell_type": "code",
   "outputs": [],
   "source": [
    "df = obb.equity.price.historical(\n",
    "    sectors, start_date=\"2015-01-01\", provider=\"yfinance\"\n",
    ").to_df()\n",
    "pivoted = df.pivot(columns=\"symbol\", values=\"close\").dropna()\n",
    "pivoted"
   ],
   "metadata": {
    "collapsed": false
   },
   "id": "88b44cdfce112353",
   "execution_count": null
  },
  {
   "cell_type": "code",
   "outputs": [],
   "source": [],
   "metadata": {
    "collapsed": false
   },
   "id": "44d461d6e6859edb",
   "execution_count": null
  },
  {
   "cell_type": "code",
   "outputs": [],
   "source": [
    "X = prices_to_returns(pivoted)\n",
    "\n",
    "X_train, X_test = train_test_split(X, test_size=0.2, shuffle=False)\n",
    "X"
   ],
   "metadata": {
    "collapsed": false
   },
   "id": "dd71cc45c2376a79",
   "execution_count": null
  },
  {
   "cell_type": "code",
   "outputs": [],
   "source": [
    "model = MaximumDiversification()\n",
    "model.fit(X_train)\n",
    "ptf_model_train = model.predict(X_train)\n",
    "\n",
    "bench = EqualWeighted()\n",
    "bench.fit(X_train)\n",
    "ptf_bench_train = bench.predict(X_train)\n",
    "\n",
    "random = Random()\n",
    "random.fit(X_train)\n",
    "ptf_random_train = random.predict(X_train)\n",
    "\n",
    "print(f\"Maximum Diversification: {ptf_model_train.diversification:0.2f}\")\n",
    "print(f\"Equal Weighted model: {ptf_bench_train.diversification:0.2f}\")\n",
    "print(f\"Random Weighted model: {ptf_random_train.diversification:0.2f}\")"
   ],
   "metadata": {
    "collapsed": false
   },
   "id": "2ae99fec9c1d48a9",
   "execution_count": null
  },
  {
   "cell_type": "code",
   "outputs": [],
   "source": [
    "ptf_model_test = model.predict(X_test)\n",
    "ptf_bench_test = bench.predict(X_test)\n",
    "ptf_random_test = random.predict(X_test)\n",
    "population = Population([ptf_model_test, ptf_bench_test, ptf_random_test])"
   ],
   "metadata": {
    "collapsed": false
   },
   "id": "d50c7056b02fee34",
   "execution_count": null
  },
  {
   "cell_type": "code",
   "outputs": [],
   "source": [
    "population.plot_composition()"
   ],
   "metadata": {
    "collapsed": false
   },
   "id": "84cef5d4ba40b5e2",
   "execution_count": null
  },
  {
   "cell_type": "code",
   "outputs": [],
   "source": [
    "population.plot_cumulative_returns()"
   ],
   "metadata": {
    "collapsed": false
   },
   "id": "c89aaa32885c1267",
   "execution_count": null
  },
  {
   "cell_type": "code",
   "outputs": [],
   "source": [
    "population.summary()"
   ],
   "metadata": {
    "collapsed": false
   },
   "id": "930fe7fa9a725b1b",
   "execution_count": null
  }
 ],
 "metadata": {
  "kernelspec": {
   "display_name": "Python 3",
   "language": "python",
   "name": "python3"
  },
  "language_info": {
   "codemirror_mode": {
    "name": "ipython",
    "version": 2
   },
   "file_extension": ".py",
   "mimetype": "text/x-python",
   "name": "python",
   "nbconvert_exporter": "python",
   "pygments_lexer": "ipython2",
   "version": "2.7.6"
  }
 },
 "nbformat": 4,
 "nbformat_minor": 5
}
