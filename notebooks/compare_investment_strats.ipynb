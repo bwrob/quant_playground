{
 "cells": [
  {
   "cell_type": "code",
   "execution_count": 111,
   "id": "6c573e2b05a787f7",
   "metadata": {
    "collapsed": false,
    "ExecuteTime": {
     "end_time": "2024-02-17T16:15:03.822505400Z",
     "start_time": "2024-02-17T16:15:03.814877100Z"
    }
   },
   "outputs": [],
   "source": [
    "from plotly.io import show\n",
    "from sklearn.model_selection import train_test_split\n",
    "from skfolio import Population\n",
    "from skfolio.optimization import EqualWeighted, MaximumDiversification, Random\n",
    "from skfolio.preprocessing import prices_to_returns\n",
    "from openbb import obb\n",
    "from itertools import chain, combinations"
   ]
  },
  {
   "cell_type": "code",
   "outputs": [],
   "source": [
    "sectors = [\n",
    "    \"SPY\",\n",
    "    \"QYLD\",\n",
    "    \"XYLD\",\n",
    "    \"ALV.DE\",\n",
    "    \"CDR.WA\",\n",
    "]"
   ],
   "metadata": {
    "collapsed": true,
    "ExecuteTime": {
     "end_time": "2024-02-17T16:15:03.826369500Z",
     "start_time": "2024-02-17T16:15:03.823950300Z"
    }
   },
   "id": "initial_id",
   "execution_count": 112
  },
  {
   "cell_type": "code",
   "outputs": [],
   "source": [
    "def powerset(iterable):\n",
    "    \"\"\"\n",
    "    powerset([1,2,3]) --> () (1,) (2,) (3,) (1,2) (1,3) (2,3) (1,2,3)\n",
    "    \"\"\"\n",
    "    xs = list(iterable)\n",
    "    # note we return an iterator rather than a list\n",
    "    return chain.from_iterable(combinations(xs,n) for n in range(2,len(xs)+1))"
   ],
   "metadata": {
    "collapsed": false,
    "ExecuteTime": {
     "end_time": "2024-02-17T16:15:03.837875700Z",
     "start_time": "2024-02-17T16:15:03.825457Z"
    }
   },
   "id": "9a51f3571fcb9bc5",
   "execution_count": 113
  },
  {
   "cell_type": "code",
   "outputs": [
    {
     "name": "stderr",
     "output_type": "stream",
     "text": [
      "C:\\Users\\bw200\\AppData\\Local\\pypoetry\\Cache\\virtualenvs\\py-quant-news-playground-0ZE7DJk8-py3.11\\Lib\\site-packages\\yfinance\\utils.py:775: FutureWarning:\n",
      "\n",
      "The 'unit' keyword in TimedeltaIndex construction is deprecated and will be removed in a future version. Use pd.to_timedelta instead.\n",
      "\n",
      "C:\\Users\\bw200\\AppData\\Local\\pypoetry\\Cache\\virtualenvs\\py-quant-news-playground-0ZE7DJk8-py3.11\\Lib\\site-packages\\yfinance\\utils.py:775: FutureWarning:\n",
      "\n",
      "The 'unit' keyword in TimedeltaIndex construction is deprecated and will be removed in a future version. Use pd.to_timedelta instead.\n",
      "\n",
      "C:\\Users\\bw200\\AppData\\Local\\pypoetry\\Cache\\virtualenvs\\py-quant-news-playground-0ZE7DJk8-py3.11\\Lib\\site-packages\\yfinance\\utils.py:775: FutureWarning:\n",
      "\n",
      "The 'unit' keyword in TimedeltaIndex construction is deprecated and will be removed in a future version. Use pd.to_timedelta instead.\n",
      "\n",
      "C:\\Users\\bw200\\AppData\\Local\\pypoetry\\Cache\\virtualenvs\\py-quant-news-playground-0ZE7DJk8-py3.11\\Lib\\site-packages\\yfinance\\utils.py:775: FutureWarning:\n",
      "\n",
      "The 'unit' keyword in TimedeltaIndex construction is deprecated and will be removed in a future version. Use pd.to_timedelta instead.\n",
      "\n",
      "C:\\Users\\bw200\\AppData\\Local\\pypoetry\\Cache\\virtualenvs\\py-quant-news-playground-0ZE7DJk8-py3.11\\Lib\\site-packages\\yfinance\\utils.py:775: FutureWarning:\n",
      "\n",
      "The 'unit' keyword in TimedeltaIndex construction is deprecated and will be removed in a future version. Use pd.to_timedelta instead.\n",
      "\n"
     ]
    },
    {
     "data": {
      "text/plain": "symbol      ALV.DE  CDR.WA   QYLD     SPY   XYLD\ndate                                            \n2015-01-02  136.70   16.80  23.81  205.43  45.64\n2015-01-05  133.35   16.62  23.61  201.72  44.86\n2015-01-06  133.50   16.62  23.43  199.82  44.42\n2015-01-07  134.75   16.84  23.55  202.31  44.93\n2015-01-08  138.30   16.82  24.00  205.90  45.60\n...            ...     ...    ...     ...    ...\n2024-02-12  246.25  113.35  17.87  500.98  40.11\n2024-02-13  245.70  109.30  17.87  494.08  40.14\n2024-02-14  244.60  110.30  17.89  498.57  40.15\n2024-02-15  246.00  113.75  17.89  502.01  40.18\n2024-02-16  247.10  114.50  17.80  499.51  40.11\n\n[2254 rows x 5 columns]",
      "text/html": "<div>\n<style scoped>\n    .dataframe tbody tr th:only-of-type {\n        vertical-align: middle;\n    }\n\n    .dataframe tbody tr th {\n        vertical-align: top;\n    }\n\n    .dataframe thead th {\n        text-align: right;\n    }\n</style>\n<table border=\"1\" class=\"dataframe\">\n  <thead>\n    <tr style=\"text-align: right;\">\n      <th>symbol</th>\n      <th>ALV.DE</th>\n      <th>CDR.WA</th>\n      <th>QYLD</th>\n      <th>SPY</th>\n      <th>XYLD</th>\n    </tr>\n    <tr>\n      <th>date</th>\n      <th></th>\n      <th></th>\n      <th></th>\n      <th></th>\n      <th></th>\n    </tr>\n  </thead>\n  <tbody>\n    <tr>\n      <th>2015-01-02</th>\n      <td>136.70</td>\n      <td>16.80</td>\n      <td>23.81</td>\n      <td>205.43</td>\n      <td>45.64</td>\n    </tr>\n    <tr>\n      <th>2015-01-05</th>\n      <td>133.35</td>\n      <td>16.62</td>\n      <td>23.61</td>\n      <td>201.72</td>\n      <td>44.86</td>\n    </tr>\n    <tr>\n      <th>2015-01-06</th>\n      <td>133.50</td>\n      <td>16.62</td>\n      <td>23.43</td>\n      <td>199.82</td>\n      <td>44.42</td>\n    </tr>\n    <tr>\n      <th>2015-01-07</th>\n      <td>134.75</td>\n      <td>16.84</td>\n      <td>23.55</td>\n      <td>202.31</td>\n      <td>44.93</td>\n    </tr>\n    <tr>\n      <th>2015-01-08</th>\n      <td>138.30</td>\n      <td>16.82</td>\n      <td>24.00</td>\n      <td>205.90</td>\n      <td>45.60</td>\n    </tr>\n    <tr>\n      <th>...</th>\n      <td>...</td>\n      <td>...</td>\n      <td>...</td>\n      <td>...</td>\n      <td>...</td>\n    </tr>\n    <tr>\n      <th>2024-02-12</th>\n      <td>246.25</td>\n      <td>113.35</td>\n      <td>17.87</td>\n      <td>500.98</td>\n      <td>40.11</td>\n    </tr>\n    <tr>\n      <th>2024-02-13</th>\n      <td>245.70</td>\n      <td>109.30</td>\n      <td>17.87</td>\n      <td>494.08</td>\n      <td>40.14</td>\n    </tr>\n    <tr>\n      <th>2024-02-14</th>\n      <td>244.60</td>\n      <td>110.30</td>\n      <td>17.89</td>\n      <td>498.57</td>\n      <td>40.15</td>\n    </tr>\n    <tr>\n      <th>2024-02-15</th>\n      <td>246.00</td>\n      <td>113.75</td>\n      <td>17.89</td>\n      <td>502.01</td>\n      <td>40.18</td>\n    </tr>\n    <tr>\n      <th>2024-02-16</th>\n      <td>247.10</td>\n      <td>114.50</td>\n      <td>17.80</td>\n      <td>499.51</td>\n      <td>40.11</td>\n    </tr>\n  </tbody>\n</table>\n<p>2254 rows × 5 columns</p>\n</div>"
     },
     "execution_count": 114,
     "metadata": {},
     "output_type": "execute_result"
    }
   ],
   "source": [
    "df = obb.equity.price.historical(\n",
    "    sectors, start_date=\"2015-01-01\", provider=\"yfinance\"\n",
    ").to_df()\n",
    "pivoted = df.pivot(columns=\"symbol\", values=\"close\").dropna()\n",
    "pivoted"
   ],
   "metadata": {
    "collapsed": false,
    "ExecuteTime": {
     "end_time": "2024-02-17T16:15:05.088518900Z",
     "start_time": "2024-02-17T16:15:03.827875300Z"
    }
   },
   "id": "88b44cdfce112353",
   "execution_count": 114
  },
  {
   "cell_type": "code",
   "outputs": [],
   "source": [],
   "metadata": {
    "collapsed": false,
    "ExecuteTime": {
     "end_time": "2024-02-17T16:15:05.088518900Z",
     "start_time": "2024-02-17T16:15:05.080491800Z"
    }
   },
   "id": "44d461d6e6859edb",
   "execution_count": 114
  },
  {
   "cell_type": "code",
   "outputs": [
    {
     "data": {
      "text/plain": "symbol        ALV.DE    CDR.WA      QYLD       SPY      XYLD\ndate                                                        \n2015-01-05 -0.024506 -0.010714 -0.008400 -0.018060 -0.017090\n2015-01-06  0.001125  0.000000 -0.007624 -0.009419 -0.009808\n2015-01-07  0.009363  0.013237  0.005122  0.012461  0.011481\n2015-01-08  0.026345 -0.001188  0.019108  0.017745  0.014912\n2015-01-09 -0.017715  0.001784 -0.005833 -0.008014 -0.001754\n...              ...       ...       ...       ...       ...\n2024-02-12  0.013374  0.019335  0.000560 -0.000439 -0.000747\n2024-02-13 -0.002234 -0.035730  0.000000 -0.013773  0.000748\n2024-02-14 -0.004477  0.009149  0.001119  0.009088  0.000249\n2024-02-15  0.005724  0.031278  0.000000  0.006900  0.000747\n2024-02-16  0.004472  0.006593 -0.005031 -0.004980 -0.001742\n\n[2253 rows x 5 columns]",
      "text/html": "<div>\n<style scoped>\n    .dataframe tbody tr th:only-of-type {\n        vertical-align: middle;\n    }\n\n    .dataframe tbody tr th {\n        vertical-align: top;\n    }\n\n    .dataframe thead th {\n        text-align: right;\n    }\n</style>\n<table border=\"1\" class=\"dataframe\">\n  <thead>\n    <tr style=\"text-align: right;\">\n      <th>symbol</th>\n      <th>ALV.DE</th>\n      <th>CDR.WA</th>\n      <th>QYLD</th>\n      <th>SPY</th>\n      <th>XYLD</th>\n    </tr>\n    <tr>\n      <th>date</th>\n      <th></th>\n      <th></th>\n      <th></th>\n      <th></th>\n      <th></th>\n    </tr>\n  </thead>\n  <tbody>\n    <tr>\n      <th>2015-01-05</th>\n      <td>-0.024506</td>\n      <td>-0.010714</td>\n      <td>-0.008400</td>\n      <td>-0.018060</td>\n      <td>-0.017090</td>\n    </tr>\n    <tr>\n      <th>2015-01-06</th>\n      <td>0.001125</td>\n      <td>0.000000</td>\n      <td>-0.007624</td>\n      <td>-0.009419</td>\n      <td>-0.009808</td>\n    </tr>\n    <tr>\n      <th>2015-01-07</th>\n      <td>0.009363</td>\n      <td>0.013237</td>\n      <td>0.005122</td>\n      <td>0.012461</td>\n      <td>0.011481</td>\n    </tr>\n    <tr>\n      <th>2015-01-08</th>\n      <td>0.026345</td>\n      <td>-0.001188</td>\n      <td>0.019108</td>\n      <td>0.017745</td>\n      <td>0.014912</td>\n    </tr>\n    <tr>\n      <th>2015-01-09</th>\n      <td>-0.017715</td>\n      <td>0.001784</td>\n      <td>-0.005833</td>\n      <td>-0.008014</td>\n      <td>-0.001754</td>\n    </tr>\n    <tr>\n      <th>...</th>\n      <td>...</td>\n      <td>...</td>\n      <td>...</td>\n      <td>...</td>\n      <td>...</td>\n    </tr>\n    <tr>\n      <th>2024-02-12</th>\n      <td>0.013374</td>\n      <td>0.019335</td>\n      <td>0.000560</td>\n      <td>-0.000439</td>\n      <td>-0.000747</td>\n    </tr>\n    <tr>\n      <th>2024-02-13</th>\n      <td>-0.002234</td>\n      <td>-0.035730</td>\n      <td>0.000000</td>\n      <td>-0.013773</td>\n      <td>0.000748</td>\n    </tr>\n    <tr>\n      <th>2024-02-14</th>\n      <td>-0.004477</td>\n      <td>0.009149</td>\n      <td>0.001119</td>\n      <td>0.009088</td>\n      <td>0.000249</td>\n    </tr>\n    <tr>\n      <th>2024-02-15</th>\n      <td>0.005724</td>\n      <td>0.031278</td>\n      <td>0.000000</td>\n      <td>0.006900</td>\n      <td>0.000747</td>\n    </tr>\n    <tr>\n      <th>2024-02-16</th>\n      <td>0.004472</td>\n      <td>0.006593</td>\n      <td>-0.005031</td>\n      <td>-0.004980</td>\n      <td>-0.001742</td>\n    </tr>\n  </tbody>\n</table>\n<p>2253 rows × 5 columns</p>\n</div>"
     },
     "execution_count": 115,
     "metadata": {},
     "output_type": "execute_result"
    }
   ],
   "source": [
    "X = prices_to_returns(pivoted)\n",
    "\n",
    "X_train, X_test = train_test_split(X, test_size=0.2, shuffle=False)\n",
    "X"
   ],
   "metadata": {
    "collapsed": false,
    "ExecuteTime": {
     "end_time": "2024-02-17T16:15:05.102731200Z",
     "start_time": "2024-02-17T16:15:05.084519600Z"
    }
   },
   "id": "dd71cc45c2376a79",
   "execution_count": 115
  },
  {
   "cell_type": "code",
   "outputs": [
    {
     "name": "stdout",
     "output_type": "stream",
     "text": [
      "Maximum Diversification: 1.42\n",
      "Equal Weighted model: 1.40\n",
      "Random Weighted model: 1.37\n"
     ]
    }
   ],
   "source": [
    "model = MaximumDiversification()\n",
    "model.fit(X_train)\n",
    "ptf_model_train = model.predict(X_train)\n",
    "\n",
    "bench = EqualWeighted()\n",
    "bench.fit(X_train)\n",
    "ptf_bench_train = bench.predict(X_train)\n",
    "\n",
    "random = Random()\n",
    "random.fit(X_train)\n",
    "ptf_random_train = random.predict(X_train)\n",
    "\n",
    "print(f\"Maximum Diversification: {ptf_model_train.diversification:0.2f}\")\n",
    "print(f\"Equal Weighted model: {ptf_bench_train.diversification:0.2f}\")\n",
    "print(f\"Random Weighted model: {ptf_random_train.diversification:0.2f}\")"
   ],
   "metadata": {
    "collapsed": false,
    "ExecuteTime": {
     "end_time": "2024-02-17T16:15:05.111688700Z",
     "start_time": "2024-02-17T16:15:05.093731100Z"
    }
   },
   "id": "2ae99fec9c1d48a9",
   "execution_count": 116
  },
  {
   "cell_type": "code",
   "outputs": [],
   "source": [
    "ptf_model_test = model.predict(X_test)\n",
    "ptf_bench_test = bench.predict(X_test)\n",
    "ptf_random_test = random.predict(X_test)\n",
    "population = Population([ptf_model_test, ptf_bench_test, ptf_random_test])"
   ],
   "metadata": {
    "collapsed": false,
    "ExecuteTime": {
     "end_time": "2024-02-17T16:15:05.120688400Z",
     "start_time": "2024-02-17T16:15:05.106400900Z"
    }
   },
   "id": "d50c7056b02fee34",
   "execution_count": 117
  },
  {
   "cell_type": "code",
   "outputs": [
    {
     "data": {
      "application/vnd.plotly.v1+json": {
       "data": [
        {
         "alignmentgroup": "True",
         "hovertemplate": "asset=QYLD<br>index=%{x}<br>value=%{y}<extra></extra>",
         "legendgroup": "QYLD",
         "marker": {
          "color": "#636efa",
          "pattern": {
           "shape": ""
          }
         },
         "name": "QYLD",
         "offsetgroup": "QYLD",
         "orientation": "v",
         "showlegend": true,
         "textposition": "auto",
         "x": [
          "MaximumDiversification",
          "EqualWeighted",
          "Random"
         ],
         "xaxis": "x",
         "y": [
          0.42490374914364987,
          0.2,
          0.07543734515718092
         ],
         "yaxis": "y",
         "type": "bar"
        },
        {
         "alignmentgroup": "True",
         "hovertemplate": "asset=ALV.DE<br>index=%{x}<br>value=%{y}<extra></extra>",
         "legendgroup": "ALV.DE",
         "marker": {
          "color": "#EF553B",
          "pattern": {
           "shape": ""
          }
         },
         "name": "ALV.DE",
         "offsetgroup": "ALV.DE",
         "orientation": "v",
         "showlegend": true,
         "textposition": "auto",
         "x": [
          "MaximumDiversification",
          "EqualWeighted",
          "Random"
         ],
         "xaxis": "x",
         "y": [
          0.2911251860260767,
          0.2,
          0.145933535664523
         ],
         "yaxis": "y",
         "type": "bar"
        },
        {
         "alignmentgroup": "True",
         "hovertemplate": "asset=CDR.WA<br>index=%{x}<br>value=%{y}<extra></extra>",
         "legendgroup": "CDR.WA",
         "marker": {
          "color": "#00cc96",
          "pattern": {
           "shape": ""
          }
         },
         "name": "CDR.WA",
         "offsetgroup": "CDR.WA",
         "orientation": "v",
         "showlegend": true,
         "textposition": "auto",
         "x": [
          "MaximumDiversification",
          "EqualWeighted",
          "Random"
         ],
         "xaxis": "x",
         "y": [
          0.19842558479162015,
          0.2,
          0.238094169960526
         ],
         "yaxis": "y",
         "type": "bar"
        },
        {
         "alignmentgroup": "True",
         "hovertemplate": "asset=XYLD<br>index=%{x}<br>value=%{y}<extra></extra>",
         "legendgroup": "XYLD",
         "marker": {
          "color": "#ab63fa",
          "pattern": {
           "shape": ""
          }
         },
         "name": "XYLD",
         "offsetgroup": "XYLD",
         "orientation": "v",
         "showlegend": true,
         "textposition": "auto",
         "x": [
          "MaximumDiversification",
          "EqualWeighted",
          "Random"
         ],
         "xaxis": "x",
         "y": [
          0.08554547932983547,
          0.2,
          0.1884360224815234
         ],
         "yaxis": "y",
         "type": "bar"
        },
        {
         "alignmentgroup": "True",
         "hovertemplate": "asset=SPY<br>index=%{x}<br>value=%{y}<extra></extra>",
         "legendgroup": "SPY",
         "marker": {
          "color": "#FFA15A",
          "pattern": {
           "shape": ""
          }
         },
         "name": "SPY",
         "offsetgroup": "SPY",
         "orientation": "v",
         "showlegend": true,
         "textposition": "auto",
         "x": [
          "MaximumDiversification",
          "EqualWeighted",
          "Random"
         ],
         "xaxis": "x",
         "y": [
          0.0,
          0.2,
          0.3520989267362467
         ],
         "yaxis": "y",
         "type": "bar"
        }
       ],
       "layout": {
        "template": {
         "data": {
          "histogram2dcontour": [
           {
            "type": "histogram2dcontour",
            "colorbar": {
             "outlinewidth": 0,
             "ticks": ""
            },
            "colorscale": [
             [
              0.0,
              "#0d0887"
             ],
             [
              0.1111111111111111,
              "#46039f"
             ],
             [
              0.2222222222222222,
              "#7201a8"
             ],
             [
              0.3333333333333333,
              "#9c179e"
             ],
             [
              0.4444444444444444,
              "#bd3786"
             ],
             [
              0.5555555555555556,
              "#d8576b"
             ],
             [
              0.6666666666666666,
              "#ed7953"
             ],
             [
              0.7777777777777778,
              "#fb9f3a"
             ],
             [
              0.8888888888888888,
              "#fdca26"
             ],
             [
              1.0,
              "#f0f921"
             ]
            ]
           }
          ],
          "choropleth": [
           {
            "type": "choropleth",
            "colorbar": {
             "outlinewidth": 0,
             "ticks": ""
            }
           }
          ],
          "histogram2d": [
           {
            "type": "histogram2d",
            "colorbar": {
             "outlinewidth": 0,
             "ticks": ""
            },
            "colorscale": [
             [
              0.0,
              "#0d0887"
             ],
             [
              0.1111111111111111,
              "#46039f"
             ],
             [
              0.2222222222222222,
              "#7201a8"
             ],
             [
              0.3333333333333333,
              "#9c179e"
             ],
             [
              0.4444444444444444,
              "#bd3786"
             ],
             [
              0.5555555555555556,
              "#d8576b"
             ],
             [
              0.6666666666666666,
              "#ed7953"
             ],
             [
              0.7777777777777778,
              "#fb9f3a"
             ],
             [
              0.8888888888888888,
              "#fdca26"
             ],
             [
              1.0,
              "#f0f921"
             ]
            ]
           }
          ],
          "heatmap": [
           {
            "type": "heatmap",
            "colorbar": {
             "outlinewidth": 0,
             "ticks": ""
            },
            "colorscale": [
             [
              0.0,
              "#0d0887"
             ],
             [
              0.1111111111111111,
              "#46039f"
             ],
             [
              0.2222222222222222,
              "#7201a8"
             ],
             [
              0.3333333333333333,
              "#9c179e"
             ],
             [
              0.4444444444444444,
              "#bd3786"
             ],
             [
              0.5555555555555556,
              "#d8576b"
             ],
             [
              0.6666666666666666,
              "#ed7953"
             ],
             [
              0.7777777777777778,
              "#fb9f3a"
             ],
             [
              0.8888888888888888,
              "#fdca26"
             ],
             [
              1.0,
              "#f0f921"
             ]
            ]
           }
          ],
          "heatmapgl": [
           {
            "type": "heatmapgl",
            "colorbar": {
             "outlinewidth": 0,
             "ticks": ""
            },
            "colorscale": [
             [
              0.0,
              "#0d0887"
             ],
             [
              0.1111111111111111,
              "#46039f"
             ],
             [
              0.2222222222222222,
              "#7201a8"
             ],
             [
              0.3333333333333333,
              "#9c179e"
             ],
             [
              0.4444444444444444,
              "#bd3786"
             ],
             [
              0.5555555555555556,
              "#d8576b"
             ],
             [
              0.6666666666666666,
              "#ed7953"
             ],
             [
              0.7777777777777778,
              "#fb9f3a"
             ],
             [
              0.8888888888888888,
              "#fdca26"
             ],
             [
              1.0,
              "#f0f921"
             ]
            ]
           }
          ],
          "contourcarpet": [
           {
            "type": "contourcarpet",
            "colorbar": {
             "outlinewidth": 0,
             "ticks": ""
            }
           }
          ],
          "contour": [
           {
            "type": "contour",
            "colorbar": {
             "outlinewidth": 0,
             "ticks": ""
            },
            "colorscale": [
             [
              0.0,
              "#0d0887"
             ],
             [
              0.1111111111111111,
              "#46039f"
             ],
             [
              0.2222222222222222,
              "#7201a8"
             ],
             [
              0.3333333333333333,
              "#9c179e"
             ],
             [
              0.4444444444444444,
              "#bd3786"
             ],
             [
              0.5555555555555556,
              "#d8576b"
             ],
             [
              0.6666666666666666,
              "#ed7953"
             ],
             [
              0.7777777777777778,
              "#fb9f3a"
             ],
             [
              0.8888888888888888,
              "#fdca26"
             ],
             [
              1.0,
              "#f0f921"
             ]
            ]
           }
          ],
          "surface": [
           {
            "type": "surface",
            "colorbar": {
             "outlinewidth": 0,
             "ticks": ""
            },
            "colorscale": [
             [
              0.0,
              "#0d0887"
             ],
             [
              0.1111111111111111,
              "#46039f"
             ],
             [
              0.2222222222222222,
              "#7201a8"
             ],
             [
              0.3333333333333333,
              "#9c179e"
             ],
             [
              0.4444444444444444,
              "#bd3786"
             ],
             [
              0.5555555555555556,
              "#d8576b"
             ],
             [
              0.6666666666666666,
              "#ed7953"
             ],
             [
              0.7777777777777778,
              "#fb9f3a"
             ],
             [
              0.8888888888888888,
              "#fdca26"
             ],
             [
              1.0,
              "#f0f921"
             ]
            ]
           }
          ],
          "mesh3d": [
           {
            "type": "mesh3d",
            "colorbar": {
             "outlinewidth": 0,
             "ticks": ""
            }
           }
          ],
          "scatter": [
           {
            "marker": {
             "line": {
              "color": "#283442"
             }
            },
            "type": "scatter"
           }
          ],
          "parcoords": [
           {
            "type": "parcoords",
            "line": {
             "colorbar": {
              "outlinewidth": 0,
              "ticks": ""
             }
            }
           }
          ],
          "scatterpolargl": [
           {
            "type": "scatterpolargl",
            "marker": {
             "colorbar": {
              "outlinewidth": 0,
              "ticks": ""
             }
            }
           }
          ],
          "bar": [
           {
            "error_x": {
             "color": "#f2f5fa"
            },
            "error_y": {
             "color": "#f2f5fa"
            },
            "marker": {
             "line": {
              "color": "rgb(17,17,17)",
              "width": 0.5
             },
             "pattern": {
              "fillmode": "overlay",
              "size": 10,
              "solidity": 0.2
             }
            },
            "type": "bar"
           }
          ],
          "scattergeo": [
           {
            "type": "scattergeo",
            "marker": {
             "colorbar": {
              "outlinewidth": 0,
              "ticks": ""
             }
            }
           }
          ],
          "scatterpolar": [
           {
            "type": "scatterpolar",
            "marker": {
             "colorbar": {
              "outlinewidth": 0,
              "ticks": ""
             }
            }
           }
          ],
          "histogram": [
           {
            "marker": {
             "pattern": {
              "fillmode": "overlay",
              "size": 10,
              "solidity": 0.2
             }
            },
            "type": "histogram"
           }
          ],
          "scattergl": [
           {
            "marker": {
             "line": {
              "color": "#283442"
             }
            },
            "type": "scattergl"
           }
          ],
          "scatter3d": [
           {
            "type": "scatter3d",
            "line": {
             "colorbar": {
              "outlinewidth": 0,
              "ticks": ""
             }
            },
            "marker": {
             "colorbar": {
              "outlinewidth": 0,
              "ticks": ""
             }
            }
           }
          ],
          "scattermapbox": [
           {
            "type": "scattermapbox",
            "marker": {
             "colorbar": {
              "outlinewidth": 0,
              "ticks": ""
             }
            }
           }
          ],
          "scatterternary": [
           {
            "type": "scatterternary",
            "marker": {
             "colorbar": {
              "outlinewidth": 0,
              "ticks": ""
             }
            }
           }
          ],
          "scattercarpet": [
           {
            "type": "scattercarpet",
            "marker": {
             "colorbar": {
              "outlinewidth": 0,
              "ticks": ""
             }
            }
           }
          ],
          "carpet": [
           {
            "aaxis": {
             "endlinecolor": "#A2B1C6",
             "gridcolor": "#506784",
             "linecolor": "#506784",
             "minorgridcolor": "#506784",
             "startlinecolor": "#A2B1C6"
            },
            "baxis": {
             "endlinecolor": "#A2B1C6",
             "gridcolor": "#506784",
             "linecolor": "#506784",
             "minorgridcolor": "#506784",
             "startlinecolor": "#A2B1C6"
            },
            "type": "carpet"
           }
          ],
          "table": [
           {
            "cells": {
             "fill": {
              "color": "#506784"
             },
             "line": {
              "color": "rgb(17,17,17)"
             }
            },
            "header": {
             "fill": {
              "color": "#2a3f5f"
             },
             "line": {
              "color": "rgb(17,17,17)"
             }
            },
            "type": "table"
           }
          ],
          "barpolar": [
           {
            "marker": {
             "line": {
              "color": "rgb(17,17,17)",
              "width": 0.5
             },
             "pattern": {
              "fillmode": "overlay",
              "size": 10,
              "solidity": 0.2
             }
            },
            "type": "barpolar"
           }
          ],
          "pie": [
           {
            "automargin": true,
            "type": "pie"
           }
          ]
         },
         "layout": {
          "autotypenumbers": "strict",
          "colorway": [
           "#636efa",
           "#EF553B",
           "#00cc96",
           "#ab63fa",
           "#FFA15A",
           "#19d3f3",
           "#FF6692",
           "#B6E880",
           "#FF97FF",
           "#FECB52"
          ],
          "font": {
           "color": "#f2f5fa"
          },
          "hovermode": "closest",
          "hoverlabel": {
           "align": "left"
          },
          "paper_bgcolor": "rgb(17,17,17)",
          "plot_bgcolor": "rgb(17,17,17)",
          "polar": {
           "bgcolor": "rgb(17,17,17)",
           "angularaxis": {
            "gridcolor": "#506784",
            "linecolor": "#506784",
            "ticks": ""
           },
           "radialaxis": {
            "gridcolor": "#506784",
            "linecolor": "#506784",
            "ticks": ""
           }
          },
          "ternary": {
           "bgcolor": "rgb(17,17,17)",
           "aaxis": {
            "gridcolor": "#506784",
            "linecolor": "#506784",
            "ticks": ""
           },
           "baxis": {
            "gridcolor": "#506784",
            "linecolor": "#506784",
            "ticks": ""
           },
           "caxis": {
            "gridcolor": "#506784",
            "linecolor": "#506784",
            "ticks": ""
           }
          },
          "coloraxis": {
           "colorbar": {
            "outlinewidth": 0,
            "ticks": ""
           }
          },
          "colorscale": {
           "sequential": [
            [
             0.0,
             "#0d0887"
            ],
            [
             0.1111111111111111,
             "#46039f"
            ],
            [
             0.2222222222222222,
             "#7201a8"
            ],
            [
             0.3333333333333333,
             "#9c179e"
            ],
            [
             0.4444444444444444,
             "#bd3786"
            ],
            [
             0.5555555555555556,
             "#d8576b"
            ],
            [
             0.6666666666666666,
             "#ed7953"
            ],
            [
             0.7777777777777778,
             "#fb9f3a"
            ],
            [
             0.8888888888888888,
             "#fdca26"
            ],
            [
             1.0,
             "#f0f921"
            ]
           ],
           "sequentialminus": [
            [
             0.0,
             "#0d0887"
            ],
            [
             0.1111111111111111,
             "#46039f"
            ],
            [
             0.2222222222222222,
             "#7201a8"
            ],
            [
             0.3333333333333333,
             "#9c179e"
            ],
            [
             0.4444444444444444,
             "#bd3786"
            ],
            [
             0.5555555555555556,
             "#d8576b"
            ],
            [
             0.6666666666666666,
             "#ed7953"
            ],
            [
             0.7777777777777778,
             "#fb9f3a"
            ],
            [
             0.8888888888888888,
             "#fdca26"
            ],
            [
             1.0,
             "#f0f921"
            ]
           ],
           "diverging": [
            [
             0,
             "#8e0152"
            ],
            [
             0.1,
             "#c51b7d"
            ],
            [
             0.2,
             "#de77ae"
            ],
            [
             0.3,
             "#f1b6da"
            ],
            [
             0.4,
             "#fde0ef"
            ],
            [
             0.5,
             "#f7f7f7"
            ],
            [
             0.6,
             "#e6f5d0"
            ],
            [
             0.7,
             "#b8e186"
            ],
            [
             0.8,
             "#7fbc41"
            ],
            [
             0.9,
             "#4d9221"
            ],
            [
             1,
             "#276419"
            ]
           ]
          },
          "xaxis": {
           "gridcolor": "#283442",
           "linecolor": "#506784",
           "ticks": "",
           "title": {
            "standoff": 15
           },
           "zerolinecolor": "#283442",
           "automargin": true,
           "zerolinewidth": 2
          },
          "yaxis": {
           "gridcolor": "#283442",
           "linecolor": "#506784",
           "ticks": "",
           "title": {
            "standoff": 15
           },
           "zerolinecolor": "#283442",
           "automargin": true,
           "zerolinewidth": 2
          },
          "scene": {
           "xaxis": {
            "backgroundcolor": "rgb(17,17,17)",
            "gridcolor": "#506784",
            "linecolor": "#506784",
            "showbackground": true,
            "ticks": "",
            "zerolinecolor": "#C8D4E3",
            "gridwidth": 2
           },
           "yaxis": {
            "backgroundcolor": "rgb(17,17,17)",
            "gridcolor": "#506784",
            "linecolor": "#506784",
            "showbackground": true,
            "ticks": "",
            "zerolinecolor": "#C8D4E3",
            "gridwidth": 2
           },
           "zaxis": {
            "backgroundcolor": "rgb(17,17,17)",
            "gridcolor": "#506784",
            "linecolor": "#506784",
            "showbackground": true,
            "ticks": "",
            "zerolinecolor": "#C8D4E3",
            "gridwidth": 2
           }
          },
          "shapedefaults": {
           "line": {
            "color": "#f2f5fa"
           }
          },
          "annotationdefaults": {
           "arrowcolor": "#f2f5fa",
           "arrowhead": 0,
           "arrowwidth": 1
          },
          "geo": {
           "bgcolor": "rgb(17,17,17)",
           "landcolor": "rgb(17,17,17)",
           "subunitcolor": "#506784",
           "showland": true,
           "showlakes": true,
           "lakecolor": "rgb(17,17,17)"
          },
          "title": {
           "x": 0.05
          },
          "updatemenudefaults": {
           "bgcolor": "#506784",
           "borderwidth": 0
          },
          "sliderdefaults": {
           "bgcolor": "#C8D4E3",
           "borderwidth": 1,
           "bordercolor": "rgb(17,17,17)",
           "tickwidth": 0
          },
          "mapbox": {
           "style": "dark"
          }
         }
        },
        "xaxis": {
         "anchor": "y",
         "domain": [
          0.0,
          1.0
         ],
         "title": {
          "text": "Portfolios"
         }
        },
        "yaxis": {
         "anchor": "x",
         "domain": [
          0.0,
          1.0
         ],
         "title": {
          "text": "Weight"
         },
         "tickformat": ",.0%"
        },
        "legend": {
         "title": {
          "text": "asset"
         },
         "tracegroupgap": 0,
         "yanchor": "top",
         "y": 0.99,
         "xanchor": "left",
         "x": 1.15
        },
        "margin": {
         "t": 60
        },
        "barmode": "relative",
        "title": {
         "text": "Portfolios Composition"
        }
       },
       "config": {
        "plotlyServerURL": "https://plot.ly"
       }
      },
      "text/html": "<div>                            <div id=\"07c2f85c-ed86-477e-aa53-e0560a5a4c2d\" class=\"plotly-graph-div\" style=\"height:525px; width:100%;\"></div>            <script type=\"text/javascript\">                require([\"plotly\"], function(Plotly) {                    window.PLOTLYENV=window.PLOTLYENV || {};                                    if (document.getElementById(\"07c2f85c-ed86-477e-aa53-e0560a5a4c2d\")) {                    Plotly.newPlot(                        \"07c2f85c-ed86-477e-aa53-e0560a5a4c2d\",                        [{\"alignmentgroup\":\"True\",\"hovertemplate\":\"asset=QYLD\\u003cbr\\u003eindex=%{x}\\u003cbr\\u003evalue=%{y}\\u003cextra\\u003e\\u003c\\u002fextra\\u003e\",\"legendgroup\":\"QYLD\",\"marker\":{\"color\":\"#636efa\",\"pattern\":{\"shape\":\"\"}},\"name\":\"QYLD\",\"offsetgroup\":\"QYLD\",\"orientation\":\"v\",\"showlegend\":true,\"textposition\":\"auto\",\"x\":[\"MaximumDiversification\",\"EqualWeighted\",\"Random\"],\"xaxis\":\"x\",\"y\":[0.42490374914364987,0.2,0.07543734515718092],\"yaxis\":\"y\",\"type\":\"bar\"},{\"alignmentgroup\":\"True\",\"hovertemplate\":\"asset=ALV.DE\\u003cbr\\u003eindex=%{x}\\u003cbr\\u003evalue=%{y}\\u003cextra\\u003e\\u003c\\u002fextra\\u003e\",\"legendgroup\":\"ALV.DE\",\"marker\":{\"color\":\"#EF553B\",\"pattern\":{\"shape\":\"\"}},\"name\":\"ALV.DE\",\"offsetgroup\":\"ALV.DE\",\"orientation\":\"v\",\"showlegend\":true,\"textposition\":\"auto\",\"x\":[\"MaximumDiversification\",\"EqualWeighted\",\"Random\"],\"xaxis\":\"x\",\"y\":[0.2911251860260767,0.2,0.145933535664523],\"yaxis\":\"y\",\"type\":\"bar\"},{\"alignmentgroup\":\"True\",\"hovertemplate\":\"asset=CDR.WA\\u003cbr\\u003eindex=%{x}\\u003cbr\\u003evalue=%{y}\\u003cextra\\u003e\\u003c\\u002fextra\\u003e\",\"legendgroup\":\"CDR.WA\",\"marker\":{\"color\":\"#00cc96\",\"pattern\":{\"shape\":\"\"}},\"name\":\"CDR.WA\",\"offsetgroup\":\"CDR.WA\",\"orientation\":\"v\",\"showlegend\":true,\"textposition\":\"auto\",\"x\":[\"MaximumDiversification\",\"EqualWeighted\",\"Random\"],\"xaxis\":\"x\",\"y\":[0.19842558479162015,0.2,0.238094169960526],\"yaxis\":\"y\",\"type\":\"bar\"},{\"alignmentgroup\":\"True\",\"hovertemplate\":\"asset=XYLD\\u003cbr\\u003eindex=%{x}\\u003cbr\\u003evalue=%{y}\\u003cextra\\u003e\\u003c\\u002fextra\\u003e\",\"legendgroup\":\"XYLD\",\"marker\":{\"color\":\"#ab63fa\",\"pattern\":{\"shape\":\"\"}},\"name\":\"XYLD\",\"offsetgroup\":\"XYLD\",\"orientation\":\"v\",\"showlegend\":true,\"textposition\":\"auto\",\"x\":[\"MaximumDiversification\",\"EqualWeighted\",\"Random\"],\"xaxis\":\"x\",\"y\":[0.08554547932983547,0.2,0.1884360224815234],\"yaxis\":\"y\",\"type\":\"bar\"},{\"alignmentgroup\":\"True\",\"hovertemplate\":\"asset=SPY\\u003cbr\\u003eindex=%{x}\\u003cbr\\u003evalue=%{y}\\u003cextra\\u003e\\u003c\\u002fextra\\u003e\",\"legendgroup\":\"SPY\",\"marker\":{\"color\":\"#FFA15A\",\"pattern\":{\"shape\":\"\"}},\"name\":\"SPY\",\"offsetgroup\":\"SPY\",\"orientation\":\"v\",\"showlegend\":true,\"textposition\":\"auto\",\"x\":[\"MaximumDiversification\",\"EqualWeighted\",\"Random\"],\"xaxis\":\"x\",\"y\":[0.0,0.2,0.3520989267362467],\"yaxis\":\"y\",\"type\":\"bar\"}],                        {\"template\":{\"data\":{\"histogram2dcontour\":[{\"type\":\"histogram2dcontour\",\"colorbar\":{\"outlinewidth\":0,\"ticks\":\"\"},\"colorscale\":[[0.0,\"#0d0887\"],[0.1111111111111111,\"#46039f\"],[0.2222222222222222,\"#7201a8\"],[0.3333333333333333,\"#9c179e\"],[0.4444444444444444,\"#bd3786\"],[0.5555555555555556,\"#d8576b\"],[0.6666666666666666,\"#ed7953\"],[0.7777777777777778,\"#fb9f3a\"],[0.8888888888888888,\"#fdca26\"],[1.0,\"#f0f921\"]]}],\"choropleth\":[{\"type\":\"choropleth\",\"colorbar\":{\"outlinewidth\":0,\"ticks\":\"\"}}],\"histogram2d\":[{\"type\":\"histogram2d\",\"colorbar\":{\"outlinewidth\":0,\"ticks\":\"\"},\"colorscale\":[[0.0,\"#0d0887\"],[0.1111111111111111,\"#46039f\"],[0.2222222222222222,\"#7201a8\"],[0.3333333333333333,\"#9c179e\"],[0.4444444444444444,\"#bd3786\"],[0.5555555555555556,\"#d8576b\"],[0.6666666666666666,\"#ed7953\"],[0.7777777777777778,\"#fb9f3a\"],[0.8888888888888888,\"#fdca26\"],[1.0,\"#f0f921\"]]}],\"heatmap\":[{\"type\":\"heatmap\",\"colorbar\":{\"outlinewidth\":0,\"ticks\":\"\"},\"colorscale\":[[0.0,\"#0d0887\"],[0.1111111111111111,\"#46039f\"],[0.2222222222222222,\"#7201a8\"],[0.3333333333333333,\"#9c179e\"],[0.4444444444444444,\"#bd3786\"],[0.5555555555555556,\"#d8576b\"],[0.6666666666666666,\"#ed7953\"],[0.7777777777777778,\"#fb9f3a\"],[0.8888888888888888,\"#fdca26\"],[1.0,\"#f0f921\"]]}],\"heatmapgl\":[{\"type\":\"heatmapgl\",\"colorbar\":{\"outlinewidth\":0,\"ticks\":\"\"},\"colorscale\":[[0.0,\"#0d0887\"],[0.1111111111111111,\"#46039f\"],[0.2222222222222222,\"#7201a8\"],[0.3333333333333333,\"#9c179e\"],[0.4444444444444444,\"#bd3786\"],[0.5555555555555556,\"#d8576b\"],[0.6666666666666666,\"#ed7953\"],[0.7777777777777778,\"#fb9f3a\"],[0.8888888888888888,\"#fdca26\"],[1.0,\"#f0f921\"]]}],\"contourcarpet\":[{\"type\":\"contourcarpet\",\"colorbar\":{\"outlinewidth\":0,\"ticks\":\"\"}}],\"contour\":[{\"type\":\"contour\",\"colorbar\":{\"outlinewidth\":0,\"ticks\":\"\"},\"colorscale\":[[0.0,\"#0d0887\"],[0.1111111111111111,\"#46039f\"],[0.2222222222222222,\"#7201a8\"],[0.3333333333333333,\"#9c179e\"],[0.4444444444444444,\"#bd3786\"],[0.5555555555555556,\"#d8576b\"],[0.6666666666666666,\"#ed7953\"],[0.7777777777777778,\"#fb9f3a\"],[0.8888888888888888,\"#fdca26\"],[1.0,\"#f0f921\"]]}],\"surface\":[{\"type\":\"surface\",\"colorbar\":{\"outlinewidth\":0,\"ticks\":\"\"},\"colorscale\":[[0.0,\"#0d0887\"],[0.1111111111111111,\"#46039f\"],[0.2222222222222222,\"#7201a8\"],[0.3333333333333333,\"#9c179e\"],[0.4444444444444444,\"#bd3786\"],[0.5555555555555556,\"#d8576b\"],[0.6666666666666666,\"#ed7953\"],[0.7777777777777778,\"#fb9f3a\"],[0.8888888888888888,\"#fdca26\"],[1.0,\"#f0f921\"]]}],\"mesh3d\":[{\"type\":\"mesh3d\",\"colorbar\":{\"outlinewidth\":0,\"ticks\":\"\"}}],\"scatter\":[{\"marker\":{\"line\":{\"color\":\"#283442\"}},\"type\":\"scatter\"}],\"parcoords\":[{\"type\":\"parcoords\",\"line\":{\"colorbar\":{\"outlinewidth\":0,\"ticks\":\"\"}}}],\"scatterpolargl\":[{\"type\":\"scatterpolargl\",\"marker\":{\"colorbar\":{\"outlinewidth\":0,\"ticks\":\"\"}}}],\"bar\":[{\"error_x\":{\"color\":\"#f2f5fa\"},\"error_y\":{\"color\":\"#f2f5fa\"},\"marker\":{\"line\":{\"color\":\"rgb(17,17,17)\",\"width\":0.5},\"pattern\":{\"fillmode\":\"overlay\",\"size\":10,\"solidity\":0.2}},\"type\":\"bar\"}],\"scattergeo\":[{\"type\":\"scattergeo\",\"marker\":{\"colorbar\":{\"outlinewidth\":0,\"ticks\":\"\"}}}],\"scatterpolar\":[{\"type\":\"scatterpolar\",\"marker\":{\"colorbar\":{\"outlinewidth\":0,\"ticks\":\"\"}}}],\"histogram\":[{\"marker\":{\"pattern\":{\"fillmode\":\"overlay\",\"size\":10,\"solidity\":0.2}},\"type\":\"histogram\"}],\"scattergl\":[{\"marker\":{\"line\":{\"color\":\"#283442\"}},\"type\":\"scattergl\"}],\"scatter3d\":[{\"type\":\"scatter3d\",\"line\":{\"colorbar\":{\"outlinewidth\":0,\"ticks\":\"\"}},\"marker\":{\"colorbar\":{\"outlinewidth\":0,\"ticks\":\"\"}}}],\"scattermapbox\":[{\"type\":\"scattermapbox\",\"marker\":{\"colorbar\":{\"outlinewidth\":0,\"ticks\":\"\"}}}],\"scatterternary\":[{\"type\":\"scatterternary\",\"marker\":{\"colorbar\":{\"outlinewidth\":0,\"ticks\":\"\"}}}],\"scattercarpet\":[{\"type\":\"scattercarpet\",\"marker\":{\"colorbar\":{\"outlinewidth\":0,\"ticks\":\"\"}}}],\"carpet\":[{\"aaxis\":{\"endlinecolor\":\"#A2B1C6\",\"gridcolor\":\"#506784\",\"linecolor\":\"#506784\",\"minorgridcolor\":\"#506784\",\"startlinecolor\":\"#A2B1C6\"},\"baxis\":{\"endlinecolor\":\"#A2B1C6\",\"gridcolor\":\"#506784\",\"linecolor\":\"#506784\",\"minorgridcolor\":\"#506784\",\"startlinecolor\":\"#A2B1C6\"},\"type\":\"carpet\"}],\"table\":[{\"cells\":{\"fill\":{\"color\":\"#506784\"},\"line\":{\"color\":\"rgb(17,17,17)\"}},\"header\":{\"fill\":{\"color\":\"#2a3f5f\"},\"line\":{\"color\":\"rgb(17,17,17)\"}},\"type\":\"table\"}],\"barpolar\":[{\"marker\":{\"line\":{\"color\":\"rgb(17,17,17)\",\"width\":0.5},\"pattern\":{\"fillmode\":\"overlay\",\"size\":10,\"solidity\":0.2}},\"type\":\"barpolar\"}],\"pie\":[{\"automargin\":true,\"type\":\"pie\"}]},\"layout\":{\"autotypenumbers\":\"strict\",\"colorway\":[\"#636efa\",\"#EF553B\",\"#00cc96\",\"#ab63fa\",\"#FFA15A\",\"#19d3f3\",\"#FF6692\",\"#B6E880\",\"#FF97FF\",\"#FECB52\"],\"font\":{\"color\":\"#f2f5fa\"},\"hovermode\":\"closest\",\"hoverlabel\":{\"align\":\"left\"},\"paper_bgcolor\":\"rgb(17,17,17)\",\"plot_bgcolor\":\"rgb(17,17,17)\",\"polar\":{\"bgcolor\":\"rgb(17,17,17)\",\"angularaxis\":{\"gridcolor\":\"#506784\",\"linecolor\":\"#506784\",\"ticks\":\"\"},\"radialaxis\":{\"gridcolor\":\"#506784\",\"linecolor\":\"#506784\",\"ticks\":\"\"}},\"ternary\":{\"bgcolor\":\"rgb(17,17,17)\",\"aaxis\":{\"gridcolor\":\"#506784\",\"linecolor\":\"#506784\",\"ticks\":\"\"},\"baxis\":{\"gridcolor\":\"#506784\",\"linecolor\":\"#506784\",\"ticks\":\"\"},\"caxis\":{\"gridcolor\":\"#506784\",\"linecolor\":\"#506784\",\"ticks\":\"\"}},\"coloraxis\":{\"colorbar\":{\"outlinewidth\":0,\"ticks\":\"\"}},\"colorscale\":{\"sequential\":[[0.0,\"#0d0887\"],[0.1111111111111111,\"#46039f\"],[0.2222222222222222,\"#7201a8\"],[0.3333333333333333,\"#9c179e\"],[0.4444444444444444,\"#bd3786\"],[0.5555555555555556,\"#d8576b\"],[0.6666666666666666,\"#ed7953\"],[0.7777777777777778,\"#fb9f3a\"],[0.8888888888888888,\"#fdca26\"],[1.0,\"#f0f921\"]],\"sequentialminus\":[[0.0,\"#0d0887\"],[0.1111111111111111,\"#46039f\"],[0.2222222222222222,\"#7201a8\"],[0.3333333333333333,\"#9c179e\"],[0.4444444444444444,\"#bd3786\"],[0.5555555555555556,\"#d8576b\"],[0.6666666666666666,\"#ed7953\"],[0.7777777777777778,\"#fb9f3a\"],[0.8888888888888888,\"#fdca26\"],[1.0,\"#f0f921\"]],\"diverging\":[[0,\"#8e0152\"],[0.1,\"#c51b7d\"],[0.2,\"#de77ae\"],[0.3,\"#f1b6da\"],[0.4,\"#fde0ef\"],[0.5,\"#f7f7f7\"],[0.6,\"#e6f5d0\"],[0.7,\"#b8e186\"],[0.8,\"#7fbc41\"],[0.9,\"#4d9221\"],[1,\"#276419\"]]},\"xaxis\":{\"gridcolor\":\"#283442\",\"linecolor\":\"#506784\",\"ticks\":\"\",\"title\":{\"standoff\":15},\"zerolinecolor\":\"#283442\",\"automargin\":true,\"zerolinewidth\":2},\"yaxis\":{\"gridcolor\":\"#283442\",\"linecolor\":\"#506784\",\"ticks\":\"\",\"title\":{\"standoff\":15},\"zerolinecolor\":\"#283442\",\"automargin\":true,\"zerolinewidth\":2},\"scene\":{\"xaxis\":{\"backgroundcolor\":\"rgb(17,17,17)\",\"gridcolor\":\"#506784\",\"linecolor\":\"#506784\",\"showbackground\":true,\"ticks\":\"\",\"zerolinecolor\":\"#C8D4E3\",\"gridwidth\":2},\"yaxis\":{\"backgroundcolor\":\"rgb(17,17,17)\",\"gridcolor\":\"#506784\",\"linecolor\":\"#506784\",\"showbackground\":true,\"ticks\":\"\",\"zerolinecolor\":\"#C8D4E3\",\"gridwidth\":2},\"zaxis\":{\"backgroundcolor\":\"rgb(17,17,17)\",\"gridcolor\":\"#506784\",\"linecolor\":\"#506784\",\"showbackground\":true,\"ticks\":\"\",\"zerolinecolor\":\"#C8D4E3\",\"gridwidth\":2}},\"shapedefaults\":{\"line\":{\"color\":\"#f2f5fa\"}},\"annotationdefaults\":{\"arrowcolor\":\"#f2f5fa\",\"arrowhead\":0,\"arrowwidth\":1},\"geo\":{\"bgcolor\":\"rgb(17,17,17)\",\"landcolor\":\"rgb(17,17,17)\",\"subunitcolor\":\"#506784\",\"showland\":true,\"showlakes\":true,\"lakecolor\":\"rgb(17,17,17)\"},\"title\":{\"x\":0.05},\"updatemenudefaults\":{\"bgcolor\":\"#506784\",\"borderwidth\":0},\"sliderdefaults\":{\"bgcolor\":\"#C8D4E3\",\"borderwidth\":1,\"bordercolor\":\"rgb(17,17,17)\",\"tickwidth\":0},\"mapbox\":{\"style\":\"dark\"}}},\"xaxis\":{\"anchor\":\"y\",\"domain\":[0.0,1.0],\"title\":{\"text\":\"Portfolios\"}},\"yaxis\":{\"anchor\":\"x\",\"domain\":[0.0,1.0],\"title\":{\"text\":\"Weight\"},\"tickformat\":\",.0%\"},\"legend\":{\"title\":{\"text\":\"asset\"},\"tracegroupgap\":0,\"yanchor\":\"top\",\"y\":0.99,\"xanchor\":\"left\",\"x\":1.15},\"margin\":{\"t\":60},\"barmode\":\"relative\",\"title\":{\"text\":\"Portfolios Composition\"}},                        {\"responsive\": true}                    ).then(function(){\n                            \nvar gd = document.getElementById('07c2f85c-ed86-477e-aa53-e0560a5a4c2d');\nvar x = new MutationObserver(function (mutations, observer) {{\n        var display = window.getComputedStyle(gd).display;\n        if (!display || display === 'none') {{\n            console.log([gd, 'removed!']);\n            Plotly.purge(gd);\n            observer.disconnect();\n        }}\n}});\n\n// Listen for the removal of the full notebook cells\nvar notebookContainer = gd.closest('#notebook-container');\nif (notebookContainer) {{\n    x.observe(notebookContainer, {childList: true});\n}}\n\n// Listen for the clearing of the current output cell\nvar outputEl = gd.closest('.output');\nif (outputEl) {{\n    x.observe(outputEl, {childList: true});\n}}\n\n                        })                };                });            </script>        </div>"
     },
     "metadata": {},
     "output_type": "display_data"
    }
   ],
   "source": [
    "population.plot_composition()"
   ],
   "metadata": {
    "collapsed": false,
    "ExecuteTime": {
     "end_time": "2024-02-17T16:15:05.232729800Z",
     "start_time": "2024-02-17T16:15:05.109688100Z"
    }
   },
   "id": "84cef5d4ba40b5e2",
   "execution_count": 118
  },
  {
   "cell_type": "code",
   "outputs": [
    {
     "data": {
      "application/vnd.plotly.v1+json": {
       "data": [
        {
         "hovertemplate": "variable=MaximumDiversification<br>index=%{x}<br>value=%{y}<extra></extra>",
         "legendgroup": "MaximumDiversification",
         "line": {
          "color": "#636efa",
          "dash": "solid"
         },
         "marker": {
          "symbol": "circle"
         },
         "mode": "lines",
         "name": "MaximumDiversification",
         "showlegend": true,
         "x": [
          "2022-04-28T00:00:00",
          "2022-04-29T00:00:00",
          "2022-05-02T00:00:00",
          "2022-05-03T00:00:00",
          "2022-05-04T00:00:00",
          "2022-05-05T00:00:00",
          "2022-05-06T00:00:00",
          "2022-05-09T00:00:00",
          "2022-05-10T00:00:00",
          "2022-05-11T00:00:00",
          "2022-05-12T00:00:00",
          "2022-05-13T00:00:00",
          "2022-05-16T00:00:00",
          "2022-05-17T00:00:00",
          "2022-05-18T00:00:00",
          "2022-05-19T00:00:00",
          "2022-05-20T00:00:00",
          "2022-05-23T00:00:00",
          "2022-05-24T00:00:00",
          "2022-05-25T00:00:00",
          "2022-05-26T00:00:00",
          "2022-05-27T00:00:00",
          "2022-05-31T00:00:00",
          "2022-06-01T00:00:00",
          "2022-06-02T00:00:00",
          "2022-06-03T00:00:00",
          "2022-06-06T00:00:00",
          "2022-06-07T00:00:00",
          "2022-06-08T00:00:00",
          "2022-06-09T00:00:00",
          "2022-06-10T00:00:00",
          "2022-06-13T00:00:00",
          "2022-06-14T00:00:00",
          "2022-06-15T00:00:00",
          "2022-06-16T00:00:00",
          "2022-06-17T00:00:00",
          "2022-06-21T00:00:00",
          "2022-06-22T00:00:00",
          "2022-06-23T00:00:00",
          "2022-06-24T00:00:00",
          "2022-06-27T00:00:00",
          "2022-06-28T00:00:00",
          "2022-06-29T00:00:00",
          "2022-06-30T00:00:00",
          "2022-07-01T00:00:00",
          "2022-07-05T00:00:00",
          "2022-07-06T00:00:00",
          "2022-07-07T00:00:00",
          "2022-07-08T00:00:00",
          "2022-07-11T00:00:00",
          "2022-07-12T00:00:00",
          "2022-07-13T00:00:00",
          "2022-07-14T00:00:00",
          "2022-07-15T00:00:00",
          "2022-07-18T00:00:00",
          "2022-07-19T00:00:00",
          "2022-07-20T00:00:00",
          "2022-07-21T00:00:00",
          "2022-07-22T00:00:00",
          "2022-07-25T00:00:00",
          "2022-07-26T00:00:00",
          "2022-07-27T00:00:00",
          "2022-07-28T00:00:00",
          "2022-07-29T00:00:00",
          "2022-08-01T00:00:00",
          "2022-08-02T00:00:00",
          "2022-08-03T00:00:00",
          "2022-08-04T00:00:00",
          "2022-08-05T00:00:00",
          "2022-08-08T00:00:00",
          "2022-08-09T00:00:00",
          "2022-08-10T00:00:00",
          "2022-08-11T00:00:00",
          "2022-08-12T00:00:00",
          "2022-08-15T00:00:00",
          "2022-08-16T00:00:00",
          "2022-08-17T00:00:00",
          "2022-08-18T00:00:00",
          "2022-08-19T00:00:00",
          "2022-08-22T00:00:00",
          "2022-08-23T00:00:00",
          "2022-08-24T00:00:00",
          "2022-08-25T00:00:00",
          "2022-08-26T00:00:00",
          "2022-08-29T00:00:00",
          "2022-08-30T00:00:00",
          "2022-08-31T00:00:00",
          "2022-09-01T00:00:00",
          "2022-09-02T00:00:00",
          "2022-09-06T00:00:00",
          "2022-09-07T00:00:00",
          "2022-09-08T00:00:00",
          "2022-09-09T00:00:00",
          "2022-09-12T00:00:00",
          "2022-09-13T00:00:00",
          "2022-09-14T00:00:00",
          "2022-09-15T00:00:00",
          "2022-09-16T00:00:00",
          "2022-09-19T00:00:00",
          "2022-09-20T00:00:00",
          "2022-09-21T00:00:00",
          "2022-09-22T00:00:00",
          "2022-09-23T00:00:00",
          "2022-09-26T00:00:00",
          "2022-09-27T00:00:00",
          "2022-09-28T00:00:00",
          "2022-09-29T00:00:00",
          "2022-09-30T00:00:00",
          "2022-10-03T00:00:00",
          "2022-10-04T00:00:00",
          "2022-10-05T00:00:00",
          "2022-10-06T00:00:00",
          "2022-10-07T00:00:00",
          "2022-10-10T00:00:00",
          "2022-10-11T00:00:00",
          "2022-10-12T00:00:00",
          "2022-10-13T00:00:00",
          "2022-10-14T00:00:00",
          "2022-10-17T00:00:00",
          "2022-10-18T00:00:00",
          "2022-10-19T00:00:00",
          "2022-10-20T00:00:00",
          "2022-10-21T00:00:00",
          "2022-10-24T00:00:00",
          "2022-10-25T00:00:00",
          "2022-10-26T00:00:00",
          "2022-10-27T00:00:00",
          "2022-10-28T00:00:00",
          "2022-10-31T00:00:00",
          "2022-11-01T00:00:00",
          "2022-11-02T00:00:00",
          "2022-11-03T00:00:00",
          "2022-11-04T00:00:00",
          "2022-11-07T00:00:00",
          "2022-11-08T00:00:00",
          "2022-11-09T00:00:00",
          "2022-11-10T00:00:00",
          "2022-11-11T00:00:00",
          "2022-11-14T00:00:00",
          "2022-11-15T00:00:00",
          "2022-11-16T00:00:00",
          "2022-11-17T00:00:00",
          "2022-11-18T00:00:00",
          "2022-11-21T00:00:00",
          "2022-11-22T00:00:00",
          "2022-11-23T00:00:00",
          "2022-11-25T00:00:00",
          "2022-11-28T00:00:00",
          "2022-11-29T00:00:00",
          "2022-11-30T00:00:00",
          "2022-12-01T00:00:00",
          "2022-12-02T00:00:00",
          "2022-12-05T00:00:00",
          "2022-12-06T00:00:00",
          "2022-12-07T00:00:00",
          "2022-12-08T00:00:00",
          "2022-12-09T00:00:00",
          "2022-12-12T00:00:00",
          "2022-12-13T00:00:00",
          "2022-12-14T00:00:00",
          "2022-12-15T00:00:00",
          "2022-12-16T00:00:00",
          "2022-12-19T00:00:00",
          "2022-12-20T00:00:00",
          "2022-12-21T00:00:00",
          "2022-12-22T00:00:00",
          "2022-12-23T00:00:00",
          "2022-12-27T00:00:00",
          "2022-12-28T00:00:00",
          "2022-12-29T00:00:00",
          "2022-12-30T00:00:00",
          "2023-01-03T00:00:00",
          "2023-01-04T00:00:00",
          "2023-01-05T00:00:00",
          "2023-01-06T00:00:00",
          "2023-01-09T00:00:00",
          "2023-01-10T00:00:00",
          "2023-01-11T00:00:00",
          "2023-01-12T00:00:00",
          "2023-01-13T00:00:00",
          "2023-01-17T00:00:00",
          "2023-01-18T00:00:00",
          "2023-01-19T00:00:00",
          "2023-01-20T00:00:00",
          "2023-01-23T00:00:00",
          "2023-01-24T00:00:00",
          "2023-01-25T00:00:00",
          "2023-01-26T00:00:00",
          "2023-01-27T00:00:00",
          "2023-01-30T00:00:00",
          "2023-01-31T00:00:00",
          "2023-02-01T00:00:00",
          "2023-02-02T00:00:00",
          "2023-02-03T00:00:00",
          "2023-02-06T00:00:00",
          "2023-02-07T00:00:00",
          "2023-02-08T00:00:00",
          "2023-02-09T00:00:00",
          "2023-02-10T00:00:00",
          "2023-02-13T00:00:00",
          "2023-02-14T00:00:00",
          "2023-02-15T00:00:00",
          "2023-02-16T00:00:00",
          "2023-02-17T00:00:00",
          "2023-02-21T00:00:00",
          "2023-02-22T00:00:00",
          "2023-02-23T00:00:00",
          "2023-02-24T00:00:00",
          "2023-02-27T00:00:00",
          "2023-02-28T00:00:00",
          "2023-03-01T00:00:00",
          "2023-03-02T00:00:00",
          "2023-03-03T00:00:00",
          "2023-03-06T00:00:00",
          "2023-03-07T00:00:00",
          "2023-03-08T00:00:00",
          "2023-03-09T00:00:00",
          "2023-03-10T00:00:00",
          "2023-03-13T00:00:00",
          "2023-03-14T00:00:00",
          "2023-03-15T00:00:00",
          "2023-03-16T00:00:00",
          "2023-03-17T00:00:00",
          "2023-03-20T00:00:00",
          "2023-03-21T00:00:00",
          "2023-03-22T00:00:00",
          "2023-03-23T00:00:00",
          "2023-03-24T00:00:00",
          "2023-03-27T00:00:00",
          "2023-03-28T00:00:00",
          "2023-03-29T00:00:00",
          "2023-03-30T00:00:00",
          "2023-03-31T00:00:00",
          "2023-04-03T00:00:00",
          "2023-04-04T00:00:00",
          "2023-04-05T00:00:00",
          "2023-04-06T00:00:00",
          "2023-04-11T00:00:00",
          "2023-04-12T00:00:00",
          "2023-04-13T00:00:00",
          "2023-04-14T00:00:00",
          "2023-04-17T00:00:00",
          "2023-04-18T00:00:00",
          "2023-04-19T00:00:00",
          "2023-04-20T00:00:00",
          "2023-04-21T00:00:00",
          "2023-04-24T00:00:00",
          "2023-04-25T00:00:00",
          "2023-04-26T00:00:00",
          "2023-04-27T00:00:00",
          "2023-04-28T00:00:00",
          "2023-05-02T00:00:00",
          "2023-05-03T00:00:00",
          "2023-05-04T00:00:00",
          "2023-05-05T00:00:00",
          "2023-05-08T00:00:00",
          "2023-05-09T00:00:00",
          "2023-05-10T00:00:00",
          "2023-05-11T00:00:00",
          "2023-05-12T00:00:00",
          "2023-05-15T00:00:00",
          "2023-05-16T00:00:00",
          "2023-05-17T00:00:00",
          "2023-05-18T00:00:00",
          "2023-05-19T00:00:00",
          "2023-05-22T00:00:00",
          "2023-05-23T00:00:00",
          "2023-05-24T00:00:00",
          "2023-05-25T00:00:00",
          "2023-05-26T00:00:00",
          "2023-05-30T00:00:00",
          "2023-05-31T00:00:00",
          "2023-06-01T00:00:00",
          "2023-06-02T00:00:00",
          "2023-06-05T00:00:00",
          "2023-06-06T00:00:00",
          "2023-06-07T00:00:00",
          "2023-06-08T00:00:00",
          "2023-06-09T00:00:00",
          "2023-06-12T00:00:00",
          "2023-06-13T00:00:00",
          "2023-06-14T00:00:00",
          "2023-06-15T00:00:00",
          "2023-06-16T00:00:00",
          "2023-06-20T00:00:00",
          "2023-06-21T00:00:00",
          "2023-06-22T00:00:00",
          "2023-06-23T00:00:00",
          "2023-06-26T00:00:00",
          "2023-06-27T00:00:00",
          "2023-06-28T00:00:00",
          "2023-06-29T00:00:00",
          "2023-06-30T00:00:00",
          "2023-07-03T00:00:00",
          "2023-07-05T00:00:00",
          "2023-07-06T00:00:00",
          "2023-07-07T00:00:00",
          "2023-07-10T00:00:00",
          "2023-07-11T00:00:00",
          "2023-07-12T00:00:00",
          "2023-07-13T00:00:00",
          "2023-07-14T00:00:00",
          "2023-07-17T00:00:00",
          "2023-07-18T00:00:00",
          "2023-07-19T00:00:00",
          "2023-07-20T00:00:00",
          "2023-07-21T00:00:00",
          "2023-07-24T00:00:00",
          "2023-07-25T00:00:00",
          "2023-07-26T00:00:00",
          "2023-07-27T00:00:00",
          "2023-07-28T00:00:00",
          "2023-07-31T00:00:00",
          "2023-08-01T00:00:00",
          "2023-08-02T00:00:00",
          "2023-08-03T00:00:00",
          "2023-08-04T00:00:00",
          "2023-08-07T00:00:00",
          "2023-08-08T00:00:00",
          "2023-08-09T00:00:00",
          "2023-08-10T00:00:00",
          "2023-08-11T00:00:00",
          "2023-08-14T00:00:00",
          "2023-08-15T00:00:00",
          "2023-08-16T00:00:00",
          "2023-08-17T00:00:00",
          "2023-08-18T00:00:00",
          "2023-08-21T00:00:00",
          "2023-08-22T00:00:00",
          "2023-08-23T00:00:00",
          "2023-08-24T00:00:00",
          "2023-08-25T00:00:00",
          "2023-08-28T00:00:00",
          "2023-08-29T00:00:00",
          "2023-08-30T00:00:00",
          "2023-08-31T00:00:00",
          "2023-09-01T00:00:00",
          "2023-09-05T00:00:00",
          "2023-09-06T00:00:00",
          "2023-09-07T00:00:00",
          "2023-09-08T00:00:00",
          "2023-09-11T00:00:00",
          "2023-09-12T00:00:00",
          "2023-09-13T00:00:00",
          "2023-09-14T00:00:00",
          "2023-09-15T00:00:00",
          "2023-09-18T00:00:00",
          "2023-09-19T00:00:00",
          "2023-09-20T00:00:00",
          "2023-09-21T00:00:00",
          "2023-09-22T00:00:00",
          "2023-09-25T00:00:00",
          "2023-09-26T00:00:00",
          "2023-09-27T00:00:00",
          "2023-09-28T00:00:00",
          "2023-09-29T00:00:00",
          "2023-10-02T00:00:00",
          "2023-10-03T00:00:00",
          "2023-10-04T00:00:00",
          "2023-10-05T00:00:00",
          "2023-10-06T00:00:00",
          "2023-10-09T00:00:00",
          "2023-10-10T00:00:00",
          "2023-10-11T00:00:00",
          "2023-10-12T00:00:00",
          "2023-10-13T00:00:00",
          "2023-10-16T00:00:00",
          "2023-10-17T00:00:00",
          "2023-10-18T00:00:00",
          "2023-10-19T00:00:00",
          "2023-10-20T00:00:00",
          "2023-10-23T00:00:00",
          "2023-10-24T00:00:00",
          "2023-10-25T00:00:00",
          "2023-10-26T00:00:00",
          "2023-10-27T00:00:00",
          "2023-10-30T00:00:00",
          "2023-10-31T00:00:00",
          "2023-11-01T00:00:00",
          "2023-11-02T00:00:00",
          "2023-11-03T00:00:00",
          "2023-11-06T00:00:00",
          "2023-11-07T00:00:00",
          "2023-11-08T00:00:00",
          "2023-11-09T00:00:00",
          "2023-11-10T00:00:00",
          "2023-11-13T00:00:00",
          "2023-11-14T00:00:00",
          "2023-11-15T00:00:00",
          "2023-11-16T00:00:00",
          "2023-11-17T00:00:00",
          "2023-11-20T00:00:00",
          "2023-11-21T00:00:00",
          "2023-11-22T00:00:00",
          "2023-11-24T00:00:00",
          "2023-11-27T00:00:00",
          "2023-11-28T00:00:00",
          "2023-11-29T00:00:00",
          "2023-11-30T00:00:00",
          "2023-12-01T00:00:00",
          "2023-12-04T00:00:00",
          "2023-12-05T00:00:00",
          "2023-12-06T00:00:00",
          "2023-12-07T00:00:00",
          "2023-12-08T00:00:00",
          "2023-12-11T00:00:00",
          "2023-12-12T00:00:00",
          "2023-12-13T00:00:00",
          "2023-12-14T00:00:00",
          "2023-12-15T00:00:00",
          "2023-12-18T00:00:00",
          "2023-12-19T00:00:00",
          "2023-12-20T00:00:00",
          "2023-12-21T00:00:00",
          "2023-12-22T00:00:00",
          "2023-12-27T00:00:00",
          "2023-12-28T00:00:00",
          "2023-12-29T00:00:00",
          "2024-01-02T00:00:00",
          "2024-01-03T00:00:00",
          "2024-01-04T00:00:00",
          "2024-01-05T00:00:00",
          "2024-01-08T00:00:00",
          "2024-01-09T00:00:00",
          "2024-01-10T00:00:00",
          "2024-01-11T00:00:00",
          "2024-01-12T00:00:00",
          "2024-01-16T00:00:00",
          "2024-01-17T00:00:00",
          "2024-01-18T00:00:00",
          "2024-01-19T00:00:00",
          "2024-01-22T00:00:00",
          "2024-01-23T00:00:00",
          "2024-01-24T00:00:00",
          "2024-01-25T00:00:00",
          "2024-01-26T00:00:00",
          "2024-01-29T00:00:00",
          "2024-01-30T00:00:00",
          "2024-01-31T00:00:00",
          "2024-02-01T00:00:00",
          "2024-02-02T00:00:00",
          "2024-02-05T00:00:00",
          "2024-02-06T00:00:00",
          "2024-02-07T00:00:00",
          "2024-02-08T00:00:00",
          "2024-02-09T00:00:00",
          "2024-02-12T00:00:00",
          "2024-02-13T00:00:00",
          "2024-02-14T00:00:00",
          "2024-02-15T00:00:00",
          "2024-02-16T00:00:00"
         ],
         "xaxis": "x",
         "y": [
          0.006528501752346221,
          -0.01250975709420646,
          -0.010680650713711118,
          -0.006468962432461471,
          0.009383724038103662,
          -0.03609715505114922,
          -0.044183374027964906,
          -0.07980667890731652,
          -0.06916519864305079,
          -0.05788894470722719,
          -0.0764039694096941,
          -0.05157718927805686,
          -0.06153900406147739,
          -0.03243458555596288,
          -0.06610268521165563,
          -0.0816842924708101,
          -0.08283831661356311,
          -0.08123311673771014,
          -0.09707291377713452,
          -0.09971799780192478,
          -0.0874117142564587,
          -0.08012319652359418,
          -0.09172386276120716,
          -0.09435717096600162,
          -0.09257450010729916,
          -0.09877785248820582,
          -0.0884543814790789,
          -0.0936373836529654,
          -0.10384958165399034,
          -0.127298111752898,
          -0.14346127632302283,
          -0.17082006850926906,
          -0.16217998276954454,
          -0.14486559002302055,
          -0.1662530695138093,
          -0.16403220400868104,
          -0.15781728843809018,
          -0.16124308822707495,
          -0.16685035991312122,
          -0.15081541216889222,
          -0.14951346656492345,
          -0.1446373976310032,
          -0.1409077053586771,
          -0.1504043446416312,
          -0.14309487027827122,
          -0.1638387064051984,
          -0.15038879393257507,
          -0.13130969472004553,
          -0.12766453534250016,
          -0.12987464789883174,
          -0.13480306707434064,
          -0.14677927219248446,
          -0.16216345807026294,
          -0.15249026186068892,
          -0.15793621872214,
          -0.1474248359505722,
          -0.1449072394109535,
          -0.1473216935652939,
          -0.13653265899210038,
          -0.15312597557927707,
          -0.15905177595572212,
          -0.15394985385009732,
          -0.15374641523051588,
          -0.13992218288480812,
          -0.13980781720287136,
          -0.15200388990538183,
          -0.1429659205125681,
          -0.13136820967401924,
          -0.13509608574185697,
          -0.13525191695862424,
          -0.14090026780726564,
          -0.13263231136685436,
          -0.12378155201150134,
          -0.12351030369919765,
          -0.12716919233528756,
          -0.12834106960174257,
          -0.13043622335992472,
          -0.13224025562193964,
          -0.1512198834555359,
          -0.17482573160151418,
          -0.17944761923825606,
          -0.1795379734961119,
          -0.17574538772975107,
          -0.19079756772905962,
          -0.20036781123428357,
          -0.20491461726157129,
          -0.205508158436628,
          -0.2152450287012591,
          -0.20966088123285556,
          -0.2267610387375081,
          -0.22334612705609494,
          -0.2077385062344626,
          -0.18175122258014476,
          -0.16996314193242812,
          -0.19542421599101373,
          -0.18535091637062373,
          -0.1877215113002231,
          -0.1989689107666685,
          -0.2020576371356999,
          -0.2070722435532262,
          -0.2137484215713665,
          -0.21467881345110218,
          -0.22132703270700768,
          -0.2012753954564232,
          -0.20140788250410563,
          -0.19680175370066766,
          -0.22138339428568868,
          -0.2197863829308467,
          -0.20032134567517562,
          -0.17325688809304263,
          -0.17118951727946058,
          -0.17313897778431792,
          -0.1797208908933716,
          -0.18572070265094098,
          -0.1808815856689175,
          -0.19127712029644406,
          -0.18026989117495912,
          -0.18937938199146467,
          -0.1612795993480924,
          -0.15086253938371993,
          -0.15375074127286553,
          -0.1556179727561686,
          -0.14704192802781388,
          -0.1408857421397628,
          -0.1399402569150208,
          -0.13438921631945958,
          -0.13776415135727005,
          -0.12280213957252475,
          -0.11767218113580243,
          -0.11535921731817254,
          -0.10641695506544072,
          -0.11390989103981294,
          -0.09673006426871739,
          -0.0979901378994959,
          -0.09479584012235376,
          -0.0989205851137388,
          -0.06160022032775198,
          -0.06005430122461557,
          -0.050245026939419304,
          -0.050181948090037044,
          -0.05009578702657425,
          -0.04873702860645905,
          -0.04784620428144311,
          -0.0630598355036025,
          -0.05950292669439455,
          -0.056463979100156485,
          -0.05303504025412125,
          -0.06109284577781385,
          -0.0699935735280329,
          -0.06341506564728272,
          -0.07462679056910966,
          -0.069958744702527,
          -0.0716665674668325,
          -0.0714437761890465,
          -0.07509943904905468,
          -0.07507796735595723,
          -0.06696402047870609,
          -0.062476208619618806,
          -0.04982831585969685,
          -0.04216764771597873,
          -0.0772957196402266,
          -0.07960555424184362,
          -0.08595434601670406,
          -0.08621384954613065,
          -0.07311665151404712,
          -0.0852566883440115,
          -0.08120641060199346,
          -0.08771823125353194,
          -0.09550345767103104,
          -0.084122268906369,
          -0.0874281515082026,
          -0.08346845557274532,
          -0.07519408473791547,
          -0.07431242093757826,
          -0.06129041999674885,
          -0.05528942007579523,
          -0.0422323899914304,
          -0.0432562500293212,
          -0.0447027178778749,
          -0.04022627170241472,
          -0.04213512844699203,
          -0.036842545698216565,
          -0.04031959475594192,
          -0.028686214330863744,
          -0.02579458280730204,
          -0.027878257281888377,
          -0.0304955540395604,
          -0.023690308834536534,
          -0.02344174944290478,
          -0.02716401756024077,
          -0.018121580484381478,
          -0.016330895079393993,
          -0.003180371870341713,
          -0.003373788513828453,
          -0.01097522875528557,
          -0.011767301187554301,
          -0.009553449238263073,
          -0.007899896077307867,
          -0.014594987670919424,
          -0.014145895530279501,
          -0.019797411809749303,
          -0.013795269158722992,
          -0.014573993882768138,
          -0.02973048287475536,
          -0.04674891268060758,
          -0.046259678361411254,
          -0.03783175339597254,
          -0.05256255382277109,
          -0.04068476784771205,
          -0.036271822513149574,
          -0.04070106846820671,
          -0.03960072064472689,
          -0.03259022790480579,
          -0.027526336040092497,
          -0.031116564260541775,
          -0.03006901369585974,
          -0.03584195078451599,
          -0.04963247407814335,
          -0.061440956648778015,
          -0.043033279871496875,
          -0.05578684860746651,
          -0.03829088187075884,
          -0.055611429879781585,
          -0.05572738397873746,
          -0.06529193446484487,
          -0.07413150460487668,
          -0.07837420055202486,
          -0.07917030793748106,
          -0.0718375818721727,
          -0.08034207635990924,
          -0.07023278294194896,
          -0.059804264007795455,
          -0.06002122665258805,
          -0.06456258666574877,
          -0.0638336161093866,
          -0.06533662804938654,
          -0.06250734316118724,
          -0.0635706345326373,
          -0.05496868608365006,
          -0.050107345378091236,
          -0.048505417720819836,
          -0.05104690011139491,
          -0.049924030637978456,
          -0.04715173672068775,
          -0.04635142494524493,
          -0.04328622620426358,
          -0.047726804777256715,
          -0.05151220886004305,
          -0.04885274039804045,
          -0.0345776328943667,
          -0.03292744836491755,
          -0.04293579092812139,
          -0.04239395840627639,
          -0.046403669928026456,
          -0.04576734711541643,
          -0.04538366861628199,
          -0.047384622355967895,
          -0.04835060877312699,
          -0.04235323905054935,
          -0.0446635145894614,
          -0.04673657965227683,
          -0.05454949772805058,
          -0.05777502755678964,
          -0.05298686676286696,
          -0.04416936638965682,
          -0.041116373520874536,
          -0.03940716635098581,
          -0.06035910553335556,
          -0.05525470171963826,
          -0.04084782500130152,
          -0.03236878385456609,
          -0.04626002871175951,
          -0.03382301798191902,
          -0.016641625499818576,
          -0.012859753336117176,
          -0.009150140126267955,
          -0.014627312366046058,
          -0.013370051629395458,
          -0.016954121965541153,
          0.0027835837272848427,
          0.0018320932212889025,
          0.029612166639254586,
          0.04074777163068854,
          0.04227068432160659,
          0.01932959025004527,
          0.014424540982784614,
          0.018483107037751516,
          0.011636218304929457,
          0.008338361899953465,
          0.010883936615615583,
          0.01667430342219589,
          0.020857921932006362,
          0.02889423526471721,
          0.030462112695602974,
          0.007561278907305142,
          0.0014826951648374657,
          0.002840270419669573,
          0.006748679940844677,
          0.009594578634992277,
          0.026231627946587486,
          0.034184659496912934,
          0.03244191824509925,
          0.03982373938549522,
          0.040571893601377966,
          0.0409181948193385,
          0.04542912303596669,
          0.04510802607551627,
          0.040194878245487564,
          0.04216578619272347,
          0.04179568568469725,
          0.053315719646050294,
          0.05751770566628947,
          0.05396389618628323,
          0.04939106917630633,
          0.0373632645098811,
          0.040912886129109025,
          0.04387845629329852,
          0.04772136914763131,
          0.03966864294694841,
          0.03249116228720782,
          0.05321297540195938,
          0.04627953438041829,
          0.05240851802382119,
          0.04399151302439007,
          0.029880322146999004,
          0.02468335458043932,
          0.028317633718163194,
          0.02846668974273029,
          0.030486003560418452,
          0.036862663062128126,
          0.029058484672613613,
          0.03225119392136457,
          0.035800465777891304,
          0.04021556811069601,
          0.03735556325123504,
          0.02896042626017796,
          0.03301627315200015,
          0.03385460178648835,
          0.029863177192690434,
          0.02580876525974421,
          0.03561860231870464,
          0.04219031107969009,
          0.04543837577226765,
          0.04517368446047946,
          0.05043359092050709,
          0.04393571603570406,
          0.03514242351662903,
          0.03083450917450202,
          0.03108897707997598,
          0.01706428120130519,
          0.020360483435995357,
          0.019635549685661557,
          0.003603144810947208,
          -0.007903193094876276,
          -0.019076130609829864,
          -0.019946660388267732,
          -0.02749588628070171,
          -0.024104265075631272,
          -0.0234686655130656,
          -0.035404300653649856,
          -0.04266225355070818,
          -0.038631771321632986,
          -0.028485360735319376,
          -0.028039148494507712,
          -0.036938623359204024,
          -0.04440367538488397,
          -0.04563304966905794,
          -0.038577140346210306,
          -0.047696562119626675,
          -0.052985247879309125,
          -0.06585442693751958,
          -0.07095437293612464,
          -0.06732885825086862,
          -0.0666410073945619,
          -0.07154241353172842,
          -0.07038101424122,
          -0.06554888079632189,
          -0.0634523846548087,
          -0.05442907695109215,
          -0.045144504117727,
          -0.04363659164796842,
          -0.043711579840773805,
          -0.046191220737662984,
          -0.045906875775364175,
          -0.04038299110333714,
          -0.04188120680107766,
          -0.04491632697691304,
          -0.02868951402860692,
          -0.02879758103146045,
          -0.028434798830018183,
          -0.024257483099269866,
          -0.025170941357074178,
          -0.025103457739501997,
          -0.02243553311635993,
          -0.02231796084519466,
          -0.02903019390589616,
          -0.03184430568953724,
          -0.03791982978379293,
          -0.029752216838349072,
          -0.01931036445811032,
          -0.028471165107846627,
          -0.021477492319973725,
          -0.01797818720100223,
          -0.014041943124537621,
          -0.0034284487272117792,
          0.0019409272124933314,
          0.0013916874272966039,
          2.419132400156383E-4,
          -0.004045591333642255,
          0.0016133608172771196,
          0.0049322287544496055,
          0.009792318336031738,
          0.0056198346004230765,
          0.007338525004925375,
          0.009891280678878053,
          0.008422667536986554,
          0.004537512869816859,
          0.004045880690959618,
          -3.6702499367788875E-4,
          -0.006389039484050235,
          -0.0028611091875068687,
          -0.00566618513893646,
          1.3165129417474532E-4,
          0.0015253971002124282,
          3.508562736845176E-4,
          -0.007989875400986534,
          -0.004074885209683033,
          -0.008221037860646891,
          -0.015294716905334883,
          -0.013268615841253885,
          -0.006040304693205857,
          -0.0025777673896080866,
          -0.0025907129894801443,
          0.005503260114203342,
          0.004971968311232596,
          0.004336068058322427,
          0.0032802026297129964,
          0.0018589564953464554,
          0.0011913152046686415,
          9.16450826257405E-4,
          0.002684552070010354,
          0.01146209708245698,
          0.013853707698527855,
          0.010937458217274675,
          0.012930627872958365,
          0.014080481167202962,
          0.021984569365652906,
          0.014308569647714528,
          0.015317484110526303,
          0.023254117780163036,
          0.023577581941419814
         ],
         "yaxis": "y",
         "type": "scattergl"
        },
        {
         "hovertemplate": "variable=EqualWeighted<br>index=%{x}<br>value=%{y}<extra></extra>",
         "legendgroup": "EqualWeighted",
         "line": {
          "color": "#EF553B",
          "dash": "solid"
         },
         "marker": {
          "symbol": "circle"
         },
         "mode": "lines",
         "name": "EqualWeighted",
         "showlegend": true,
         "x": [
          "2022-04-28T00:00:00",
          "2022-04-29T00:00:00",
          "2022-05-02T00:00:00",
          "2022-05-03T00:00:00",
          "2022-05-04T00:00:00",
          "2022-05-05T00:00:00",
          "2022-05-06T00:00:00",
          "2022-05-09T00:00:00",
          "2022-05-10T00:00:00",
          "2022-05-11T00:00:00",
          "2022-05-12T00:00:00",
          "2022-05-13T00:00:00",
          "2022-05-16T00:00:00",
          "2022-05-17T00:00:00",
          "2022-05-18T00:00:00",
          "2022-05-19T00:00:00",
          "2022-05-20T00:00:00",
          "2022-05-23T00:00:00",
          "2022-05-24T00:00:00",
          "2022-05-25T00:00:00",
          "2022-05-26T00:00:00",
          "2022-05-27T00:00:00",
          "2022-05-31T00:00:00",
          "2022-06-01T00:00:00",
          "2022-06-02T00:00:00",
          "2022-06-03T00:00:00",
          "2022-06-06T00:00:00",
          "2022-06-07T00:00:00",
          "2022-06-08T00:00:00",
          "2022-06-09T00:00:00",
          "2022-06-10T00:00:00",
          "2022-06-13T00:00:00",
          "2022-06-14T00:00:00",
          "2022-06-15T00:00:00",
          "2022-06-16T00:00:00",
          "2022-06-17T00:00:00",
          "2022-06-21T00:00:00",
          "2022-06-22T00:00:00",
          "2022-06-23T00:00:00",
          "2022-06-24T00:00:00",
          "2022-06-27T00:00:00",
          "2022-06-28T00:00:00",
          "2022-06-29T00:00:00",
          "2022-06-30T00:00:00",
          "2022-07-01T00:00:00",
          "2022-07-05T00:00:00",
          "2022-07-06T00:00:00",
          "2022-07-07T00:00:00",
          "2022-07-08T00:00:00",
          "2022-07-11T00:00:00",
          "2022-07-12T00:00:00",
          "2022-07-13T00:00:00",
          "2022-07-14T00:00:00",
          "2022-07-15T00:00:00",
          "2022-07-18T00:00:00",
          "2022-07-19T00:00:00",
          "2022-07-20T00:00:00",
          "2022-07-21T00:00:00",
          "2022-07-22T00:00:00",
          "2022-07-25T00:00:00",
          "2022-07-26T00:00:00",
          "2022-07-27T00:00:00",
          "2022-07-28T00:00:00",
          "2022-07-29T00:00:00",
          "2022-08-01T00:00:00",
          "2022-08-02T00:00:00",
          "2022-08-03T00:00:00",
          "2022-08-04T00:00:00",
          "2022-08-05T00:00:00",
          "2022-08-08T00:00:00",
          "2022-08-09T00:00:00",
          "2022-08-10T00:00:00",
          "2022-08-11T00:00:00",
          "2022-08-12T00:00:00",
          "2022-08-15T00:00:00",
          "2022-08-16T00:00:00",
          "2022-08-17T00:00:00",
          "2022-08-18T00:00:00",
          "2022-08-19T00:00:00",
          "2022-08-22T00:00:00",
          "2022-08-23T00:00:00",
          "2022-08-24T00:00:00",
          "2022-08-25T00:00:00",
          "2022-08-26T00:00:00",
          "2022-08-29T00:00:00",
          "2022-08-30T00:00:00",
          "2022-08-31T00:00:00",
          "2022-09-01T00:00:00",
          "2022-09-02T00:00:00",
          "2022-09-06T00:00:00",
          "2022-09-07T00:00:00",
          "2022-09-08T00:00:00",
          "2022-09-09T00:00:00",
          "2022-09-12T00:00:00",
          "2022-09-13T00:00:00",
          "2022-09-14T00:00:00",
          "2022-09-15T00:00:00",
          "2022-09-16T00:00:00",
          "2022-09-19T00:00:00",
          "2022-09-20T00:00:00",
          "2022-09-21T00:00:00",
          "2022-09-22T00:00:00",
          "2022-09-23T00:00:00",
          "2022-09-26T00:00:00",
          "2022-09-27T00:00:00",
          "2022-09-28T00:00:00",
          "2022-09-29T00:00:00",
          "2022-09-30T00:00:00",
          "2022-10-03T00:00:00",
          "2022-10-04T00:00:00",
          "2022-10-05T00:00:00",
          "2022-10-06T00:00:00",
          "2022-10-07T00:00:00",
          "2022-10-10T00:00:00",
          "2022-10-11T00:00:00",
          "2022-10-12T00:00:00",
          "2022-10-13T00:00:00",
          "2022-10-14T00:00:00",
          "2022-10-17T00:00:00",
          "2022-10-18T00:00:00",
          "2022-10-19T00:00:00",
          "2022-10-20T00:00:00",
          "2022-10-21T00:00:00",
          "2022-10-24T00:00:00",
          "2022-10-25T00:00:00",
          "2022-10-26T00:00:00",
          "2022-10-27T00:00:00",
          "2022-10-28T00:00:00",
          "2022-10-31T00:00:00",
          "2022-11-01T00:00:00",
          "2022-11-02T00:00:00",
          "2022-11-03T00:00:00",
          "2022-11-04T00:00:00",
          "2022-11-07T00:00:00",
          "2022-11-08T00:00:00",
          "2022-11-09T00:00:00",
          "2022-11-10T00:00:00",
          "2022-11-11T00:00:00",
          "2022-11-14T00:00:00",
          "2022-11-15T00:00:00",
          "2022-11-16T00:00:00",
          "2022-11-17T00:00:00",
          "2022-11-18T00:00:00",
          "2022-11-21T00:00:00",
          "2022-11-22T00:00:00",
          "2022-11-23T00:00:00",
          "2022-11-25T00:00:00",
          "2022-11-28T00:00:00",
          "2022-11-29T00:00:00",
          "2022-11-30T00:00:00",
          "2022-12-01T00:00:00",
          "2022-12-02T00:00:00",
          "2022-12-05T00:00:00",
          "2022-12-06T00:00:00",
          "2022-12-07T00:00:00",
          "2022-12-08T00:00:00",
          "2022-12-09T00:00:00",
          "2022-12-12T00:00:00",
          "2022-12-13T00:00:00",
          "2022-12-14T00:00:00",
          "2022-12-15T00:00:00",
          "2022-12-16T00:00:00",
          "2022-12-19T00:00:00",
          "2022-12-20T00:00:00",
          "2022-12-21T00:00:00",
          "2022-12-22T00:00:00",
          "2022-12-23T00:00:00",
          "2022-12-27T00:00:00",
          "2022-12-28T00:00:00",
          "2022-12-29T00:00:00",
          "2022-12-30T00:00:00",
          "2023-01-03T00:00:00",
          "2023-01-04T00:00:00",
          "2023-01-05T00:00:00",
          "2023-01-06T00:00:00",
          "2023-01-09T00:00:00",
          "2023-01-10T00:00:00",
          "2023-01-11T00:00:00",
          "2023-01-12T00:00:00",
          "2023-01-13T00:00:00",
          "2023-01-17T00:00:00",
          "2023-01-18T00:00:00",
          "2023-01-19T00:00:00",
          "2023-01-20T00:00:00",
          "2023-01-23T00:00:00",
          "2023-01-24T00:00:00",
          "2023-01-25T00:00:00",
          "2023-01-26T00:00:00",
          "2023-01-27T00:00:00",
          "2023-01-30T00:00:00",
          "2023-01-31T00:00:00",
          "2023-02-01T00:00:00",
          "2023-02-02T00:00:00",
          "2023-02-03T00:00:00",
          "2023-02-06T00:00:00",
          "2023-02-07T00:00:00",
          "2023-02-08T00:00:00",
          "2023-02-09T00:00:00",
          "2023-02-10T00:00:00",
          "2023-02-13T00:00:00",
          "2023-02-14T00:00:00",
          "2023-02-15T00:00:00",
          "2023-02-16T00:00:00",
          "2023-02-17T00:00:00",
          "2023-02-21T00:00:00",
          "2023-02-22T00:00:00",
          "2023-02-23T00:00:00",
          "2023-02-24T00:00:00",
          "2023-02-27T00:00:00",
          "2023-02-28T00:00:00",
          "2023-03-01T00:00:00",
          "2023-03-02T00:00:00",
          "2023-03-03T00:00:00",
          "2023-03-06T00:00:00",
          "2023-03-07T00:00:00",
          "2023-03-08T00:00:00",
          "2023-03-09T00:00:00",
          "2023-03-10T00:00:00",
          "2023-03-13T00:00:00",
          "2023-03-14T00:00:00",
          "2023-03-15T00:00:00",
          "2023-03-16T00:00:00",
          "2023-03-17T00:00:00",
          "2023-03-20T00:00:00",
          "2023-03-21T00:00:00",
          "2023-03-22T00:00:00",
          "2023-03-23T00:00:00",
          "2023-03-24T00:00:00",
          "2023-03-27T00:00:00",
          "2023-03-28T00:00:00",
          "2023-03-29T00:00:00",
          "2023-03-30T00:00:00",
          "2023-03-31T00:00:00",
          "2023-04-03T00:00:00",
          "2023-04-04T00:00:00",
          "2023-04-05T00:00:00",
          "2023-04-06T00:00:00",
          "2023-04-11T00:00:00",
          "2023-04-12T00:00:00",
          "2023-04-13T00:00:00",
          "2023-04-14T00:00:00",
          "2023-04-17T00:00:00",
          "2023-04-18T00:00:00",
          "2023-04-19T00:00:00",
          "2023-04-20T00:00:00",
          "2023-04-21T00:00:00",
          "2023-04-24T00:00:00",
          "2023-04-25T00:00:00",
          "2023-04-26T00:00:00",
          "2023-04-27T00:00:00",
          "2023-04-28T00:00:00",
          "2023-05-02T00:00:00",
          "2023-05-03T00:00:00",
          "2023-05-04T00:00:00",
          "2023-05-05T00:00:00",
          "2023-05-08T00:00:00",
          "2023-05-09T00:00:00",
          "2023-05-10T00:00:00",
          "2023-05-11T00:00:00",
          "2023-05-12T00:00:00",
          "2023-05-15T00:00:00",
          "2023-05-16T00:00:00",
          "2023-05-17T00:00:00",
          "2023-05-18T00:00:00",
          "2023-05-19T00:00:00",
          "2023-05-22T00:00:00",
          "2023-05-23T00:00:00",
          "2023-05-24T00:00:00",
          "2023-05-25T00:00:00",
          "2023-05-26T00:00:00",
          "2023-05-30T00:00:00",
          "2023-05-31T00:00:00",
          "2023-06-01T00:00:00",
          "2023-06-02T00:00:00",
          "2023-06-05T00:00:00",
          "2023-06-06T00:00:00",
          "2023-06-07T00:00:00",
          "2023-06-08T00:00:00",
          "2023-06-09T00:00:00",
          "2023-06-12T00:00:00",
          "2023-06-13T00:00:00",
          "2023-06-14T00:00:00",
          "2023-06-15T00:00:00",
          "2023-06-16T00:00:00",
          "2023-06-20T00:00:00",
          "2023-06-21T00:00:00",
          "2023-06-22T00:00:00",
          "2023-06-23T00:00:00",
          "2023-06-26T00:00:00",
          "2023-06-27T00:00:00",
          "2023-06-28T00:00:00",
          "2023-06-29T00:00:00",
          "2023-06-30T00:00:00",
          "2023-07-03T00:00:00",
          "2023-07-05T00:00:00",
          "2023-07-06T00:00:00",
          "2023-07-07T00:00:00",
          "2023-07-10T00:00:00",
          "2023-07-11T00:00:00",
          "2023-07-12T00:00:00",
          "2023-07-13T00:00:00",
          "2023-07-14T00:00:00",
          "2023-07-17T00:00:00",
          "2023-07-18T00:00:00",
          "2023-07-19T00:00:00",
          "2023-07-20T00:00:00",
          "2023-07-21T00:00:00",
          "2023-07-24T00:00:00",
          "2023-07-25T00:00:00",
          "2023-07-26T00:00:00",
          "2023-07-27T00:00:00",
          "2023-07-28T00:00:00",
          "2023-07-31T00:00:00",
          "2023-08-01T00:00:00",
          "2023-08-02T00:00:00",
          "2023-08-03T00:00:00",
          "2023-08-04T00:00:00",
          "2023-08-07T00:00:00",
          "2023-08-08T00:00:00",
          "2023-08-09T00:00:00",
          "2023-08-10T00:00:00",
          "2023-08-11T00:00:00",
          "2023-08-14T00:00:00",
          "2023-08-15T00:00:00",
          "2023-08-16T00:00:00",
          "2023-08-17T00:00:00",
          "2023-08-18T00:00:00",
          "2023-08-21T00:00:00",
          "2023-08-22T00:00:00",
          "2023-08-23T00:00:00",
          "2023-08-24T00:00:00",
          "2023-08-25T00:00:00",
          "2023-08-28T00:00:00",
          "2023-08-29T00:00:00",
          "2023-08-30T00:00:00",
          "2023-08-31T00:00:00",
          "2023-09-01T00:00:00",
          "2023-09-05T00:00:00",
          "2023-09-06T00:00:00",
          "2023-09-07T00:00:00",
          "2023-09-08T00:00:00",
          "2023-09-11T00:00:00",
          "2023-09-12T00:00:00",
          "2023-09-13T00:00:00",
          "2023-09-14T00:00:00",
          "2023-09-15T00:00:00",
          "2023-09-18T00:00:00",
          "2023-09-19T00:00:00",
          "2023-09-20T00:00:00",
          "2023-09-21T00:00:00",
          "2023-09-22T00:00:00",
          "2023-09-25T00:00:00",
          "2023-09-26T00:00:00",
          "2023-09-27T00:00:00",
          "2023-09-28T00:00:00",
          "2023-09-29T00:00:00",
          "2023-10-02T00:00:00",
          "2023-10-03T00:00:00",
          "2023-10-04T00:00:00",
          "2023-10-05T00:00:00",
          "2023-10-06T00:00:00",
          "2023-10-09T00:00:00",
          "2023-10-10T00:00:00",
          "2023-10-11T00:00:00",
          "2023-10-12T00:00:00",
          "2023-10-13T00:00:00",
          "2023-10-16T00:00:00",
          "2023-10-17T00:00:00",
          "2023-10-18T00:00:00",
          "2023-10-19T00:00:00",
          "2023-10-20T00:00:00",
          "2023-10-23T00:00:00",
          "2023-10-24T00:00:00",
          "2023-10-25T00:00:00",
          "2023-10-26T00:00:00",
          "2023-10-27T00:00:00",
          "2023-10-30T00:00:00",
          "2023-10-31T00:00:00",
          "2023-11-01T00:00:00",
          "2023-11-02T00:00:00",
          "2023-11-03T00:00:00",
          "2023-11-06T00:00:00",
          "2023-11-07T00:00:00",
          "2023-11-08T00:00:00",
          "2023-11-09T00:00:00",
          "2023-11-10T00:00:00",
          "2023-11-13T00:00:00",
          "2023-11-14T00:00:00",
          "2023-11-15T00:00:00",
          "2023-11-16T00:00:00",
          "2023-11-17T00:00:00",
          "2023-11-20T00:00:00",
          "2023-11-21T00:00:00",
          "2023-11-22T00:00:00",
          "2023-11-24T00:00:00",
          "2023-11-27T00:00:00",
          "2023-11-28T00:00:00",
          "2023-11-29T00:00:00",
          "2023-11-30T00:00:00",
          "2023-12-01T00:00:00",
          "2023-12-04T00:00:00",
          "2023-12-05T00:00:00",
          "2023-12-06T00:00:00",
          "2023-12-07T00:00:00",
          "2023-12-08T00:00:00",
          "2023-12-11T00:00:00",
          "2023-12-12T00:00:00",
          "2023-12-13T00:00:00",
          "2023-12-14T00:00:00",
          "2023-12-15T00:00:00",
          "2023-12-18T00:00:00",
          "2023-12-19T00:00:00",
          "2023-12-20T00:00:00",
          "2023-12-21T00:00:00",
          "2023-12-22T00:00:00",
          "2023-12-27T00:00:00",
          "2023-12-28T00:00:00",
          "2023-12-29T00:00:00",
          "2024-01-02T00:00:00",
          "2024-01-03T00:00:00",
          "2024-01-04T00:00:00",
          "2024-01-05T00:00:00",
          "2024-01-08T00:00:00",
          "2024-01-09T00:00:00",
          "2024-01-10T00:00:00",
          "2024-01-11T00:00:00",
          "2024-01-12T00:00:00",
          "2024-01-16T00:00:00",
          "2024-01-17T00:00:00",
          "2024-01-18T00:00:00",
          "2024-01-19T00:00:00",
          "2024-01-22T00:00:00",
          "2024-01-23T00:00:00",
          "2024-01-24T00:00:00",
          "2024-01-25T00:00:00",
          "2024-01-26T00:00:00",
          "2024-01-29T00:00:00",
          "2024-01-30T00:00:00",
          "2024-01-31T00:00:00",
          "2024-02-01T00:00:00",
          "2024-02-02T00:00:00",
          "2024-02-05T00:00:00",
          "2024-02-06T00:00:00",
          "2024-02-07T00:00:00",
          "2024-02-08T00:00:00",
          "2024-02-09T00:00:00",
          "2024-02-12T00:00:00",
          "2024-02-13T00:00:00",
          "2024-02-14T00:00:00",
          "2024-02-15T00:00:00",
          "2024-02-16T00:00:00"
         ],
         "xaxis": "x",
         "y": [
          0.00669187609886841,
          -0.01593322741688883,
          -0.014632927602974344,
          -0.01036442757157403,
          0.009775253282293454,
          -0.031188826379522184,
          -0.038423834989361264,
          -0.07151077693307001,
          -0.06413493540092871,
          -0.056221929442167744,
          -0.0718441622280445,
          -0.047738811759678354,
          -0.05661942128382473,
          -0.02803579890240048,
          -0.06302964844826936,
          -0.07644346605411637,
          -0.07634658589169013,
          -0.07252048818284983,
          -0.08752167079763035,
          -0.08933205630099825,
          -0.07560067461720121,
          -0.06471873526394252,
          -0.0757554898696493,
          -0.07916072649236434,
          -0.07456669438089195,
          -0.08419029887232009,
          -0.07484563888009546,
          -0.07736696511895953,
          -0.08767856529050769,
          -0.11459928006342007,
          -0.1319150487449584,
          -0.1627405221889141,
          -0.15572632621479263,
          -0.1408124838374694,
          -0.16285356519647165,
          -0.16351901342246242,
          -0.1540618325331279,
          -0.15647784726509395,
          -0.15872821755340233,
          -0.13848593136872145,
          -0.1378252282067502,
          -0.13685455895904172,
          -0.13385928322600582,
          -0.14362082258624728,
          -0.13492996364540813,
          -0.15314643448719428,
          -0.13929208530317988,
          -0.11918096307105605,
          -0.11666983075856391,
          -0.12012281876899265,
          -0.12670514777623143,
          -0.13869705248744113,
          -0.1514521570266036,
          -0.14288985396614276,
          -0.14869357653160334,
          -0.13556403894071586,
          -0.1323661970230843,
          -0.1330906133909246,
          -0.12339061220322024,
          -0.13980321245342914,
          -0.14638440716631082,
          -0.13829079942717307,
          -0.13582429716388864,
          -0.1218598117437307,
          -0.12264664018899046,
          -0.13524733056098642,
          -0.12482132302672401,
          -0.11340701405867668,
          -0.11628172560092888,
          -0.11740920362505382,
          -0.12414539231197239,
          -0.11174922781498581,
          -0.10318757716818089,
          -0.10073750036523223,
          -0.10236280392958179,
          -0.10375848977689062,
          -0.10594614899481876,
          -0.1074263550821543,
          -0.12450509262624215,
          -0.14791533540007992,
          -0.1531648161094188,
          -0.15257463122410445,
          -0.1477170027373261,
          -0.16464434904501057,
          -0.1736345567230758,
          -0.18009971570943276,
          -0.1810991937807004,
          -0.18828768228117432,
          -0.1864829119288695,
          -0.20154486663090843,
          -0.195917966350352,
          -0.18007176268964825,
          -0.1541910335486219,
          -0.14576861335779234,
          -0.17181244697523462,
          -0.1612037018384485,
          -0.16441107227440174,
          -0.17686032605031426,
          -0.17796105071131862,
          -0.1835298996304237,
          -0.19316452135363948,
          -0.19538026357490157,
          -0.2021443122614654,
          -0.18275431472536213,
          -0.1828195541892765,
          -0.17402776643823353,
          -0.19932146639988033,
          -0.2014484747321816,
          -0.17811813177492636,
          -0.1500648232849626,
          -0.1480949005497477,
          -0.15144668682326257,
          -0.15916234389118827,
          -0.16582325012336588,
          -0.16054182353888402,
          -0.17158018478004863,
          -0.15892026606784834,
          -0.16901117055621953,
          -0.14184918451249953,
          -0.12948502753274377,
          -0.13516982223576332,
          -0.13857980648631696,
          -0.12706213015191353,
          -0.11907398983255432,
          -0.11647714078030441,
          -0.1119142413951974,
          -0.11559345407389146,
          -0.09904589318224202,
          -0.09525292040469722,
          -0.09434666684262952,
          -0.08796258902095865,
          -0.09556320904670718,
          -0.07848882333398036,
          -0.07897822040764826,
          -0.07612958566963116,
          -0.08241304684532935,
          -0.045125144079986884,
          -0.04247072089386194,
          -0.035329308771993445,
          -0.03259149570368942,
          -0.035290339753103514,
          -0.03383497269490565,
          -0.03446713873033327,
          -0.048212098061415576,
          -0.04348068298901431,
          -0.03980390600314447,
          -0.03684972037773486,
          -0.046192031776318115,
          -0.05574664897507502,
          -0.04525764124513982,
          -0.056731527708952977,
          -0.05191832458417003,
          -0.0565602410591733,
          -0.05781726280579258,
          -0.06176320315382049,
          -0.06134202666852462,
          -0.055120544216279634,
          -0.047210303278908426,
          -0.035737180970015436,
          -0.028842046403602127,
          -0.06362980385377023,
          -0.06768497341403851,
          -0.07560316215906836,
          -0.07556649243043932,
          -0.06256890434973451,
          -0.07475271552010848,
          -0.06935437575959348,
          -0.0753693025609384,
          -0.08362521231114084,
          -0.0713259768552432,
          -0.07407418382224219,
          -0.07214971618380507,
          -0.06544955281049852,
          -0.0642328755422489,
          -0.05097555077393595,
          -0.04656492662494614,
          -0.03423193212600627,
          -0.0338590458867514,
          -0.03711231073227699,
          -0.03237038697356518,
          -0.03544458594146758,
          -0.03292546614780385,
          -0.03705815425174224,
          -0.02545748360039351,
          -0.020087977204607782,
          -0.02254954634090836,
          -0.025568526657494567,
          -0.01685980289461511,
          -0.016688192978044587,
          -0.022367936689961693,
          -0.009878899487721032,
          -0.006953673190044323,
          0.008520802252068013,
          0.006623620372328351,
          -0.0015909211295896987,
          -8.089799236019957E-5,
          -8.339492854044371E-4,
          -0.0014809898088739037,
          -0.006822912973114685,
          -0.003701505977142653,
          -0.009851856567151911,
          -0.0031594889907170347,
          -0.005034431416750045,
          -0.01658520210838728,
          -0.03532054994983427,
          -0.03501609661587149,
          -0.026863751990947444,
          -0.04176614166312423,
          -0.03158986638578636,
          -0.029373085062110296,
          -0.03305591140493474,
          -0.031207681390902024,
          -0.0232088881484402,
          -0.01861846077162941,
          -0.02427341702301305,
          -0.024063229999882134,
          -0.03266306650550639,
          -0.047823628145430376,
          -0.05773679481812166,
          -0.03976853299852652,
          -0.05139359204328658,
          -0.03158643106205841,
          -0.04962387585417785,
          -0.047883537879204144,
          -0.05899058949741807,
          -0.07050988834203524,
          -0.07462593191336472,
          -0.07324861763322589,
          -0.06551040572362907,
          -0.07448320327421167,
          -0.06388927085753918,
          -0.05371641864328607,
          -0.052126497548427846,
          -0.056210308602516794,
          -0.05664612973623371,
          -0.05853600721248982,
          -0.056769642537525145,
          -0.05771598252298475,
          -0.05039556223541583,
          -0.04395562624724589,
          -0.04293374787555566,
          -0.04384930374401969,
          -0.043693939728039984,
          -0.042078772533359204,
          -0.0420945298523462,
          -0.03956773032003197,
          -0.04288655519999486,
          -0.048532776525326164,
          -0.04770835004191984,
          -0.03247441399456269,
          -0.02967784274312134,
          -0.040219135347353385,
          -0.04156794837464103,
          -0.0459450108302874,
          -0.040758183864342254,
          -0.040941450218762665,
          -0.04326787823708863,
          -0.04213656017530541,
          -0.036315819509130216,
          -0.03915774073404981,
          -0.03989979959405479,
          -0.048696318644115104,
          -0.049052416819272596,
          -0.04394943601985173,
          -0.03608196074130279,
          -0.03161748914788878,
          -0.031456669280866996,
          -0.05123417568744794,
          -0.046175111985584966,
          -0.030875713638361627,
          -0.022311604890857942,
          -0.03445409150910991,
          -0.02196500821217934,
          -0.004621822616101525,
          -0.0012230782009278757,
          0.00278972273598984,
          -0.0024150823264150866,
          -1.71002853695746E-4,
          -0.00312819806008734,
          0.01829809277712501,
          0.018638738852155935,
          0.04636381535990024,
          0.060301520072343795,
          0.05989140227945551,
          0.03732025190280084,
          0.03271289471740293,
          0.03623327037406567,
          0.02861500142669313,
          0.025699699652342308,
          0.02774436755456413,
          0.03332271791781942,
          0.03905791728102467,
          0.04684072165519532,
          0.048346907481027476,
          0.02739250219673583,
          0.022140921500996974,
          0.022553146162643405,
          0.02603279368821009,
          0.02922445706270306,
          0.04465827468571341,
          0.05312617431986209,
          0.05186662225590413,
          0.05977045755179094,
          0.061716510401786585,
          0.06251658866214087,
          0.06460603716023607,
          0.06403607350052763,
          0.06107308567177597,
          0.062497428199996846,
          0.06260558253204887,
          0.07152206015663708,
          0.07638986026953377,
          0.0738715003055816,
          0.06916410064077425,
          0.057434603062059934,
          0.06053875821740559,
          0.06156941939421738,
          0.06610108705755675,
          0.05864436365188175,
          0.05050962984616887,
          0.06657410645152417,
          0.06127845913496788,
          0.06638265334716638,
          0.057566036707532624,
          0.04350190255279021,
          0.03778311433686342,
          0.04272501885369714,
          0.044227989107056574,
          0.04566985137176024,
          0.05363742460868191,
          0.04334349948110297,
          0.04768418172577363,
          0.05098554201747819,
          0.05741364794433886,
          0.05509928806159657,
          0.046638502463848694,
          0.051067032308209664,
          0.05210830786348755,
          0.04687650274024309,
          0.04228883086390885,
          0.05219647988548606,
          0.05887980334252717,
          0.06023244518314593,
          0.06002856913702404,
          0.0652468488546248,
          0.057510247386959625,
          0.0509931683626649,
          0.04556630106077004,
          0.045742625082520555,
          0.030559265384003192,
          0.03209031279785796,
          0.03294573818184658,
          0.0148044007037555,
          0.0038208078210046417,
          -0.007684657758379504,
          -0.008359347783301347,
          -0.016575646165751162,
          -0.013003661273217086,
          -0.012516620373460022,
          -0.024644814944617014,
          -0.03268296485573779,
          -0.027098089470056413,
          -0.0172177842660243,
          -0.017493529392331557,
          -0.02766370638902769,
          -0.0336171235378634,
          -0.034334487118515,
          -0.027178663154273253,
          -0.037380230671727764,
          -0.04294682867539979,
          -0.054513874143401975,
          -0.06001869012257138,
          -0.055616136090131885,
          -0.05674803436605654,
          -0.06204942518962099,
          -0.06291324305776955,
          -0.05766806103668808,
          -0.05454218356847217,
          -0.04624481665173727,
          -0.033409207077999985,
          -0.029777463884563787,
          -0.029327049950552436,
          -0.03071821780965111,
          -0.031067056853400537,
          -0.02782017125836908,
          -0.02610042256878948,
          -0.029395204086478662,
          -0.010455592517611606,
          -0.010053535066031122,
          -0.010648293300027473,
          -0.007381224074397292,
          -0.006062768283233572,
          -0.006690074509300275,
          -0.003954666999381934,
          -0.0045564221708526975,
          -0.010991204077164224,
          -0.01350360500781413,
          -0.02008427404075159,
          -0.010681112345783214,
          -9.207369312394589E-4,
          -0.010534170887935398,
          -0.005214114906169272,
          -0.0031734983597641003,
          6.419445171370205E-4,
          0.01121668406447958,
          0.016469600067571304,
          0.016716727744346432,
          0.018450589900145635,
          0.016671856061525374,
          0.019908064528864382,
          0.02388865150746891,
          0.029215084397185058,
          0.022868674934661874,
          0.02631112598804511,
          0.028742785379402606,
          0.028056366829485917,
          0.025873818852291435,
          0.024515986905152845,
          0.019267231384808417,
          0.01345834523511871,
          0.01565098497188158,
          0.013345981807541986,
          0.019378424492594196,
          0.02051289660346767,
          0.02078540156907978,
          0.01297942344292951,
          0.015815288101570207,
          0.010375584409729193,
          0.001388692594970679,
          0.00446480317831031,
          0.010878458424641885,
          0.015025675716842463,
          0.017072467767714188,
          0.023895259497526404,
          0.02525397266474752,
          0.024057155952243076,
          0.024758713883501954,
          0.023144874032483737,
          0.01999436447610901,
          0.022286553907276546,
          0.025180876498248145,
          0.033475270329459586,
          0.035367110134927326,
          0.03496968206462168,
          0.037429556983382045,
          0.04007010904743989,
          0.04648662858771074,
          0.03628890778927661,
          0.03931451693684348,
          0.04824429563361153,
          0.04810670905752085
         ],
         "yaxis": "y",
         "type": "scattergl"
        },
        {
         "hovertemplate": "variable=Random<br>index=%{x}<br>value=%{y}<extra></extra>",
         "legendgroup": "Random",
         "line": {
          "color": "#00cc96",
          "dash": "solid"
         },
         "marker": {
          "symbol": "circle"
         },
         "mode": "lines",
         "name": "Random",
         "showlegend": true,
         "x": [
          "2022-04-28T00:00:00",
          "2022-04-29T00:00:00",
          "2022-05-02T00:00:00",
          "2022-05-03T00:00:00",
          "2022-05-04T00:00:00",
          "2022-05-05T00:00:00",
          "2022-05-06T00:00:00",
          "2022-05-09T00:00:00",
          "2022-05-10T00:00:00",
          "2022-05-11T00:00:00",
          "2022-05-12T00:00:00",
          "2022-05-13T00:00:00",
          "2022-05-16T00:00:00",
          "2022-05-17T00:00:00",
          "2022-05-18T00:00:00",
          "2022-05-19T00:00:00",
          "2022-05-20T00:00:00",
          "2022-05-23T00:00:00",
          "2022-05-24T00:00:00",
          "2022-05-25T00:00:00",
          "2022-05-26T00:00:00",
          "2022-05-27T00:00:00",
          "2022-05-31T00:00:00",
          "2022-06-01T00:00:00",
          "2022-06-02T00:00:00",
          "2022-06-03T00:00:00",
          "2022-06-06T00:00:00",
          "2022-06-07T00:00:00",
          "2022-06-08T00:00:00",
          "2022-06-09T00:00:00",
          "2022-06-10T00:00:00",
          "2022-06-13T00:00:00",
          "2022-06-14T00:00:00",
          "2022-06-15T00:00:00",
          "2022-06-16T00:00:00",
          "2022-06-17T00:00:00",
          "2022-06-21T00:00:00",
          "2022-06-22T00:00:00",
          "2022-06-23T00:00:00",
          "2022-06-24T00:00:00",
          "2022-06-27T00:00:00",
          "2022-06-28T00:00:00",
          "2022-06-29T00:00:00",
          "2022-06-30T00:00:00",
          "2022-07-01T00:00:00",
          "2022-07-05T00:00:00",
          "2022-07-06T00:00:00",
          "2022-07-07T00:00:00",
          "2022-07-08T00:00:00",
          "2022-07-11T00:00:00",
          "2022-07-12T00:00:00",
          "2022-07-13T00:00:00",
          "2022-07-14T00:00:00",
          "2022-07-15T00:00:00",
          "2022-07-18T00:00:00",
          "2022-07-19T00:00:00",
          "2022-07-20T00:00:00",
          "2022-07-21T00:00:00",
          "2022-07-22T00:00:00",
          "2022-07-25T00:00:00",
          "2022-07-26T00:00:00",
          "2022-07-27T00:00:00",
          "2022-07-28T00:00:00",
          "2022-07-29T00:00:00",
          "2022-08-01T00:00:00",
          "2022-08-02T00:00:00",
          "2022-08-03T00:00:00",
          "2022-08-04T00:00:00",
          "2022-08-05T00:00:00",
          "2022-08-08T00:00:00",
          "2022-08-09T00:00:00",
          "2022-08-10T00:00:00",
          "2022-08-11T00:00:00",
          "2022-08-12T00:00:00",
          "2022-08-15T00:00:00",
          "2022-08-16T00:00:00",
          "2022-08-17T00:00:00",
          "2022-08-18T00:00:00",
          "2022-08-19T00:00:00",
          "2022-08-22T00:00:00",
          "2022-08-23T00:00:00",
          "2022-08-24T00:00:00",
          "2022-08-25T00:00:00",
          "2022-08-26T00:00:00",
          "2022-08-29T00:00:00",
          "2022-08-30T00:00:00",
          "2022-08-31T00:00:00",
          "2022-09-01T00:00:00",
          "2022-09-02T00:00:00",
          "2022-09-06T00:00:00",
          "2022-09-07T00:00:00",
          "2022-09-08T00:00:00",
          "2022-09-09T00:00:00",
          "2022-09-12T00:00:00",
          "2022-09-13T00:00:00",
          "2022-09-14T00:00:00",
          "2022-09-15T00:00:00",
          "2022-09-16T00:00:00",
          "2022-09-19T00:00:00",
          "2022-09-20T00:00:00",
          "2022-09-21T00:00:00",
          "2022-09-22T00:00:00",
          "2022-09-23T00:00:00",
          "2022-09-26T00:00:00",
          "2022-09-27T00:00:00",
          "2022-09-28T00:00:00",
          "2022-09-29T00:00:00",
          "2022-09-30T00:00:00",
          "2022-10-03T00:00:00",
          "2022-10-04T00:00:00",
          "2022-10-05T00:00:00",
          "2022-10-06T00:00:00",
          "2022-10-07T00:00:00",
          "2022-10-10T00:00:00",
          "2022-10-11T00:00:00",
          "2022-10-12T00:00:00",
          "2022-10-13T00:00:00",
          "2022-10-14T00:00:00",
          "2022-10-17T00:00:00",
          "2022-10-18T00:00:00",
          "2022-10-19T00:00:00",
          "2022-10-20T00:00:00",
          "2022-10-21T00:00:00",
          "2022-10-24T00:00:00",
          "2022-10-25T00:00:00",
          "2022-10-26T00:00:00",
          "2022-10-27T00:00:00",
          "2022-10-28T00:00:00",
          "2022-10-31T00:00:00",
          "2022-11-01T00:00:00",
          "2022-11-02T00:00:00",
          "2022-11-03T00:00:00",
          "2022-11-04T00:00:00",
          "2022-11-07T00:00:00",
          "2022-11-08T00:00:00",
          "2022-11-09T00:00:00",
          "2022-11-10T00:00:00",
          "2022-11-11T00:00:00",
          "2022-11-14T00:00:00",
          "2022-11-15T00:00:00",
          "2022-11-16T00:00:00",
          "2022-11-17T00:00:00",
          "2022-11-18T00:00:00",
          "2022-11-21T00:00:00",
          "2022-11-22T00:00:00",
          "2022-11-23T00:00:00",
          "2022-11-25T00:00:00",
          "2022-11-28T00:00:00",
          "2022-11-29T00:00:00",
          "2022-11-30T00:00:00",
          "2022-12-01T00:00:00",
          "2022-12-02T00:00:00",
          "2022-12-05T00:00:00",
          "2022-12-06T00:00:00",
          "2022-12-07T00:00:00",
          "2022-12-08T00:00:00",
          "2022-12-09T00:00:00",
          "2022-12-12T00:00:00",
          "2022-12-13T00:00:00",
          "2022-12-14T00:00:00",
          "2022-12-15T00:00:00",
          "2022-12-16T00:00:00",
          "2022-12-19T00:00:00",
          "2022-12-20T00:00:00",
          "2022-12-21T00:00:00",
          "2022-12-22T00:00:00",
          "2022-12-23T00:00:00",
          "2022-12-27T00:00:00",
          "2022-12-28T00:00:00",
          "2022-12-29T00:00:00",
          "2022-12-30T00:00:00",
          "2023-01-03T00:00:00",
          "2023-01-04T00:00:00",
          "2023-01-05T00:00:00",
          "2023-01-06T00:00:00",
          "2023-01-09T00:00:00",
          "2023-01-10T00:00:00",
          "2023-01-11T00:00:00",
          "2023-01-12T00:00:00",
          "2023-01-13T00:00:00",
          "2023-01-17T00:00:00",
          "2023-01-18T00:00:00",
          "2023-01-19T00:00:00",
          "2023-01-20T00:00:00",
          "2023-01-23T00:00:00",
          "2023-01-24T00:00:00",
          "2023-01-25T00:00:00",
          "2023-01-26T00:00:00",
          "2023-01-27T00:00:00",
          "2023-01-30T00:00:00",
          "2023-01-31T00:00:00",
          "2023-02-01T00:00:00",
          "2023-02-02T00:00:00",
          "2023-02-03T00:00:00",
          "2023-02-06T00:00:00",
          "2023-02-07T00:00:00",
          "2023-02-08T00:00:00",
          "2023-02-09T00:00:00",
          "2023-02-10T00:00:00",
          "2023-02-13T00:00:00",
          "2023-02-14T00:00:00",
          "2023-02-15T00:00:00",
          "2023-02-16T00:00:00",
          "2023-02-17T00:00:00",
          "2023-02-21T00:00:00",
          "2023-02-22T00:00:00",
          "2023-02-23T00:00:00",
          "2023-02-24T00:00:00",
          "2023-02-27T00:00:00",
          "2023-02-28T00:00:00",
          "2023-03-01T00:00:00",
          "2023-03-02T00:00:00",
          "2023-03-03T00:00:00",
          "2023-03-06T00:00:00",
          "2023-03-07T00:00:00",
          "2023-03-08T00:00:00",
          "2023-03-09T00:00:00",
          "2023-03-10T00:00:00",
          "2023-03-13T00:00:00",
          "2023-03-14T00:00:00",
          "2023-03-15T00:00:00",
          "2023-03-16T00:00:00",
          "2023-03-17T00:00:00",
          "2023-03-20T00:00:00",
          "2023-03-21T00:00:00",
          "2023-03-22T00:00:00",
          "2023-03-23T00:00:00",
          "2023-03-24T00:00:00",
          "2023-03-27T00:00:00",
          "2023-03-28T00:00:00",
          "2023-03-29T00:00:00",
          "2023-03-30T00:00:00",
          "2023-03-31T00:00:00",
          "2023-04-03T00:00:00",
          "2023-04-04T00:00:00",
          "2023-04-05T00:00:00",
          "2023-04-06T00:00:00",
          "2023-04-11T00:00:00",
          "2023-04-12T00:00:00",
          "2023-04-13T00:00:00",
          "2023-04-14T00:00:00",
          "2023-04-17T00:00:00",
          "2023-04-18T00:00:00",
          "2023-04-19T00:00:00",
          "2023-04-20T00:00:00",
          "2023-04-21T00:00:00",
          "2023-04-24T00:00:00",
          "2023-04-25T00:00:00",
          "2023-04-26T00:00:00",
          "2023-04-27T00:00:00",
          "2023-04-28T00:00:00",
          "2023-05-02T00:00:00",
          "2023-05-03T00:00:00",
          "2023-05-04T00:00:00",
          "2023-05-05T00:00:00",
          "2023-05-08T00:00:00",
          "2023-05-09T00:00:00",
          "2023-05-10T00:00:00",
          "2023-05-11T00:00:00",
          "2023-05-12T00:00:00",
          "2023-05-15T00:00:00",
          "2023-05-16T00:00:00",
          "2023-05-17T00:00:00",
          "2023-05-18T00:00:00",
          "2023-05-19T00:00:00",
          "2023-05-22T00:00:00",
          "2023-05-23T00:00:00",
          "2023-05-24T00:00:00",
          "2023-05-25T00:00:00",
          "2023-05-26T00:00:00",
          "2023-05-30T00:00:00",
          "2023-05-31T00:00:00",
          "2023-06-01T00:00:00",
          "2023-06-02T00:00:00",
          "2023-06-05T00:00:00",
          "2023-06-06T00:00:00",
          "2023-06-07T00:00:00",
          "2023-06-08T00:00:00",
          "2023-06-09T00:00:00",
          "2023-06-12T00:00:00",
          "2023-06-13T00:00:00",
          "2023-06-14T00:00:00",
          "2023-06-15T00:00:00",
          "2023-06-16T00:00:00",
          "2023-06-20T00:00:00",
          "2023-06-21T00:00:00",
          "2023-06-22T00:00:00",
          "2023-06-23T00:00:00",
          "2023-06-26T00:00:00",
          "2023-06-27T00:00:00",
          "2023-06-28T00:00:00",
          "2023-06-29T00:00:00",
          "2023-06-30T00:00:00",
          "2023-07-03T00:00:00",
          "2023-07-05T00:00:00",
          "2023-07-06T00:00:00",
          "2023-07-07T00:00:00",
          "2023-07-10T00:00:00",
          "2023-07-11T00:00:00",
          "2023-07-12T00:00:00",
          "2023-07-13T00:00:00",
          "2023-07-14T00:00:00",
          "2023-07-17T00:00:00",
          "2023-07-18T00:00:00",
          "2023-07-19T00:00:00",
          "2023-07-20T00:00:00",
          "2023-07-21T00:00:00",
          "2023-07-24T00:00:00",
          "2023-07-25T00:00:00",
          "2023-07-26T00:00:00",
          "2023-07-27T00:00:00",
          "2023-07-28T00:00:00",
          "2023-07-31T00:00:00",
          "2023-08-01T00:00:00",
          "2023-08-02T00:00:00",
          "2023-08-03T00:00:00",
          "2023-08-04T00:00:00",
          "2023-08-07T00:00:00",
          "2023-08-08T00:00:00",
          "2023-08-09T00:00:00",
          "2023-08-10T00:00:00",
          "2023-08-11T00:00:00",
          "2023-08-14T00:00:00",
          "2023-08-15T00:00:00",
          "2023-08-16T00:00:00",
          "2023-08-17T00:00:00",
          "2023-08-18T00:00:00",
          "2023-08-21T00:00:00",
          "2023-08-22T00:00:00",
          "2023-08-23T00:00:00",
          "2023-08-24T00:00:00",
          "2023-08-25T00:00:00",
          "2023-08-28T00:00:00",
          "2023-08-29T00:00:00",
          "2023-08-30T00:00:00",
          "2023-08-31T00:00:00",
          "2023-09-01T00:00:00",
          "2023-09-05T00:00:00",
          "2023-09-06T00:00:00",
          "2023-09-07T00:00:00",
          "2023-09-08T00:00:00",
          "2023-09-11T00:00:00",
          "2023-09-12T00:00:00",
          "2023-09-13T00:00:00",
          "2023-09-14T00:00:00",
          "2023-09-15T00:00:00",
          "2023-09-18T00:00:00",
          "2023-09-19T00:00:00",
          "2023-09-20T00:00:00",
          "2023-09-21T00:00:00",
          "2023-09-22T00:00:00",
          "2023-09-25T00:00:00",
          "2023-09-26T00:00:00",
          "2023-09-27T00:00:00",
          "2023-09-28T00:00:00",
          "2023-09-29T00:00:00",
          "2023-10-02T00:00:00",
          "2023-10-03T00:00:00",
          "2023-10-04T00:00:00",
          "2023-10-05T00:00:00",
          "2023-10-06T00:00:00",
          "2023-10-09T00:00:00",
          "2023-10-10T00:00:00",
          "2023-10-11T00:00:00",
          "2023-10-12T00:00:00",
          "2023-10-13T00:00:00",
          "2023-10-16T00:00:00",
          "2023-10-17T00:00:00",
          "2023-10-18T00:00:00",
          "2023-10-19T00:00:00",
          "2023-10-20T00:00:00",
          "2023-10-23T00:00:00",
          "2023-10-24T00:00:00",
          "2023-10-25T00:00:00",
          "2023-10-26T00:00:00",
          "2023-10-27T00:00:00",
          "2023-10-30T00:00:00",
          "2023-10-31T00:00:00",
          "2023-11-01T00:00:00",
          "2023-11-02T00:00:00",
          "2023-11-03T00:00:00",
          "2023-11-06T00:00:00",
          "2023-11-07T00:00:00",
          "2023-11-08T00:00:00",
          "2023-11-09T00:00:00",
          "2023-11-10T00:00:00",
          "2023-11-13T00:00:00",
          "2023-11-14T00:00:00",
          "2023-11-15T00:00:00",
          "2023-11-16T00:00:00",
          "2023-11-17T00:00:00",
          "2023-11-20T00:00:00",
          "2023-11-21T00:00:00",
          "2023-11-22T00:00:00",
          "2023-11-24T00:00:00",
          "2023-11-27T00:00:00",
          "2023-11-28T00:00:00",
          "2023-11-29T00:00:00",
          "2023-11-30T00:00:00",
          "2023-12-01T00:00:00",
          "2023-12-04T00:00:00",
          "2023-12-05T00:00:00",
          "2023-12-06T00:00:00",
          "2023-12-07T00:00:00",
          "2023-12-08T00:00:00",
          "2023-12-11T00:00:00",
          "2023-12-12T00:00:00",
          "2023-12-13T00:00:00",
          "2023-12-14T00:00:00",
          "2023-12-15T00:00:00",
          "2023-12-18T00:00:00",
          "2023-12-19T00:00:00",
          "2023-12-20T00:00:00",
          "2023-12-21T00:00:00",
          "2023-12-22T00:00:00",
          "2023-12-27T00:00:00",
          "2023-12-28T00:00:00",
          "2023-12-29T00:00:00",
          "2024-01-02T00:00:00",
          "2024-01-03T00:00:00",
          "2024-01-04T00:00:00",
          "2024-01-05T00:00:00",
          "2024-01-08T00:00:00",
          "2024-01-09T00:00:00",
          "2024-01-10T00:00:00",
          "2024-01-11T00:00:00",
          "2024-01-12T00:00:00",
          "2024-01-16T00:00:00",
          "2024-01-17T00:00:00",
          "2024-01-18T00:00:00",
          "2024-01-19T00:00:00",
          "2024-01-22T00:00:00",
          "2024-01-23T00:00:00",
          "2024-01-24T00:00:00",
          "2024-01-25T00:00:00",
          "2024-01-26T00:00:00",
          "2024-01-29T00:00:00",
          "2024-01-30T00:00:00",
          "2024-01-31T00:00:00",
          "2024-02-01T00:00:00",
          "2024-02-02T00:00:00",
          "2024-02-05T00:00:00",
          "2024-02-06T00:00:00",
          "2024-02-07T00:00:00",
          "2024-02-08T00:00:00",
          "2024-02-09T00:00:00",
          "2024-02-12T00:00:00",
          "2024-02-13T00:00:00",
          "2024-02-14T00:00:00",
          "2024-02-15T00:00:00",
          "2024-02-16T00:00:00"
         ],
         "xaxis": "x",
         "y": [
          0.004815585835201183,
          -0.01992236891690148,
          -0.0195764482662859,
          -0.01548814622576525,
          0.007440104229720407,
          -0.03086405302072346,
          -0.03809606293017535,
          -0.06948670579481721,
          -0.06334706425800812,
          -0.05570573557221617,
          -0.07070081384026909,
          -0.04655367313699454,
          -0.056101424927619506,
          -0.026143070775388313,
          -0.06205775863480711,
          -0.07465394427524404,
          -0.07289694668707643,
          -0.06753081634082655,
          -0.0839610022515314,
          -0.08620747104102007,
          -0.07047125286586911,
          -0.05646784702451994,
          -0.06864034208101881,
          -0.0729401463934194,
          -0.06631493234129289,
          -0.07975725030004002,
          -0.069972403719427,
          -0.07136836029723621,
          -0.0827205828347652,
          -0.1155821780845592,
          -0.13414046404024374,
          -0.1685072796608344,
          -0.1612509066000739,
          -0.14788922132441948,
          -0.16956480750774316,
          -0.17254215066732334,
          -0.15990135509852182,
          -0.162209393905817,
          -0.1624097684343855,
          -0.1375786847306621,
          -0.1373081215997575,
          -0.1381228271183251,
          -0.13528730986541923,
          -0.14640529158646134,
          -0.1359214347364457,
          -0.15494277768484976,
          -0.13855743006044383,
          -0.1149683661605806,
          -0.11328827180816095,
          -0.11754123603037904,
          -0.12630607134137947,
          -0.1401065399119444,
          -0.152565603038742,
          -0.1448301454565702,
          -0.14986755938237334,
          -0.1350026404795373,
          -0.1312161205138257,
          -0.1316437124006019,
          -0.12039009554573314,
          -0.13990537657741822,
          -0.14724066057877572,
          -0.13729577589528247,
          -0.13349018542075286,
          -0.11810971986148032,
          -0.11968372096817802,
          -0.13421438828831234,
          -0.12215568565313854,
          -0.1089330498893336,
          -0.1112761199676078,
          -0.11333162551531846,
          -0.1222332060324058,
          -0.10526040476622349,
          -0.09542541325665715,
          -0.09173752409850244,
          -0.09205458003370982,
          -0.0940907814249719,
          -0.0961759624676458,
          -0.0979509117790542,
          -0.1153376156344606,
          -0.13887011819201642,
          -0.14542517086421733,
          -0.1444434029125522,
          -0.13966017428996755,
          -0.15676592946253023,
          -0.16592715130307664,
          -0.17345439703455393,
          -0.1732533841944512,
          -0.1804643391022522,
          -0.1802977981451606,
          -0.19558432876960619,
          -0.18937159444939985,
          -0.1715841495753126,
          -0.1438569823284329,
          -0.13913696744888962,
          -0.1634998083467387,
          -0.15084901836673364,
          -0.1536465392147187,
          -0.16767590164604831,
          -0.16666432064576486,
          -0.17254722311457302,
          -0.18447361567465853,
          -0.18707947918871778,
          -0.19301950311495514,
          -0.16871161129501186,
          -0.16822393408268901,
          -0.15661559257374014,
          -0.184755456092525,
          -0.1879323344772474,
          -0.1611069791774723,
          -0.13205978365017684,
          -0.12959693439445577,
          -0.13314916448203507,
          -0.1395366897592067,
          -0.14686305779204722,
          -0.13898408975389737,
          -0.1523182261687959,
          -0.14043244584446546,
          -0.14995116130725455,
          -0.1227128260892581,
          -0.10876878335613324,
          -0.11641002352223896,
          -0.12039802683025828,
          -0.1076242157292552,
          -0.09710878496529096,
          -0.094324204584149,
          -0.08906457180125113,
          -0.09402523050936663,
          -0.07481168451542013,
          -0.0710868382288429,
          -0.07116364389769879,
          -0.06427325458576022,
          -0.07260898288460647,
          -0.05426794795884382,
          -0.055014324241720924,
          -0.052245710827874936,
          -0.06024125886252187,
          -0.02040083481247476,
          -0.016650440929578136,
          -0.010196958596232566,
          -0.005170464587903356,
          -0.010257552518822703,
          -0.008624534753262657,
          -0.00979028678133619,
          -0.02362275451709489,
          -0.018536290473846192,
          -0.014341769322096291,
          -0.011301388315560257,
          -0.02202625185128495,
          -0.03386249172508701,
          -0.020907925145738852,
          -0.034724040275993545,
          -0.028713681345292025,
          -0.03523767165301544,
          -0.03655196417471191,
          -0.04132046640627529,
          -0.04118329872337368,
          -0.03463325506973819,
          -0.023742262542680723,
          -0.012539101376304181,
          -0.005105908758164282,
          -0.04287056907653769,
          -0.046996469051809514,
          -0.056990581899458555,
          -0.05709237993444433,
          -0.043423526564161784,
          -0.05668253988116765,
          -0.04993325825810721,
          -0.05623768849656678,
          -0.06532875877970229,
          -0.050938915214452395,
          -0.05300352690636983,
          -0.05267908075138385,
          -0.047341371717980286,
          -0.04463502106616393,
          -0.03121354141434759,
          -0.027501299433888297,
          -0.014319353797085465,
          -0.013487803946713625,
          -0.019505572751964746,
          -0.013845508425298456,
          -0.01845191585451595,
          -0.016988333997737384,
          -0.02204443689900839,
          -0.010410084562695838,
          -0.0018689662424301555,
          -0.005063724824333451,
          -0.008861894800142623,
          0.0018745206633541574,
          0.0017960902396977553,
          -0.005566807011263964,
          0.010986822053313567,
          0.014561760090441262,
          0.033748544211980626,
          0.03081766939115551,
          0.020922806750366882,
          0.02382075808837343,
          0.0212077355107013,
          0.018794966053246445,
          0.013549079279015268,
          0.018523708135830323,
          0.0107869523893009,
          0.019154201709256753,
          0.01636636469711912,
          0.005752393486978695,
          -0.01451408145965738,
          -0.014102107065789578,
          -0.005564804604638755,
          -0.021801217060625447,
          -0.012043002688160352,
          -0.011055545613076529,
          -0.014285186005104094,
          -0.01259392445389703,
          -0.004137060853583466,
          4.826776983899699E-4,
          -0.005887746927623512,
          -0.006461099200919375,
          -0.01637803383291707,
          -0.032762299698788744,
          -0.04198059314712853,
          -0.024093086452012056,
          -0.034837637139148545,
          -0.012608025505825217,
          -0.031966786824442615,
          -0.02862240603588746,
          -0.04447030363260761,
          -0.059106855258008975,
          -0.06410565476567169,
          -0.061190858353596174,
          -0.052200554264039724,
          -0.06320509367550221,
          -0.05176893173048196,
          -0.0406579822433637,
          -0.0384200398814826,
          -0.04328260000685014,
          -0.04441074125598361,
          -0.04680886855105493,
          -0.046238849992397156,
          -0.04719016316258813,
          -0.039783024085951885,
          -0.03160841686448691,
          -0.03077677614058079,
          -0.030588870928106495,
          -0.03138156842187956,
          -0.030647491613707112,
          -0.03125070889623283,
          -0.02847570733049923,
          -0.030709463509325536,
          -0.03712443407438077,
          -0.037045896366868745,
          -0.0206330561425499,
          -0.01739365935539061,
          -0.028923928361526078,
          -0.031378423094080926,
          -0.035831799340975405,
          -0.02780171702837242,
          -0.0288160657660285,
          -0.031358376530626016,
          -0.028707784736649308,
          -0.021862296253762358,
          -0.025686503859027855,
          -0.025854022822964083,
          -0.03632187246794453,
          -0.03562014749885673,
          -0.029954965844771024,
          -0.020936419411212166,
          -0.013797535021994416,
          -0.013529122300350024,
          -0.034476602596516956,
          -0.029670800178338893,
          -0.01230570480671326,
          -0.0024565011835251185,
          -0.014262926673321758,
          -0.001010961982922328,
          0.017920454779838866,
          0.021591960321999393,
          0.02633965690609536,
          0.0207947333033343,
          0.02363387264247216,
          0.0206455578821123,
          0.04674736531778503,
          0.047689707453636584,
          0.0803991031636929,
          0.09856571551863456,
          0.09762408605094991,
          0.0727921057422041,
          0.06799334266411644,
          0.07134307066108621,
          0.06240681740510523,
          0.05985427596190085,
          0.06021352601950108,
          0.06654957001077766,
          0.0740339101145563,
          0.08177164759044653,
          0.08319017755809119,
          0.060577226893627434,
          0.05618542880093379,
          0.05606187849516857,
          0.059412832941783685,
          0.06247028822283132,
          0.07875469587869141,
          0.08855073107612199,
          0.08754548536537866,
          0.09710957961314332,
          0.10002233428267213,
          0.10135170931195303,
          0.10179020797025327,
          0.10106413900375825,
          0.09934971721676343,
          0.10043416587520197,
          0.10071476154747944,
          0.10958520381314069,
          0.11489556337905027,
          0.11282280911666226,
          0.10731197143951882,
          0.09540199229322163,
          0.09903088502571206,
          0.0990711367604247,
          0.10366613965929591,
          0.0959861158309856,
          0.08639181239629569,
          0.10059383538700904,
          0.09564745228727145,
          0.10001090739683467,
          0.09132348791027022,
          0.07584020218628967,
          0.06998348756908407,
          0.07679113854962503,
          0.08011651060271431,
          0.08151813607222966,
          0.09111781359142734,
          0.0781063049503253,
          0.08331661017618158,
          0.08617782594854646,
          0.09434576387360194,
          0.09195600073216828,
          0.08188140581680971,
          0.08728940722179411,
          0.08908690721110532,
          0.08230208058966297,
          0.07644126890759141,
          0.08792963173272345,
          0.09538831624801351,
          0.09552030541700147,
          0.0951624494921276,
          0.10057014664203656,
          0.09167842436065278,
          0.08686312310903792,
          0.07954996910501654,
          0.08090122460233304,
          0.06419731957636134,
          0.06476337516113886,
          0.0665987126740247,
          0.04555258216676339,
          0.033359173016841034,
          0.018264577983918007,
          0.018228934494339512,
          0.008366425166559516,
          0.015092311375224316,
          0.014517323515478726,
          3.307076601232785E-5,
          -0.012431970994623785,
          -0.005478365079376057,
          0.005073723198130695,
          0.003355742351779748,
          -0.008887611787721562,
          -0.013666941641058111,
          -0.015945804592035005,
          -0.007329858742286557,
          -0.01809040903065526,
          -0.023166163031478282,
          -0.033995674282449984,
          -0.039413782805374185,
          -0.034616441166182295,
          -0.03613395831756057,
          -0.041156370335551626,
          -0.04308219213052245,
          -0.03848525720680479,
          -0.03496166491915881,
          -0.027131674543671817,
          -0.011002777220192661,
          -0.005305745831186945,
          -0.004780919406969756,
          -0.005428892536947461,
          -0.006573567459431398,
          -0.004352895376298088,
          -5.48872970864389E-4,
          -0.004509187218954734,
          0.01879999182983434,
          0.01948176920614449,
          0.018000533981325367,
          0.021017008559825988,
          0.024365527526856685,
          0.023045776046761647,
          0.026220342196397368,
          0.02434669732248187,
          0.01728233013339327,
          0.014320435200211487,
          0.0061308650135021864,
          0.017990613955957177,
          0.0281460948996541,
          0.01666376898210574,
          0.021339988900667614,
          0.022689720812588243,
          0.026476965406844875,
          0.03831351875253762,
          0.04424154851548451,
          0.044898957241714665,
          0.04862183126744827,
          0.04881278985394887,
          0.05010738812778777,
          0.05482040679170843,
          0.060903256052529,
          0.05313486125056441,
          0.05751374403360661,
          0.060050868158707235,
          0.05939203080666368,
          0.05878788124511495,
          0.0566998844972175,
          0.04968991805971585,
          0.04384162992853917,
          0.04539411092455924,
          0.04295031588551093,
          0.0488940440280381,
          0.05029882123969179,
          0.051410419032951835,
          0.04256404256481209,
          0.04497619294916691,
          0.037639112531288585,
          0.025576632301424068,
          0.029406214141466037,
          0.03521983984416905,
          0.0412010732104956,
          0.04524747707561805,
          0.05189957504646828,
          0.05481598192161289,
          0.05270490355870243,
          0.05460134147271826,
          0.05233308369878742,
          0.04775203990419228,
          0.05187350610335051,
          0.055416321613523986,
          0.06492184121194366,
          0.06637489970006356,
          0.0677039690508401,
          0.07098933506378165,
          0.07511296544245377,
          0.08141504230660504,
          0.06787346442581292,
          0.07272958098479876,
          0.08358222674943944,
          0.08334338928594147
         ],
         "yaxis": "y",
         "type": "scattergl"
        }
       ],
       "layout": {
        "template": {
         "data": {
          "histogram2dcontour": [
           {
            "type": "histogram2dcontour",
            "colorbar": {
             "outlinewidth": 0,
             "ticks": ""
            },
            "colorscale": [
             [
              0.0,
              "#0d0887"
             ],
             [
              0.1111111111111111,
              "#46039f"
             ],
             [
              0.2222222222222222,
              "#7201a8"
             ],
             [
              0.3333333333333333,
              "#9c179e"
             ],
             [
              0.4444444444444444,
              "#bd3786"
             ],
             [
              0.5555555555555556,
              "#d8576b"
             ],
             [
              0.6666666666666666,
              "#ed7953"
             ],
             [
              0.7777777777777778,
              "#fb9f3a"
             ],
             [
              0.8888888888888888,
              "#fdca26"
             ],
             [
              1.0,
              "#f0f921"
             ]
            ]
           }
          ],
          "choropleth": [
           {
            "type": "choropleth",
            "colorbar": {
             "outlinewidth": 0,
             "ticks": ""
            }
           }
          ],
          "histogram2d": [
           {
            "type": "histogram2d",
            "colorbar": {
             "outlinewidth": 0,
             "ticks": ""
            },
            "colorscale": [
             [
              0.0,
              "#0d0887"
             ],
             [
              0.1111111111111111,
              "#46039f"
             ],
             [
              0.2222222222222222,
              "#7201a8"
             ],
             [
              0.3333333333333333,
              "#9c179e"
             ],
             [
              0.4444444444444444,
              "#bd3786"
             ],
             [
              0.5555555555555556,
              "#d8576b"
             ],
             [
              0.6666666666666666,
              "#ed7953"
             ],
             [
              0.7777777777777778,
              "#fb9f3a"
             ],
             [
              0.8888888888888888,
              "#fdca26"
             ],
             [
              1.0,
              "#f0f921"
             ]
            ]
           }
          ],
          "heatmap": [
           {
            "type": "heatmap",
            "colorbar": {
             "outlinewidth": 0,
             "ticks": ""
            },
            "colorscale": [
             [
              0.0,
              "#0d0887"
             ],
             [
              0.1111111111111111,
              "#46039f"
             ],
             [
              0.2222222222222222,
              "#7201a8"
             ],
             [
              0.3333333333333333,
              "#9c179e"
             ],
             [
              0.4444444444444444,
              "#bd3786"
             ],
             [
              0.5555555555555556,
              "#d8576b"
             ],
             [
              0.6666666666666666,
              "#ed7953"
             ],
             [
              0.7777777777777778,
              "#fb9f3a"
             ],
             [
              0.8888888888888888,
              "#fdca26"
             ],
             [
              1.0,
              "#f0f921"
             ]
            ]
           }
          ],
          "heatmapgl": [
           {
            "type": "heatmapgl",
            "colorbar": {
             "outlinewidth": 0,
             "ticks": ""
            },
            "colorscale": [
             [
              0.0,
              "#0d0887"
             ],
             [
              0.1111111111111111,
              "#46039f"
             ],
             [
              0.2222222222222222,
              "#7201a8"
             ],
             [
              0.3333333333333333,
              "#9c179e"
             ],
             [
              0.4444444444444444,
              "#bd3786"
             ],
             [
              0.5555555555555556,
              "#d8576b"
             ],
             [
              0.6666666666666666,
              "#ed7953"
             ],
             [
              0.7777777777777778,
              "#fb9f3a"
             ],
             [
              0.8888888888888888,
              "#fdca26"
             ],
             [
              1.0,
              "#f0f921"
             ]
            ]
           }
          ],
          "contourcarpet": [
           {
            "type": "contourcarpet",
            "colorbar": {
             "outlinewidth": 0,
             "ticks": ""
            }
           }
          ],
          "contour": [
           {
            "type": "contour",
            "colorbar": {
             "outlinewidth": 0,
             "ticks": ""
            },
            "colorscale": [
             [
              0.0,
              "#0d0887"
             ],
             [
              0.1111111111111111,
              "#46039f"
             ],
             [
              0.2222222222222222,
              "#7201a8"
             ],
             [
              0.3333333333333333,
              "#9c179e"
             ],
             [
              0.4444444444444444,
              "#bd3786"
             ],
             [
              0.5555555555555556,
              "#d8576b"
             ],
             [
              0.6666666666666666,
              "#ed7953"
             ],
             [
              0.7777777777777778,
              "#fb9f3a"
             ],
             [
              0.8888888888888888,
              "#fdca26"
             ],
             [
              1.0,
              "#f0f921"
             ]
            ]
           }
          ],
          "surface": [
           {
            "type": "surface",
            "colorbar": {
             "outlinewidth": 0,
             "ticks": ""
            },
            "colorscale": [
             [
              0.0,
              "#0d0887"
             ],
             [
              0.1111111111111111,
              "#46039f"
             ],
             [
              0.2222222222222222,
              "#7201a8"
             ],
             [
              0.3333333333333333,
              "#9c179e"
             ],
             [
              0.4444444444444444,
              "#bd3786"
             ],
             [
              0.5555555555555556,
              "#d8576b"
             ],
             [
              0.6666666666666666,
              "#ed7953"
             ],
             [
              0.7777777777777778,
              "#fb9f3a"
             ],
             [
              0.8888888888888888,
              "#fdca26"
             ],
             [
              1.0,
              "#f0f921"
             ]
            ]
           }
          ],
          "mesh3d": [
           {
            "type": "mesh3d",
            "colorbar": {
             "outlinewidth": 0,
             "ticks": ""
            }
           }
          ],
          "scatter": [
           {
            "marker": {
             "line": {
              "color": "#283442"
             }
            },
            "type": "scatter"
           }
          ],
          "parcoords": [
           {
            "type": "parcoords",
            "line": {
             "colorbar": {
              "outlinewidth": 0,
              "ticks": ""
             }
            }
           }
          ],
          "scatterpolargl": [
           {
            "type": "scatterpolargl",
            "marker": {
             "colorbar": {
              "outlinewidth": 0,
              "ticks": ""
             }
            }
           }
          ],
          "bar": [
           {
            "error_x": {
             "color": "#f2f5fa"
            },
            "error_y": {
             "color": "#f2f5fa"
            },
            "marker": {
             "line": {
              "color": "rgb(17,17,17)",
              "width": 0.5
             },
             "pattern": {
              "fillmode": "overlay",
              "size": 10,
              "solidity": 0.2
             }
            },
            "type": "bar"
           }
          ],
          "scattergeo": [
           {
            "type": "scattergeo",
            "marker": {
             "colorbar": {
              "outlinewidth": 0,
              "ticks": ""
             }
            }
           }
          ],
          "scatterpolar": [
           {
            "type": "scatterpolar",
            "marker": {
             "colorbar": {
              "outlinewidth": 0,
              "ticks": ""
             }
            }
           }
          ],
          "histogram": [
           {
            "marker": {
             "pattern": {
              "fillmode": "overlay",
              "size": 10,
              "solidity": 0.2
             }
            },
            "type": "histogram"
           }
          ],
          "scattergl": [
           {
            "marker": {
             "line": {
              "color": "#283442"
             }
            },
            "type": "scattergl"
           }
          ],
          "scatter3d": [
           {
            "type": "scatter3d",
            "line": {
             "colorbar": {
              "outlinewidth": 0,
              "ticks": ""
             }
            },
            "marker": {
             "colorbar": {
              "outlinewidth": 0,
              "ticks": ""
             }
            }
           }
          ],
          "scattermapbox": [
           {
            "type": "scattermapbox",
            "marker": {
             "colorbar": {
              "outlinewidth": 0,
              "ticks": ""
             }
            }
           }
          ],
          "scatterternary": [
           {
            "type": "scatterternary",
            "marker": {
             "colorbar": {
              "outlinewidth": 0,
              "ticks": ""
             }
            }
           }
          ],
          "scattercarpet": [
           {
            "type": "scattercarpet",
            "marker": {
             "colorbar": {
              "outlinewidth": 0,
              "ticks": ""
             }
            }
           }
          ],
          "carpet": [
           {
            "aaxis": {
             "endlinecolor": "#A2B1C6",
             "gridcolor": "#506784",
             "linecolor": "#506784",
             "minorgridcolor": "#506784",
             "startlinecolor": "#A2B1C6"
            },
            "baxis": {
             "endlinecolor": "#A2B1C6",
             "gridcolor": "#506784",
             "linecolor": "#506784",
             "minorgridcolor": "#506784",
             "startlinecolor": "#A2B1C6"
            },
            "type": "carpet"
           }
          ],
          "table": [
           {
            "cells": {
             "fill": {
              "color": "#506784"
             },
             "line": {
              "color": "rgb(17,17,17)"
             }
            },
            "header": {
             "fill": {
              "color": "#2a3f5f"
             },
             "line": {
              "color": "rgb(17,17,17)"
             }
            },
            "type": "table"
           }
          ],
          "barpolar": [
           {
            "marker": {
             "line": {
              "color": "rgb(17,17,17)",
              "width": 0.5
             },
             "pattern": {
              "fillmode": "overlay",
              "size": 10,
              "solidity": 0.2
             }
            },
            "type": "barpolar"
           }
          ],
          "pie": [
           {
            "automargin": true,
            "type": "pie"
           }
          ]
         },
         "layout": {
          "autotypenumbers": "strict",
          "colorway": [
           "#636efa",
           "#EF553B",
           "#00cc96",
           "#ab63fa",
           "#FFA15A",
           "#19d3f3",
           "#FF6692",
           "#B6E880",
           "#FF97FF",
           "#FECB52"
          ],
          "font": {
           "color": "#f2f5fa"
          },
          "hovermode": "closest",
          "hoverlabel": {
           "align": "left"
          },
          "paper_bgcolor": "rgb(17,17,17)",
          "plot_bgcolor": "rgb(17,17,17)",
          "polar": {
           "bgcolor": "rgb(17,17,17)",
           "angularaxis": {
            "gridcolor": "#506784",
            "linecolor": "#506784",
            "ticks": ""
           },
           "radialaxis": {
            "gridcolor": "#506784",
            "linecolor": "#506784",
            "ticks": ""
           }
          },
          "ternary": {
           "bgcolor": "rgb(17,17,17)",
           "aaxis": {
            "gridcolor": "#506784",
            "linecolor": "#506784",
            "ticks": ""
           },
           "baxis": {
            "gridcolor": "#506784",
            "linecolor": "#506784",
            "ticks": ""
           },
           "caxis": {
            "gridcolor": "#506784",
            "linecolor": "#506784",
            "ticks": ""
           }
          },
          "coloraxis": {
           "colorbar": {
            "outlinewidth": 0,
            "ticks": ""
           }
          },
          "colorscale": {
           "sequential": [
            [
             0.0,
             "#0d0887"
            ],
            [
             0.1111111111111111,
             "#46039f"
            ],
            [
             0.2222222222222222,
             "#7201a8"
            ],
            [
             0.3333333333333333,
             "#9c179e"
            ],
            [
             0.4444444444444444,
             "#bd3786"
            ],
            [
             0.5555555555555556,
             "#d8576b"
            ],
            [
             0.6666666666666666,
             "#ed7953"
            ],
            [
             0.7777777777777778,
             "#fb9f3a"
            ],
            [
             0.8888888888888888,
             "#fdca26"
            ],
            [
             1.0,
             "#f0f921"
            ]
           ],
           "sequentialminus": [
            [
             0.0,
             "#0d0887"
            ],
            [
             0.1111111111111111,
             "#46039f"
            ],
            [
             0.2222222222222222,
             "#7201a8"
            ],
            [
             0.3333333333333333,
             "#9c179e"
            ],
            [
             0.4444444444444444,
             "#bd3786"
            ],
            [
             0.5555555555555556,
             "#d8576b"
            ],
            [
             0.6666666666666666,
             "#ed7953"
            ],
            [
             0.7777777777777778,
             "#fb9f3a"
            ],
            [
             0.8888888888888888,
             "#fdca26"
            ],
            [
             1.0,
             "#f0f921"
            ]
           ],
           "diverging": [
            [
             0,
             "#8e0152"
            ],
            [
             0.1,
             "#c51b7d"
            ],
            [
             0.2,
             "#de77ae"
            ],
            [
             0.3,
             "#f1b6da"
            ],
            [
             0.4,
             "#fde0ef"
            ],
            [
             0.5,
             "#f7f7f7"
            ],
            [
             0.6,
             "#e6f5d0"
            ],
            [
             0.7,
             "#b8e186"
            ],
            [
             0.8,
             "#7fbc41"
            ],
            [
             0.9,
             "#4d9221"
            ],
            [
             1,
             "#276419"
            ]
           ]
          },
          "xaxis": {
           "gridcolor": "#283442",
           "linecolor": "#506784",
           "ticks": "",
           "title": {
            "standoff": 15
           },
           "zerolinecolor": "#283442",
           "automargin": true,
           "zerolinewidth": 2
          },
          "yaxis": {
           "gridcolor": "#283442",
           "linecolor": "#506784",
           "ticks": "",
           "title": {
            "standoff": 15
           },
           "zerolinecolor": "#283442",
           "automargin": true,
           "zerolinewidth": 2
          },
          "scene": {
           "xaxis": {
            "backgroundcolor": "rgb(17,17,17)",
            "gridcolor": "#506784",
            "linecolor": "#506784",
            "showbackground": true,
            "ticks": "",
            "zerolinecolor": "#C8D4E3",
            "gridwidth": 2
           },
           "yaxis": {
            "backgroundcolor": "rgb(17,17,17)",
            "gridcolor": "#506784",
            "linecolor": "#506784",
            "showbackground": true,
            "ticks": "",
            "zerolinecolor": "#C8D4E3",
            "gridwidth": 2
           },
           "zaxis": {
            "backgroundcolor": "rgb(17,17,17)",
            "gridcolor": "#506784",
            "linecolor": "#506784",
            "showbackground": true,
            "ticks": "",
            "zerolinecolor": "#C8D4E3",
            "gridwidth": 2
           }
          },
          "shapedefaults": {
           "line": {
            "color": "#f2f5fa"
           }
          },
          "annotationdefaults": {
           "arrowcolor": "#f2f5fa",
           "arrowhead": 0,
           "arrowwidth": 1
          },
          "geo": {
           "bgcolor": "rgb(17,17,17)",
           "landcolor": "rgb(17,17,17)",
           "subunitcolor": "#506784",
           "showland": true,
           "showlakes": true,
           "lakecolor": "rgb(17,17,17)"
          },
          "title": {
           "x": 0.05
          },
          "updatemenudefaults": {
           "bgcolor": "#506784",
           "borderwidth": 0
          },
          "sliderdefaults": {
           "bgcolor": "#C8D4E3",
           "borderwidth": 1,
           "bordercolor": "rgb(17,17,17)",
           "tickwidth": 0
          },
          "mapbox": {
           "style": "dark"
          }
         }
        },
        "xaxis": {
         "anchor": "y",
         "domain": [
          0.0,
          1.0
         ],
         "title": {
          "text": "Observations"
         }
        },
        "yaxis": {
         "anchor": "x",
         "domain": [
          0.0,
          1.0
         ],
         "title": {
          "text": "Cumulative Returns"
         },
         "tickformat": ".2%"
        },
        "legend": {
         "title": {
          "text": "Portfolios"
         },
         "tracegroupgap": 0
        },
        "margin": {
         "t": 60
        },
        "title": {
         "text": "Cumulative Returns (non-compounded)"
        }
       },
       "config": {
        "plotlyServerURL": "https://plot.ly"
       }
      },
      "text/html": "<div>                            <div id=\"7e1ac700-730e-4ece-b63e-66b71dccae89\" class=\"plotly-graph-div\" style=\"height:525px; width:100%;\"></div>            <script type=\"text/javascript\">                require([\"plotly\"], function(Plotly) {                    window.PLOTLYENV=window.PLOTLYENV || {};                                    if (document.getElementById(\"7e1ac700-730e-4ece-b63e-66b71dccae89\")) {                    Plotly.newPlot(                        \"7e1ac700-730e-4ece-b63e-66b71dccae89\",                        [{\"hovertemplate\":\"variable=MaximumDiversification\\u003cbr\\u003eindex=%{x}\\u003cbr\\u003evalue=%{y}\\u003cextra\\u003e\\u003c\\u002fextra\\u003e\",\"legendgroup\":\"MaximumDiversification\",\"line\":{\"color\":\"#636efa\",\"dash\":\"solid\"},\"marker\":{\"symbol\":\"circle\"},\"mode\":\"lines\",\"name\":\"MaximumDiversification\",\"showlegend\":true,\"x\":[\"2022-04-28T00:00:00\",\"2022-04-29T00:00:00\",\"2022-05-02T00:00:00\",\"2022-05-03T00:00:00\",\"2022-05-04T00:00:00\",\"2022-05-05T00:00:00\",\"2022-05-06T00:00:00\",\"2022-05-09T00:00:00\",\"2022-05-10T00:00:00\",\"2022-05-11T00:00:00\",\"2022-05-12T00:00:00\",\"2022-05-13T00:00:00\",\"2022-05-16T00:00:00\",\"2022-05-17T00:00:00\",\"2022-05-18T00:00:00\",\"2022-05-19T00:00:00\",\"2022-05-20T00:00:00\",\"2022-05-23T00:00:00\",\"2022-05-24T00:00:00\",\"2022-05-25T00:00:00\",\"2022-05-26T00:00:00\",\"2022-05-27T00:00:00\",\"2022-05-31T00:00:00\",\"2022-06-01T00:00:00\",\"2022-06-02T00:00:00\",\"2022-06-03T00:00:00\",\"2022-06-06T00:00:00\",\"2022-06-07T00:00:00\",\"2022-06-08T00:00:00\",\"2022-06-09T00:00:00\",\"2022-06-10T00:00:00\",\"2022-06-13T00:00:00\",\"2022-06-14T00:00:00\",\"2022-06-15T00:00:00\",\"2022-06-16T00:00:00\",\"2022-06-17T00:00:00\",\"2022-06-21T00:00:00\",\"2022-06-22T00:00:00\",\"2022-06-23T00:00:00\",\"2022-06-24T00:00:00\",\"2022-06-27T00:00:00\",\"2022-06-28T00:00:00\",\"2022-06-29T00:00:00\",\"2022-06-30T00:00:00\",\"2022-07-01T00:00:00\",\"2022-07-05T00:00:00\",\"2022-07-06T00:00:00\",\"2022-07-07T00:00:00\",\"2022-07-08T00:00:00\",\"2022-07-11T00:00:00\",\"2022-07-12T00:00:00\",\"2022-07-13T00:00:00\",\"2022-07-14T00:00:00\",\"2022-07-15T00:00:00\",\"2022-07-18T00:00:00\",\"2022-07-19T00:00:00\",\"2022-07-20T00:00:00\",\"2022-07-21T00:00:00\",\"2022-07-22T00:00:00\",\"2022-07-25T00:00:00\",\"2022-07-26T00:00:00\",\"2022-07-27T00:00:00\",\"2022-07-28T00:00:00\",\"2022-07-29T00:00:00\",\"2022-08-01T00:00:00\",\"2022-08-02T00:00:00\",\"2022-08-03T00:00:00\",\"2022-08-04T00:00:00\",\"2022-08-05T00:00:00\",\"2022-08-08T00:00:00\",\"2022-08-09T00:00:00\",\"2022-08-10T00:00:00\",\"2022-08-11T00:00:00\",\"2022-08-12T00:00:00\",\"2022-08-15T00:00:00\",\"2022-08-16T00:00:00\",\"2022-08-17T00:00:00\",\"2022-08-18T00:00:00\",\"2022-08-19T00:00:00\",\"2022-08-22T00:00:00\",\"2022-08-23T00:00:00\",\"2022-08-24T00:00:00\",\"2022-08-25T00:00:00\",\"2022-08-26T00:00:00\",\"2022-08-29T00:00:00\",\"2022-08-30T00:00:00\",\"2022-08-31T00:00:00\",\"2022-09-01T00:00:00\",\"2022-09-02T00:00:00\",\"2022-09-06T00:00:00\",\"2022-09-07T00:00:00\",\"2022-09-08T00:00:00\",\"2022-09-09T00:00:00\",\"2022-09-12T00:00:00\",\"2022-09-13T00:00:00\",\"2022-09-14T00:00:00\",\"2022-09-15T00:00:00\",\"2022-09-16T00:00:00\",\"2022-09-19T00:00:00\",\"2022-09-20T00:00:00\",\"2022-09-21T00:00:00\",\"2022-09-22T00:00:00\",\"2022-09-23T00:00:00\",\"2022-09-26T00:00:00\",\"2022-09-27T00:00:00\",\"2022-09-28T00:00:00\",\"2022-09-29T00:00:00\",\"2022-09-30T00:00:00\",\"2022-10-03T00:00:00\",\"2022-10-04T00:00:00\",\"2022-10-05T00:00:00\",\"2022-10-06T00:00:00\",\"2022-10-07T00:00:00\",\"2022-10-10T00:00:00\",\"2022-10-11T00:00:00\",\"2022-10-12T00:00:00\",\"2022-10-13T00:00:00\",\"2022-10-14T00:00:00\",\"2022-10-17T00:00:00\",\"2022-10-18T00:00:00\",\"2022-10-19T00:00:00\",\"2022-10-20T00:00:00\",\"2022-10-21T00:00:00\",\"2022-10-24T00:00:00\",\"2022-10-25T00:00:00\",\"2022-10-26T00:00:00\",\"2022-10-27T00:00:00\",\"2022-10-28T00:00:00\",\"2022-10-31T00:00:00\",\"2022-11-01T00:00:00\",\"2022-11-02T00:00:00\",\"2022-11-03T00:00:00\",\"2022-11-04T00:00:00\",\"2022-11-07T00:00:00\",\"2022-11-08T00:00:00\",\"2022-11-09T00:00:00\",\"2022-11-10T00:00:00\",\"2022-11-11T00:00:00\",\"2022-11-14T00:00:00\",\"2022-11-15T00:00:00\",\"2022-11-16T00:00:00\",\"2022-11-17T00:00:00\",\"2022-11-18T00:00:00\",\"2022-11-21T00:00:00\",\"2022-11-22T00:00:00\",\"2022-11-23T00:00:00\",\"2022-11-25T00:00:00\",\"2022-11-28T00:00:00\",\"2022-11-29T00:00:00\",\"2022-11-30T00:00:00\",\"2022-12-01T00:00:00\",\"2022-12-02T00:00:00\",\"2022-12-05T00:00:00\",\"2022-12-06T00:00:00\",\"2022-12-07T00:00:00\",\"2022-12-08T00:00:00\",\"2022-12-09T00:00:00\",\"2022-12-12T00:00:00\",\"2022-12-13T00:00:00\",\"2022-12-14T00:00:00\",\"2022-12-15T00:00:00\",\"2022-12-16T00:00:00\",\"2022-12-19T00:00:00\",\"2022-12-20T00:00:00\",\"2022-12-21T00:00:00\",\"2022-12-22T00:00:00\",\"2022-12-23T00:00:00\",\"2022-12-27T00:00:00\",\"2022-12-28T00:00:00\",\"2022-12-29T00:00:00\",\"2022-12-30T00:00:00\",\"2023-01-03T00:00:00\",\"2023-01-04T00:00:00\",\"2023-01-05T00:00:00\",\"2023-01-06T00:00:00\",\"2023-01-09T00:00:00\",\"2023-01-10T00:00:00\",\"2023-01-11T00:00:00\",\"2023-01-12T00:00:00\",\"2023-01-13T00:00:00\",\"2023-01-17T00:00:00\",\"2023-01-18T00:00:00\",\"2023-01-19T00:00:00\",\"2023-01-20T00:00:00\",\"2023-01-23T00:00:00\",\"2023-01-24T00:00:00\",\"2023-01-25T00:00:00\",\"2023-01-26T00:00:00\",\"2023-01-27T00:00:00\",\"2023-01-30T00:00:00\",\"2023-01-31T00:00:00\",\"2023-02-01T00:00:00\",\"2023-02-02T00:00:00\",\"2023-02-03T00:00:00\",\"2023-02-06T00:00:00\",\"2023-02-07T00:00:00\",\"2023-02-08T00:00:00\",\"2023-02-09T00:00:00\",\"2023-02-10T00:00:00\",\"2023-02-13T00:00:00\",\"2023-02-14T00:00:00\",\"2023-02-15T00:00:00\",\"2023-02-16T00:00:00\",\"2023-02-17T00:00:00\",\"2023-02-21T00:00:00\",\"2023-02-22T00:00:00\",\"2023-02-23T00:00:00\",\"2023-02-24T00:00:00\",\"2023-02-27T00:00:00\",\"2023-02-28T00:00:00\",\"2023-03-01T00:00:00\",\"2023-03-02T00:00:00\",\"2023-03-03T00:00:00\",\"2023-03-06T00:00:00\",\"2023-03-07T00:00:00\",\"2023-03-08T00:00:00\",\"2023-03-09T00:00:00\",\"2023-03-10T00:00:00\",\"2023-03-13T00:00:00\",\"2023-03-14T00:00:00\",\"2023-03-15T00:00:00\",\"2023-03-16T00:00:00\",\"2023-03-17T00:00:00\",\"2023-03-20T00:00:00\",\"2023-03-21T00:00:00\",\"2023-03-22T00:00:00\",\"2023-03-23T00:00:00\",\"2023-03-24T00:00:00\",\"2023-03-27T00:00:00\",\"2023-03-28T00:00:00\",\"2023-03-29T00:00:00\",\"2023-03-30T00:00:00\",\"2023-03-31T00:00:00\",\"2023-04-03T00:00:00\",\"2023-04-04T00:00:00\",\"2023-04-05T00:00:00\",\"2023-04-06T00:00:00\",\"2023-04-11T00:00:00\",\"2023-04-12T00:00:00\",\"2023-04-13T00:00:00\",\"2023-04-14T00:00:00\",\"2023-04-17T00:00:00\",\"2023-04-18T00:00:00\",\"2023-04-19T00:00:00\",\"2023-04-20T00:00:00\",\"2023-04-21T00:00:00\",\"2023-04-24T00:00:00\",\"2023-04-25T00:00:00\",\"2023-04-26T00:00:00\",\"2023-04-27T00:00:00\",\"2023-04-28T00:00:00\",\"2023-05-02T00:00:00\",\"2023-05-03T00:00:00\",\"2023-05-04T00:00:00\",\"2023-05-05T00:00:00\",\"2023-05-08T00:00:00\",\"2023-05-09T00:00:00\",\"2023-05-10T00:00:00\",\"2023-05-11T00:00:00\",\"2023-05-12T00:00:00\",\"2023-05-15T00:00:00\",\"2023-05-16T00:00:00\",\"2023-05-17T00:00:00\",\"2023-05-18T00:00:00\",\"2023-05-19T00:00:00\",\"2023-05-22T00:00:00\",\"2023-05-23T00:00:00\",\"2023-05-24T00:00:00\",\"2023-05-25T00:00:00\",\"2023-05-26T00:00:00\",\"2023-05-30T00:00:00\",\"2023-05-31T00:00:00\",\"2023-06-01T00:00:00\",\"2023-06-02T00:00:00\",\"2023-06-05T00:00:00\",\"2023-06-06T00:00:00\",\"2023-06-07T00:00:00\",\"2023-06-08T00:00:00\",\"2023-06-09T00:00:00\",\"2023-06-12T00:00:00\",\"2023-06-13T00:00:00\",\"2023-06-14T00:00:00\",\"2023-06-15T00:00:00\",\"2023-06-16T00:00:00\",\"2023-06-20T00:00:00\",\"2023-06-21T00:00:00\",\"2023-06-22T00:00:00\",\"2023-06-23T00:00:00\",\"2023-06-26T00:00:00\",\"2023-06-27T00:00:00\",\"2023-06-28T00:00:00\",\"2023-06-29T00:00:00\",\"2023-06-30T00:00:00\",\"2023-07-03T00:00:00\",\"2023-07-05T00:00:00\",\"2023-07-06T00:00:00\",\"2023-07-07T00:00:00\",\"2023-07-10T00:00:00\",\"2023-07-11T00:00:00\",\"2023-07-12T00:00:00\",\"2023-07-13T00:00:00\",\"2023-07-14T00:00:00\",\"2023-07-17T00:00:00\",\"2023-07-18T00:00:00\",\"2023-07-19T00:00:00\",\"2023-07-20T00:00:00\",\"2023-07-21T00:00:00\",\"2023-07-24T00:00:00\",\"2023-07-25T00:00:00\",\"2023-07-26T00:00:00\",\"2023-07-27T00:00:00\",\"2023-07-28T00:00:00\",\"2023-07-31T00:00:00\",\"2023-08-01T00:00:00\",\"2023-08-02T00:00:00\",\"2023-08-03T00:00:00\",\"2023-08-04T00:00:00\",\"2023-08-07T00:00:00\",\"2023-08-08T00:00:00\",\"2023-08-09T00:00:00\",\"2023-08-10T00:00:00\",\"2023-08-11T00:00:00\",\"2023-08-14T00:00:00\",\"2023-08-15T00:00:00\",\"2023-08-16T00:00:00\",\"2023-08-17T00:00:00\",\"2023-08-18T00:00:00\",\"2023-08-21T00:00:00\",\"2023-08-22T00:00:00\",\"2023-08-23T00:00:00\",\"2023-08-24T00:00:00\",\"2023-08-25T00:00:00\",\"2023-08-28T00:00:00\",\"2023-08-29T00:00:00\",\"2023-08-30T00:00:00\",\"2023-08-31T00:00:00\",\"2023-09-01T00:00:00\",\"2023-09-05T00:00:00\",\"2023-09-06T00:00:00\",\"2023-09-07T00:00:00\",\"2023-09-08T00:00:00\",\"2023-09-11T00:00:00\",\"2023-09-12T00:00:00\",\"2023-09-13T00:00:00\",\"2023-09-14T00:00:00\",\"2023-09-15T00:00:00\",\"2023-09-18T00:00:00\",\"2023-09-19T00:00:00\",\"2023-09-20T00:00:00\",\"2023-09-21T00:00:00\",\"2023-09-22T00:00:00\",\"2023-09-25T00:00:00\",\"2023-09-26T00:00:00\",\"2023-09-27T00:00:00\",\"2023-09-28T00:00:00\",\"2023-09-29T00:00:00\",\"2023-10-02T00:00:00\",\"2023-10-03T00:00:00\",\"2023-10-04T00:00:00\",\"2023-10-05T00:00:00\",\"2023-10-06T00:00:00\",\"2023-10-09T00:00:00\",\"2023-10-10T00:00:00\",\"2023-10-11T00:00:00\",\"2023-10-12T00:00:00\",\"2023-10-13T00:00:00\",\"2023-10-16T00:00:00\",\"2023-10-17T00:00:00\",\"2023-10-18T00:00:00\",\"2023-10-19T00:00:00\",\"2023-10-20T00:00:00\",\"2023-10-23T00:00:00\",\"2023-10-24T00:00:00\",\"2023-10-25T00:00:00\",\"2023-10-26T00:00:00\",\"2023-10-27T00:00:00\",\"2023-10-30T00:00:00\",\"2023-10-31T00:00:00\",\"2023-11-01T00:00:00\",\"2023-11-02T00:00:00\",\"2023-11-03T00:00:00\",\"2023-11-06T00:00:00\",\"2023-11-07T00:00:00\",\"2023-11-08T00:00:00\",\"2023-11-09T00:00:00\",\"2023-11-10T00:00:00\",\"2023-11-13T00:00:00\",\"2023-11-14T00:00:00\",\"2023-11-15T00:00:00\",\"2023-11-16T00:00:00\",\"2023-11-17T00:00:00\",\"2023-11-20T00:00:00\",\"2023-11-21T00:00:00\",\"2023-11-22T00:00:00\",\"2023-11-24T00:00:00\",\"2023-11-27T00:00:00\",\"2023-11-28T00:00:00\",\"2023-11-29T00:00:00\",\"2023-11-30T00:00:00\",\"2023-12-01T00:00:00\",\"2023-12-04T00:00:00\",\"2023-12-05T00:00:00\",\"2023-12-06T00:00:00\",\"2023-12-07T00:00:00\",\"2023-12-08T00:00:00\",\"2023-12-11T00:00:00\",\"2023-12-12T00:00:00\",\"2023-12-13T00:00:00\",\"2023-12-14T00:00:00\",\"2023-12-15T00:00:00\",\"2023-12-18T00:00:00\",\"2023-12-19T00:00:00\",\"2023-12-20T00:00:00\",\"2023-12-21T00:00:00\",\"2023-12-22T00:00:00\",\"2023-12-27T00:00:00\",\"2023-12-28T00:00:00\",\"2023-12-29T00:00:00\",\"2024-01-02T00:00:00\",\"2024-01-03T00:00:00\",\"2024-01-04T00:00:00\",\"2024-01-05T00:00:00\",\"2024-01-08T00:00:00\",\"2024-01-09T00:00:00\",\"2024-01-10T00:00:00\",\"2024-01-11T00:00:00\",\"2024-01-12T00:00:00\",\"2024-01-16T00:00:00\",\"2024-01-17T00:00:00\",\"2024-01-18T00:00:00\",\"2024-01-19T00:00:00\",\"2024-01-22T00:00:00\",\"2024-01-23T00:00:00\",\"2024-01-24T00:00:00\",\"2024-01-25T00:00:00\",\"2024-01-26T00:00:00\",\"2024-01-29T00:00:00\",\"2024-01-30T00:00:00\",\"2024-01-31T00:00:00\",\"2024-02-01T00:00:00\",\"2024-02-02T00:00:00\",\"2024-02-05T00:00:00\",\"2024-02-06T00:00:00\",\"2024-02-07T00:00:00\",\"2024-02-08T00:00:00\",\"2024-02-09T00:00:00\",\"2024-02-12T00:00:00\",\"2024-02-13T00:00:00\",\"2024-02-14T00:00:00\",\"2024-02-15T00:00:00\",\"2024-02-16T00:00:00\"],\"xaxis\":\"x\",\"y\":[0.006528501752346221,-0.01250975709420646,-0.010680650713711118,-0.006468962432461471,0.009383724038103662,-0.03609715505114922,-0.044183374027964906,-0.07980667890731652,-0.06916519864305079,-0.05788894470722719,-0.0764039694096941,-0.05157718927805686,-0.06153900406147739,-0.03243458555596288,-0.06610268521165563,-0.0816842924708101,-0.08283831661356311,-0.08123311673771014,-0.09707291377713452,-0.09971799780192478,-0.0874117142564587,-0.08012319652359418,-0.09172386276120716,-0.09435717096600162,-0.09257450010729916,-0.09877785248820582,-0.0884543814790789,-0.0936373836529654,-0.10384958165399034,-0.127298111752898,-0.14346127632302283,-0.17082006850926906,-0.16217998276954454,-0.14486559002302055,-0.1662530695138093,-0.16403220400868104,-0.15781728843809018,-0.16124308822707495,-0.16685035991312122,-0.15081541216889222,-0.14951346656492345,-0.1446373976310032,-0.1409077053586771,-0.1504043446416312,-0.14309487027827122,-0.1638387064051984,-0.15038879393257507,-0.13130969472004553,-0.12766453534250016,-0.12987464789883174,-0.13480306707434064,-0.14677927219248446,-0.16216345807026294,-0.15249026186068892,-0.15793621872214,-0.1474248359505722,-0.1449072394109535,-0.1473216935652939,-0.13653265899210038,-0.15312597557927707,-0.15905177595572212,-0.15394985385009732,-0.15374641523051588,-0.13992218288480812,-0.13980781720287136,-0.15200388990538183,-0.1429659205125681,-0.13136820967401924,-0.13509608574185697,-0.13525191695862424,-0.14090026780726564,-0.13263231136685436,-0.12378155201150134,-0.12351030369919765,-0.12716919233528756,-0.12834106960174257,-0.13043622335992472,-0.13224025562193964,-0.1512198834555359,-0.17482573160151418,-0.17944761923825606,-0.1795379734961119,-0.17574538772975107,-0.19079756772905962,-0.20036781123428357,-0.20491461726157129,-0.205508158436628,-0.2152450287012591,-0.20966088123285556,-0.2267610387375081,-0.22334612705609494,-0.2077385062344626,-0.18175122258014476,-0.16996314193242812,-0.19542421599101373,-0.18535091637062373,-0.1877215113002231,-0.1989689107666685,-0.2020576371356999,-0.2070722435532262,-0.2137484215713665,-0.21467881345110218,-0.22132703270700768,-0.2012753954564232,-0.20140788250410563,-0.19680175370066766,-0.22138339428568868,-0.2197863829308467,-0.20032134567517562,-0.17325688809304263,-0.17118951727946058,-0.17313897778431792,-0.1797208908933716,-0.18572070265094098,-0.1808815856689175,-0.19127712029644406,-0.18026989117495912,-0.18937938199146467,-0.1612795993480924,-0.15086253938371993,-0.15375074127286553,-0.1556179727561686,-0.14704192802781388,-0.1408857421397628,-0.1399402569150208,-0.13438921631945958,-0.13776415135727005,-0.12280213957252475,-0.11767218113580243,-0.11535921731817254,-0.10641695506544072,-0.11390989103981294,-0.09673006426871739,-0.0979901378994959,-0.09479584012235376,-0.0989205851137388,-0.06160022032775198,-0.06005430122461557,-0.050245026939419304,-0.050181948090037044,-0.05009578702657425,-0.04873702860645905,-0.04784620428144311,-0.0630598355036025,-0.05950292669439455,-0.056463979100156485,-0.05303504025412125,-0.06109284577781385,-0.0699935735280329,-0.06341506564728272,-0.07462679056910966,-0.069958744702527,-0.0716665674668325,-0.0714437761890465,-0.07509943904905468,-0.07507796735595723,-0.06696402047870609,-0.062476208619618806,-0.04982831585969685,-0.04216764771597873,-0.0772957196402266,-0.07960555424184362,-0.08595434601670406,-0.08621384954613065,-0.07311665151404712,-0.0852566883440115,-0.08120641060199346,-0.08771823125353194,-0.09550345767103104,-0.084122268906369,-0.0874281515082026,-0.08346845557274532,-0.07519408473791547,-0.07431242093757826,-0.06129041999674885,-0.05528942007579523,-0.0422323899914304,-0.0432562500293212,-0.0447027178778749,-0.04022627170241472,-0.04213512844699203,-0.036842545698216565,-0.04031959475594192,-0.028686214330863744,-0.02579458280730204,-0.027878257281888377,-0.0304955540395604,-0.023690308834536534,-0.02344174944290478,-0.02716401756024077,-0.018121580484381478,-0.016330895079393993,-0.003180371870341713,-0.003373788513828453,-0.01097522875528557,-0.011767301187554301,-0.009553449238263073,-0.007899896077307867,-0.014594987670919424,-0.014145895530279501,-0.019797411809749303,-0.013795269158722992,-0.014573993882768138,-0.02973048287475536,-0.04674891268060758,-0.046259678361411254,-0.03783175339597254,-0.05256255382277109,-0.04068476784771205,-0.036271822513149574,-0.04070106846820671,-0.03960072064472689,-0.03259022790480579,-0.027526336040092497,-0.031116564260541775,-0.03006901369585974,-0.03584195078451599,-0.04963247407814335,-0.061440956648778015,-0.043033279871496875,-0.05578684860746651,-0.03829088187075884,-0.055611429879781585,-0.05572738397873746,-0.06529193446484487,-0.07413150460487668,-0.07837420055202486,-0.07917030793748106,-0.0718375818721727,-0.08034207635990924,-0.07023278294194896,-0.059804264007795455,-0.06002122665258805,-0.06456258666574877,-0.0638336161093866,-0.06533662804938654,-0.06250734316118724,-0.0635706345326373,-0.05496868608365006,-0.050107345378091236,-0.048505417720819836,-0.05104690011139491,-0.049924030637978456,-0.04715173672068775,-0.04635142494524493,-0.04328622620426358,-0.047726804777256715,-0.05151220886004305,-0.04885274039804045,-0.0345776328943667,-0.03292744836491755,-0.04293579092812139,-0.04239395840627639,-0.046403669928026456,-0.04576734711541643,-0.04538366861628199,-0.047384622355967895,-0.04835060877312699,-0.04235323905054935,-0.0446635145894614,-0.04673657965227683,-0.05454949772805058,-0.05777502755678964,-0.05298686676286696,-0.04416936638965682,-0.041116373520874536,-0.03940716635098581,-0.06035910553335556,-0.05525470171963826,-0.04084782500130152,-0.03236878385456609,-0.04626002871175951,-0.03382301798191902,-0.016641625499818576,-0.012859753336117176,-0.009150140126267955,-0.014627312366046058,-0.013370051629395458,-0.016954121965541153,0.0027835837272848427,0.0018320932212889025,0.029612166639254586,0.04074777163068854,0.04227068432160659,0.01932959025004527,0.014424540982784614,0.018483107037751516,0.011636218304929457,0.008338361899953465,0.010883936615615583,0.01667430342219589,0.020857921932006362,0.02889423526471721,0.030462112695602974,0.007561278907305142,0.0014826951648374657,0.002840270419669573,0.006748679940844677,0.009594578634992277,0.026231627946587486,0.034184659496912934,0.03244191824509925,0.03982373938549522,0.040571893601377966,0.0409181948193385,0.04542912303596669,0.04510802607551627,0.040194878245487564,0.04216578619272347,0.04179568568469725,0.053315719646050294,0.05751770566628947,0.05396389618628323,0.04939106917630633,0.0373632645098811,0.040912886129109025,0.04387845629329852,0.04772136914763131,0.03966864294694841,0.03249116228720782,0.05321297540195938,0.04627953438041829,0.05240851802382119,0.04399151302439007,0.029880322146999004,0.02468335458043932,0.028317633718163194,0.02846668974273029,0.030486003560418452,0.036862663062128126,0.029058484672613613,0.03225119392136457,0.035800465777891304,0.04021556811069601,0.03735556325123504,0.02896042626017796,0.03301627315200015,0.03385460178648835,0.029863177192690434,0.02580876525974421,0.03561860231870464,0.04219031107969009,0.04543837577226765,0.04517368446047946,0.05043359092050709,0.04393571603570406,0.03514242351662903,0.03083450917450202,0.03108897707997598,0.01706428120130519,0.020360483435995357,0.019635549685661557,0.003603144810947208,-0.007903193094876276,-0.019076130609829864,-0.019946660388267732,-0.02749588628070171,-0.024104265075631272,-0.0234686655130656,-0.035404300653649856,-0.04266225355070818,-0.038631771321632986,-0.028485360735319376,-0.028039148494507712,-0.036938623359204024,-0.04440367538488397,-0.04563304966905794,-0.038577140346210306,-0.047696562119626675,-0.052985247879309125,-0.06585442693751958,-0.07095437293612464,-0.06732885825086862,-0.0666410073945619,-0.07154241353172842,-0.07038101424122,-0.06554888079632189,-0.0634523846548087,-0.05442907695109215,-0.045144504117727,-0.04363659164796842,-0.043711579840773805,-0.046191220737662984,-0.045906875775364175,-0.04038299110333714,-0.04188120680107766,-0.04491632697691304,-0.02868951402860692,-0.02879758103146045,-0.028434798830018183,-0.024257483099269866,-0.025170941357074178,-0.025103457739501997,-0.02243553311635993,-0.02231796084519466,-0.02903019390589616,-0.03184430568953724,-0.03791982978379293,-0.029752216838349072,-0.01931036445811032,-0.028471165107846627,-0.021477492319973725,-0.01797818720100223,-0.014041943124537621,-0.0034284487272117792,0.0019409272124933314,0.0013916874272966039,0.0002419132400156383,-0.004045591333642255,0.0016133608172771196,0.0049322287544496055,0.009792318336031738,0.0056198346004230765,0.007338525004925375,0.009891280678878053,0.008422667536986554,0.004537512869816859,0.004045880690959618,-0.00036702499367788875,-0.006389039484050235,-0.0028611091875068687,-0.00566618513893646,0.00013165129417474532,0.0015253971002124282,0.0003508562736845176,-0.007989875400986534,-0.004074885209683033,-0.008221037860646891,-0.015294716905334883,-0.013268615841253885,-0.006040304693205857,-0.0025777673896080866,-0.0025907129894801443,0.005503260114203342,0.004971968311232596,0.004336068058322427,0.0032802026297129964,0.0018589564953464554,0.0011913152046686415,0.000916450826257405,0.002684552070010354,0.01146209708245698,0.013853707698527855,0.010937458217274675,0.012930627872958365,0.014080481167202962,0.021984569365652906,0.014308569647714528,0.015317484110526303,0.023254117780163036,0.023577581941419814],\"yaxis\":\"y\",\"type\":\"scattergl\"},{\"hovertemplate\":\"variable=EqualWeighted\\u003cbr\\u003eindex=%{x}\\u003cbr\\u003evalue=%{y}\\u003cextra\\u003e\\u003c\\u002fextra\\u003e\",\"legendgroup\":\"EqualWeighted\",\"line\":{\"color\":\"#EF553B\",\"dash\":\"solid\"},\"marker\":{\"symbol\":\"circle\"},\"mode\":\"lines\",\"name\":\"EqualWeighted\",\"showlegend\":true,\"x\":[\"2022-04-28T00:00:00\",\"2022-04-29T00:00:00\",\"2022-05-02T00:00:00\",\"2022-05-03T00:00:00\",\"2022-05-04T00:00:00\",\"2022-05-05T00:00:00\",\"2022-05-06T00:00:00\",\"2022-05-09T00:00:00\",\"2022-05-10T00:00:00\",\"2022-05-11T00:00:00\",\"2022-05-12T00:00:00\",\"2022-05-13T00:00:00\",\"2022-05-16T00:00:00\",\"2022-05-17T00:00:00\",\"2022-05-18T00:00:00\",\"2022-05-19T00:00:00\",\"2022-05-20T00:00:00\",\"2022-05-23T00:00:00\",\"2022-05-24T00:00:00\",\"2022-05-25T00:00:00\",\"2022-05-26T00:00:00\",\"2022-05-27T00:00:00\",\"2022-05-31T00:00:00\",\"2022-06-01T00:00:00\",\"2022-06-02T00:00:00\",\"2022-06-03T00:00:00\",\"2022-06-06T00:00:00\",\"2022-06-07T00:00:00\",\"2022-06-08T00:00:00\",\"2022-06-09T00:00:00\",\"2022-06-10T00:00:00\",\"2022-06-13T00:00:00\",\"2022-06-14T00:00:00\",\"2022-06-15T00:00:00\",\"2022-06-16T00:00:00\",\"2022-06-17T00:00:00\",\"2022-06-21T00:00:00\",\"2022-06-22T00:00:00\",\"2022-06-23T00:00:00\",\"2022-06-24T00:00:00\",\"2022-06-27T00:00:00\",\"2022-06-28T00:00:00\",\"2022-06-29T00:00:00\",\"2022-06-30T00:00:00\",\"2022-07-01T00:00:00\",\"2022-07-05T00:00:00\",\"2022-07-06T00:00:00\",\"2022-07-07T00:00:00\",\"2022-07-08T00:00:00\",\"2022-07-11T00:00:00\",\"2022-07-12T00:00:00\",\"2022-07-13T00:00:00\",\"2022-07-14T00:00:00\",\"2022-07-15T00:00:00\",\"2022-07-18T00:00:00\",\"2022-07-19T00:00:00\",\"2022-07-20T00:00:00\",\"2022-07-21T00:00:00\",\"2022-07-22T00:00:00\",\"2022-07-25T00:00:00\",\"2022-07-26T00:00:00\",\"2022-07-27T00:00:00\",\"2022-07-28T00:00:00\",\"2022-07-29T00:00:00\",\"2022-08-01T00:00:00\",\"2022-08-02T00:00:00\",\"2022-08-03T00:00:00\",\"2022-08-04T00:00:00\",\"2022-08-05T00:00:00\",\"2022-08-08T00:00:00\",\"2022-08-09T00:00:00\",\"2022-08-10T00:00:00\",\"2022-08-11T00:00:00\",\"2022-08-12T00:00:00\",\"2022-08-15T00:00:00\",\"2022-08-16T00:00:00\",\"2022-08-17T00:00:00\",\"2022-08-18T00:00:00\",\"2022-08-19T00:00:00\",\"2022-08-22T00:00:00\",\"2022-08-23T00:00:00\",\"2022-08-24T00:00:00\",\"2022-08-25T00:00:00\",\"2022-08-26T00:00:00\",\"2022-08-29T00:00:00\",\"2022-08-30T00:00:00\",\"2022-08-31T00:00:00\",\"2022-09-01T00:00:00\",\"2022-09-02T00:00:00\",\"2022-09-06T00:00:00\",\"2022-09-07T00:00:00\",\"2022-09-08T00:00:00\",\"2022-09-09T00:00:00\",\"2022-09-12T00:00:00\",\"2022-09-13T00:00:00\",\"2022-09-14T00:00:00\",\"2022-09-15T00:00:00\",\"2022-09-16T00:00:00\",\"2022-09-19T00:00:00\",\"2022-09-20T00:00:00\",\"2022-09-21T00:00:00\",\"2022-09-22T00:00:00\",\"2022-09-23T00:00:00\",\"2022-09-26T00:00:00\",\"2022-09-27T00:00:00\",\"2022-09-28T00:00:00\",\"2022-09-29T00:00:00\",\"2022-09-30T00:00:00\",\"2022-10-03T00:00:00\",\"2022-10-04T00:00:00\",\"2022-10-05T00:00:00\",\"2022-10-06T00:00:00\",\"2022-10-07T00:00:00\",\"2022-10-10T00:00:00\",\"2022-10-11T00:00:00\",\"2022-10-12T00:00:00\",\"2022-10-13T00:00:00\",\"2022-10-14T00:00:00\",\"2022-10-17T00:00:00\",\"2022-10-18T00:00:00\",\"2022-10-19T00:00:00\",\"2022-10-20T00:00:00\",\"2022-10-21T00:00:00\",\"2022-10-24T00:00:00\",\"2022-10-25T00:00:00\",\"2022-10-26T00:00:00\",\"2022-10-27T00:00:00\",\"2022-10-28T00:00:00\",\"2022-10-31T00:00:00\",\"2022-11-01T00:00:00\",\"2022-11-02T00:00:00\",\"2022-11-03T00:00:00\",\"2022-11-04T00:00:00\",\"2022-11-07T00:00:00\",\"2022-11-08T00:00:00\",\"2022-11-09T00:00:00\",\"2022-11-10T00:00:00\",\"2022-11-11T00:00:00\",\"2022-11-14T00:00:00\",\"2022-11-15T00:00:00\",\"2022-11-16T00:00:00\",\"2022-11-17T00:00:00\",\"2022-11-18T00:00:00\",\"2022-11-21T00:00:00\",\"2022-11-22T00:00:00\",\"2022-11-23T00:00:00\",\"2022-11-25T00:00:00\",\"2022-11-28T00:00:00\",\"2022-11-29T00:00:00\",\"2022-11-30T00:00:00\",\"2022-12-01T00:00:00\",\"2022-12-02T00:00:00\",\"2022-12-05T00:00:00\",\"2022-12-06T00:00:00\",\"2022-12-07T00:00:00\",\"2022-12-08T00:00:00\",\"2022-12-09T00:00:00\",\"2022-12-12T00:00:00\",\"2022-12-13T00:00:00\",\"2022-12-14T00:00:00\",\"2022-12-15T00:00:00\",\"2022-12-16T00:00:00\",\"2022-12-19T00:00:00\",\"2022-12-20T00:00:00\",\"2022-12-21T00:00:00\",\"2022-12-22T00:00:00\",\"2022-12-23T00:00:00\",\"2022-12-27T00:00:00\",\"2022-12-28T00:00:00\",\"2022-12-29T00:00:00\",\"2022-12-30T00:00:00\",\"2023-01-03T00:00:00\",\"2023-01-04T00:00:00\",\"2023-01-05T00:00:00\",\"2023-01-06T00:00:00\",\"2023-01-09T00:00:00\",\"2023-01-10T00:00:00\",\"2023-01-11T00:00:00\",\"2023-01-12T00:00:00\",\"2023-01-13T00:00:00\",\"2023-01-17T00:00:00\",\"2023-01-18T00:00:00\",\"2023-01-19T00:00:00\",\"2023-01-20T00:00:00\",\"2023-01-23T00:00:00\",\"2023-01-24T00:00:00\",\"2023-01-25T00:00:00\",\"2023-01-26T00:00:00\",\"2023-01-27T00:00:00\",\"2023-01-30T00:00:00\",\"2023-01-31T00:00:00\",\"2023-02-01T00:00:00\",\"2023-02-02T00:00:00\",\"2023-02-03T00:00:00\",\"2023-02-06T00:00:00\",\"2023-02-07T00:00:00\",\"2023-02-08T00:00:00\",\"2023-02-09T00:00:00\",\"2023-02-10T00:00:00\",\"2023-02-13T00:00:00\",\"2023-02-14T00:00:00\",\"2023-02-15T00:00:00\",\"2023-02-16T00:00:00\",\"2023-02-17T00:00:00\",\"2023-02-21T00:00:00\",\"2023-02-22T00:00:00\",\"2023-02-23T00:00:00\",\"2023-02-24T00:00:00\",\"2023-02-27T00:00:00\",\"2023-02-28T00:00:00\",\"2023-03-01T00:00:00\",\"2023-03-02T00:00:00\",\"2023-03-03T00:00:00\",\"2023-03-06T00:00:00\",\"2023-03-07T00:00:00\",\"2023-03-08T00:00:00\",\"2023-03-09T00:00:00\",\"2023-03-10T00:00:00\",\"2023-03-13T00:00:00\",\"2023-03-14T00:00:00\",\"2023-03-15T00:00:00\",\"2023-03-16T00:00:00\",\"2023-03-17T00:00:00\",\"2023-03-20T00:00:00\",\"2023-03-21T00:00:00\",\"2023-03-22T00:00:00\",\"2023-03-23T00:00:00\",\"2023-03-24T00:00:00\",\"2023-03-27T00:00:00\",\"2023-03-28T00:00:00\",\"2023-03-29T00:00:00\",\"2023-03-30T00:00:00\",\"2023-03-31T00:00:00\",\"2023-04-03T00:00:00\",\"2023-04-04T00:00:00\",\"2023-04-05T00:00:00\",\"2023-04-06T00:00:00\",\"2023-04-11T00:00:00\",\"2023-04-12T00:00:00\",\"2023-04-13T00:00:00\",\"2023-04-14T00:00:00\",\"2023-04-17T00:00:00\",\"2023-04-18T00:00:00\",\"2023-04-19T00:00:00\",\"2023-04-20T00:00:00\",\"2023-04-21T00:00:00\",\"2023-04-24T00:00:00\",\"2023-04-25T00:00:00\",\"2023-04-26T00:00:00\",\"2023-04-27T00:00:00\",\"2023-04-28T00:00:00\",\"2023-05-02T00:00:00\",\"2023-05-03T00:00:00\",\"2023-05-04T00:00:00\",\"2023-05-05T00:00:00\",\"2023-05-08T00:00:00\",\"2023-05-09T00:00:00\",\"2023-05-10T00:00:00\",\"2023-05-11T00:00:00\",\"2023-05-12T00:00:00\",\"2023-05-15T00:00:00\",\"2023-05-16T00:00:00\",\"2023-05-17T00:00:00\",\"2023-05-18T00:00:00\",\"2023-05-19T00:00:00\",\"2023-05-22T00:00:00\",\"2023-05-23T00:00:00\",\"2023-05-24T00:00:00\",\"2023-05-25T00:00:00\",\"2023-05-26T00:00:00\",\"2023-05-30T00:00:00\",\"2023-05-31T00:00:00\",\"2023-06-01T00:00:00\",\"2023-06-02T00:00:00\",\"2023-06-05T00:00:00\",\"2023-06-06T00:00:00\",\"2023-06-07T00:00:00\",\"2023-06-08T00:00:00\",\"2023-06-09T00:00:00\",\"2023-06-12T00:00:00\",\"2023-06-13T00:00:00\",\"2023-06-14T00:00:00\",\"2023-06-15T00:00:00\",\"2023-06-16T00:00:00\",\"2023-06-20T00:00:00\",\"2023-06-21T00:00:00\",\"2023-06-22T00:00:00\",\"2023-06-23T00:00:00\",\"2023-06-26T00:00:00\",\"2023-06-27T00:00:00\",\"2023-06-28T00:00:00\",\"2023-06-29T00:00:00\",\"2023-06-30T00:00:00\",\"2023-07-03T00:00:00\",\"2023-07-05T00:00:00\",\"2023-07-06T00:00:00\",\"2023-07-07T00:00:00\",\"2023-07-10T00:00:00\",\"2023-07-11T00:00:00\",\"2023-07-12T00:00:00\",\"2023-07-13T00:00:00\",\"2023-07-14T00:00:00\",\"2023-07-17T00:00:00\",\"2023-07-18T00:00:00\",\"2023-07-19T00:00:00\",\"2023-07-20T00:00:00\",\"2023-07-21T00:00:00\",\"2023-07-24T00:00:00\",\"2023-07-25T00:00:00\",\"2023-07-26T00:00:00\",\"2023-07-27T00:00:00\",\"2023-07-28T00:00:00\",\"2023-07-31T00:00:00\",\"2023-08-01T00:00:00\",\"2023-08-02T00:00:00\",\"2023-08-03T00:00:00\",\"2023-08-04T00:00:00\",\"2023-08-07T00:00:00\",\"2023-08-08T00:00:00\",\"2023-08-09T00:00:00\",\"2023-08-10T00:00:00\",\"2023-08-11T00:00:00\",\"2023-08-14T00:00:00\",\"2023-08-15T00:00:00\",\"2023-08-16T00:00:00\",\"2023-08-17T00:00:00\",\"2023-08-18T00:00:00\",\"2023-08-21T00:00:00\",\"2023-08-22T00:00:00\",\"2023-08-23T00:00:00\",\"2023-08-24T00:00:00\",\"2023-08-25T00:00:00\",\"2023-08-28T00:00:00\",\"2023-08-29T00:00:00\",\"2023-08-30T00:00:00\",\"2023-08-31T00:00:00\",\"2023-09-01T00:00:00\",\"2023-09-05T00:00:00\",\"2023-09-06T00:00:00\",\"2023-09-07T00:00:00\",\"2023-09-08T00:00:00\",\"2023-09-11T00:00:00\",\"2023-09-12T00:00:00\",\"2023-09-13T00:00:00\",\"2023-09-14T00:00:00\",\"2023-09-15T00:00:00\",\"2023-09-18T00:00:00\",\"2023-09-19T00:00:00\",\"2023-09-20T00:00:00\",\"2023-09-21T00:00:00\",\"2023-09-22T00:00:00\",\"2023-09-25T00:00:00\",\"2023-09-26T00:00:00\",\"2023-09-27T00:00:00\",\"2023-09-28T00:00:00\",\"2023-09-29T00:00:00\",\"2023-10-02T00:00:00\",\"2023-10-03T00:00:00\",\"2023-10-04T00:00:00\",\"2023-10-05T00:00:00\",\"2023-10-06T00:00:00\",\"2023-10-09T00:00:00\",\"2023-10-10T00:00:00\",\"2023-10-11T00:00:00\",\"2023-10-12T00:00:00\",\"2023-10-13T00:00:00\",\"2023-10-16T00:00:00\",\"2023-10-17T00:00:00\",\"2023-10-18T00:00:00\",\"2023-10-19T00:00:00\",\"2023-10-20T00:00:00\",\"2023-10-23T00:00:00\",\"2023-10-24T00:00:00\",\"2023-10-25T00:00:00\",\"2023-10-26T00:00:00\",\"2023-10-27T00:00:00\",\"2023-10-30T00:00:00\",\"2023-10-31T00:00:00\",\"2023-11-01T00:00:00\",\"2023-11-02T00:00:00\",\"2023-11-03T00:00:00\",\"2023-11-06T00:00:00\",\"2023-11-07T00:00:00\",\"2023-11-08T00:00:00\",\"2023-11-09T00:00:00\",\"2023-11-10T00:00:00\",\"2023-11-13T00:00:00\",\"2023-11-14T00:00:00\",\"2023-11-15T00:00:00\",\"2023-11-16T00:00:00\",\"2023-11-17T00:00:00\",\"2023-11-20T00:00:00\",\"2023-11-21T00:00:00\",\"2023-11-22T00:00:00\",\"2023-11-24T00:00:00\",\"2023-11-27T00:00:00\",\"2023-11-28T00:00:00\",\"2023-11-29T00:00:00\",\"2023-11-30T00:00:00\",\"2023-12-01T00:00:00\",\"2023-12-04T00:00:00\",\"2023-12-05T00:00:00\",\"2023-12-06T00:00:00\",\"2023-12-07T00:00:00\",\"2023-12-08T00:00:00\",\"2023-12-11T00:00:00\",\"2023-12-12T00:00:00\",\"2023-12-13T00:00:00\",\"2023-12-14T00:00:00\",\"2023-12-15T00:00:00\",\"2023-12-18T00:00:00\",\"2023-12-19T00:00:00\",\"2023-12-20T00:00:00\",\"2023-12-21T00:00:00\",\"2023-12-22T00:00:00\",\"2023-12-27T00:00:00\",\"2023-12-28T00:00:00\",\"2023-12-29T00:00:00\",\"2024-01-02T00:00:00\",\"2024-01-03T00:00:00\",\"2024-01-04T00:00:00\",\"2024-01-05T00:00:00\",\"2024-01-08T00:00:00\",\"2024-01-09T00:00:00\",\"2024-01-10T00:00:00\",\"2024-01-11T00:00:00\",\"2024-01-12T00:00:00\",\"2024-01-16T00:00:00\",\"2024-01-17T00:00:00\",\"2024-01-18T00:00:00\",\"2024-01-19T00:00:00\",\"2024-01-22T00:00:00\",\"2024-01-23T00:00:00\",\"2024-01-24T00:00:00\",\"2024-01-25T00:00:00\",\"2024-01-26T00:00:00\",\"2024-01-29T00:00:00\",\"2024-01-30T00:00:00\",\"2024-01-31T00:00:00\",\"2024-02-01T00:00:00\",\"2024-02-02T00:00:00\",\"2024-02-05T00:00:00\",\"2024-02-06T00:00:00\",\"2024-02-07T00:00:00\",\"2024-02-08T00:00:00\",\"2024-02-09T00:00:00\",\"2024-02-12T00:00:00\",\"2024-02-13T00:00:00\",\"2024-02-14T00:00:00\",\"2024-02-15T00:00:00\",\"2024-02-16T00:00:00\"],\"xaxis\":\"x\",\"y\":[0.00669187609886841,-0.01593322741688883,-0.014632927602974344,-0.01036442757157403,0.009775253282293454,-0.031188826379522184,-0.038423834989361264,-0.07151077693307001,-0.06413493540092871,-0.056221929442167744,-0.0718441622280445,-0.047738811759678354,-0.05661942128382473,-0.02803579890240048,-0.06302964844826936,-0.07644346605411637,-0.07634658589169013,-0.07252048818284983,-0.08752167079763035,-0.08933205630099825,-0.07560067461720121,-0.06471873526394252,-0.0757554898696493,-0.07916072649236434,-0.07456669438089195,-0.08419029887232009,-0.07484563888009546,-0.07736696511895953,-0.08767856529050769,-0.11459928006342007,-0.1319150487449584,-0.1627405221889141,-0.15572632621479263,-0.1408124838374694,-0.16285356519647165,-0.16351901342246242,-0.1540618325331279,-0.15647784726509395,-0.15872821755340233,-0.13848593136872145,-0.1378252282067502,-0.13685455895904172,-0.13385928322600582,-0.14362082258624728,-0.13492996364540813,-0.15314643448719428,-0.13929208530317988,-0.11918096307105605,-0.11666983075856391,-0.12012281876899265,-0.12670514777623143,-0.13869705248744113,-0.1514521570266036,-0.14288985396614276,-0.14869357653160334,-0.13556403894071586,-0.1323661970230843,-0.1330906133909246,-0.12339061220322024,-0.13980321245342914,-0.14638440716631082,-0.13829079942717307,-0.13582429716388864,-0.1218598117437307,-0.12264664018899046,-0.13524733056098642,-0.12482132302672401,-0.11340701405867668,-0.11628172560092888,-0.11740920362505382,-0.12414539231197239,-0.11174922781498581,-0.10318757716818089,-0.10073750036523223,-0.10236280392958179,-0.10375848977689062,-0.10594614899481876,-0.1074263550821543,-0.12450509262624215,-0.14791533540007992,-0.1531648161094188,-0.15257463122410445,-0.1477170027373261,-0.16464434904501057,-0.1736345567230758,-0.18009971570943276,-0.1810991937807004,-0.18828768228117432,-0.1864829119288695,-0.20154486663090843,-0.195917966350352,-0.18007176268964825,-0.1541910335486219,-0.14576861335779234,-0.17181244697523462,-0.1612037018384485,-0.16441107227440174,-0.17686032605031426,-0.17796105071131862,-0.1835298996304237,-0.19316452135363948,-0.19538026357490157,-0.2021443122614654,-0.18275431472536213,-0.1828195541892765,-0.17402776643823353,-0.19932146639988033,-0.2014484747321816,-0.17811813177492636,-0.1500648232849626,-0.1480949005497477,-0.15144668682326257,-0.15916234389118827,-0.16582325012336588,-0.16054182353888402,-0.17158018478004863,-0.15892026606784834,-0.16901117055621953,-0.14184918451249953,-0.12948502753274377,-0.13516982223576332,-0.13857980648631696,-0.12706213015191353,-0.11907398983255432,-0.11647714078030441,-0.1119142413951974,-0.11559345407389146,-0.09904589318224202,-0.09525292040469722,-0.09434666684262952,-0.08796258902095865,-0.09556320904670718,-0.07848882333398036,-0.07897822040764826,-0.07612958566963116,-0.08241304684532935,-0.045125144079986884,-0.04247072089386194,-0.035329308771993445,-0.03259149570368942,-0.035290339753103514,-0.03383497269490565,-0.03446713873033327,-0.048212098061415576,-0.04348068298901431,-0.03980390600314447,-0.03684972037773486,-0.046192031776318115,-0.05574664897507502,-0.04525764124513982,-0.056731527708952977,-0.05191832458417003,-0.0565602410591733,-0.05781726280579258,-0.06176320315382049,-0.06134202666852462,-0.055120544216279634,-0.047210303278908426,-0.035737180970015436,-0.028842046403602127,-0.06362980385377023,-0.06768497341403851,-0.07560316215906836,-0.07556649243043932,-0.06256890434973451,-0.07475271552010848,-0.06935437575959348,-0.0753693025609384,-0.08362521231114084,-0.0713259768552432,-0.07407418382224219,-0.07214971618380507,-0.06544955281049852,-0.0642328755422489,-0.05097555077393595,-0.04656492662494614,-0.03423193212600627,-0.0338590458867514,-0.03711231073227699,-0.03237038697356518,-0.03544458594146758,-0.03292546614780385,-0.03705815425174224,-0.02545748360039351,-0.020087977204607782,-0.02254954634090836,-0.025568526657494567,-0.01685980289461511,-0.016688192978044587,-0.022367936689961693,-0.009878899487721032,-0.006953673190044323,0.008520802252068013,0.006623620372328351,-0.0015909211295896987,-8.089799236019957e-05,-0.0008339492854044371,-0.0014809898088739037,-0.006822912973114685,-0.003701505977142653,-0.009851856567151911,-0.0031594889907170347,-0.005034431416750045,-0.01658520210838728,-0.03532054994983427,-0.03501609661587149,-0.026863751990947444,-0.04176614166312423,-0.03158986638578636,-0.029373085062110296,-0.03305591140493474,-0.031207681390902024,-0.0232088881484402,-0.01861846077162941,-0.02427341702301305,-0.024063229999882134,-0.03266306650550639,-0.047823628145430376,-0.05773679481812166,-0.03976853299852652,-0.05139359204328658,-0.03158643106205841,-0.04962387585417785,-0.047883537879204144,-0.05899058949741807,-0.07050988834203524,-0.07462593191336472,-0.07324861763322589,-0.06551040572362907,-0.07448320327421167,-0.06388927085753918,-0.05371641864328607,-0.052126497548427846,-0.056210308602516794,-0.05664612973623371,-0.05853600721248982,-0.056769642537525145,-0.05771598252298475,-0.05039556223541583,-0.04395562624724589,-0.04293374787555566,-0.04384930374401969,-0.043693939728039984,-0.042078772533359204,-0.0420945298523462,-0.03956773032003197,-0.04288655519999486,-0.048532776525326164,-0.04770835004191984,-0.03247441399456269,-0.02967784274312134,-0.040219135347353385,-0.04156794837464103,-0.0459450108302874,-0.040758183864342254,-0.040941450218762665,-0.04326787823708863,-0.04213656017530541,-0.036315819509130216,-0.03915774073404981,-0.03989979959405479,-0.048696318644115104,-0.049052416819272596,-0.04394943601985173,-0.03608196074130279,-0.03161748914788878,-0.031456669280866996,-0.05123417568744794,-0.046175111985584966,-0.030875713638361627,-0.022311604890857942,-0.03445409150910991,-0.02196500821217934,-0.004621822616101525,-0.0012230782009278757,0.00278972273598984,-0.0024150823264150866,-0.000171002853695746,-0.00312819806008734,0.01829809277712501,0.018638738852155935,0.04636381535990024,0.060301520072343795,0.05989140227945551,0.03732025190280084,0.03271289471740293,0.03623327037406567,0.02861500142669313,0.025699699652342308,0.02774436755456413,0.03332271791781942,0.03905791728102467,0.04684072165519532,0.048346907481027476,0.02739250219673583,0.022140921500996974,0.022553146162643405,0.02603279368821009,0.02922445706270306,0.04465827468571341,0.05312617431986209,0.05186662225590413,0.05977045755179094,0.061716510401786585,0.06251658866214087,0.06460603716023607,0.06403607350052763,0.06107308567177597,0.062497428199996846,0.06260558253204887,0.07152206015663708,0.07638986026953377,0.0738715003055816,0.06916410064077425,0.057434603062059934,0.06053875821740559,0.06156941939421738,0.06610108705755675,0.05864436365188175,0.05050962984616887,0.06657410645152417,0.06127845913496788,0.06638265334716638,0.057566036707532624,0.04350190255279021,0.03778311433686342,0.04272501885369714,0.044227989107056574,0.04566985137176024,0.05363742460868191,0.04334349948110297,0.04768418172577363,0.05098554201747819,0.05741364794433886,0.05509928806159657,0.046638502463848694,0.051067032308209664,0.05210830786348755,0.04687650274024309,0.04228883086390885,0.05219647988548606,0.05887980334252717,0.06023244518314593,0.06002856913702404,0.0652468488546248,0.057510247386959625,0.0509931683626649,0.04556630106077004,0.045742625082520555,0.030559265384003192,0.03209031279785796,0.03294573818184658,0.0148044007037555,0.0038208078210046417,-0.007684657758379504,-0.008359347783301347,-0.016575646165751162,-0.013003661273217086,-0.012516620373460022,-0.024644814944617014,-0.03268296485573779,-0.027098089470056413,-0.0172177842660243,-0.017493529392331557,-0.02766370638902769,-0.0336171235378634,-0.034334487118515,-0.027178663154273253,-0.037380230671727764,-0.04294682867539979,-0.054513874143401975,-0.06001869012257138,-0.055616136090131885,-0.05674803436605654,-0.06204942518962099,-0.06291324305776955,-0.05766806103668808,-0.05454218356847217,-0.04624481665173727,-0.033409207077999985,-0.029777463884563787,-0.029327049950552436,-0.03071821780965111,-0.031067056853400537,-0.02782017125836908,-0.02610042256878948,-0.029395204086478662,-0.010455592517611606,-0.010053535066031122,-0.010648293300027473,-0.007381224074397292,-0.006062768283233572,-0.006690074509300275,-0.003954666999381934,-0.0045564221708526975,-0.010991204077164224,-0.01350360500781413,-0.02008427404075159,-0.010681112345783214,-0.0009207369312394589,-0.010534170887935398,-0.005214114906169272,-0.0031734983597641003,0.0006419445171370205,0.01121668406447958,0.016469600067571304,0.016716727744346432,0.018450589900145635,0.016671856061525374,0.019908064528864382,0.02388865150746891,0.029215084397185058,0.022868674934661874,0.02631112598804511,0.028742785379402606,0.028056366829485917,0.025873818852291435,0.024515986905152845,0.019267231384808417,0.01345834523511871,0.01565098497188158,0.013345981807541986,0.019378424492594196,0.02051289660346767,0.02078540156907978,0.01297942344292951,0.015815288101570207,0.010375584409729193,0.001388692594970679,0.00446480317831031,0.010878458424641885,0.015025675716842463,0.017072467767714188,0.023895259497526404,0.02525397266474752,0.024057155952243076,0.024758713883501954,0.023144874032483737,0.01999436447610901,0.022286553907276546,0.025180876498248145,0.033475270329459586,0.035367110134927326,0.03496968206462168,0.037429556983382045,0.04007010904743989,0.04648662858771074,0.03628890778927661,0.03931451693684348,0.04824429563361153,0.04810670905752085],\"yaxis\":\"y\",\"type\":\"scattergl\"},{\"hovertemplate\":\"variable=Random\\u003cbr\\u003eindex=%{x}\\u003cbr\\u003evalue=%{y}\\u003cextra\\u003e\\u003c\\u002fextra\\u003e\",\"legendgroup\":\"Random\",\"line\":{\"color\":\"#00cc96\",\"dash\":\"solid\"},\"marker\":{\"symbol\":\"circle\"},\"mode\":\"lines\",\"name\":\"Random\",\"showlegend\":true,\"x\":[\"2022-04-28T00:00:00\",\"2022-04-29T00:00:00\",\"2022-05-02T00:00:00\",\"2022-05-03T00:00:00\",\"2022-05-04T00:00:00\",\"2022-05-05T00:00:00\",\"2022-05-06T00:00:00\",\"2022-05-09T00:00:00\",\"2022-05-10T00:00:00\",\"2022-05-11T00:00:00\",\"2022-05-12T00:00:00\",\"2022-05-13T00:00:00\",\"2022-05-16T00:00:00\",\"2022-05-17T00:00:00\",\"2022-05-18T00:00:00\",\"2022-05-19T00:00:00\",\"2022-05-20T00:00:00\",\"2022-05-23T00:00:00\",\"2022-05-24T00:00:00\",\"2022-05-25T00:00:00\",\"2022-05-26T00:00:00\",\"2022-05-27T00:00:00\",\"2022-05-31T00:00:00\",\"2022-06-01T00:00:00\",\"2022-06-02T00:00:00\",\"2022-06-03T00:00:00\",\"2022-06-06T00:00:00\",\"2022-06-07T00:00:00\",\"2022-06-08T00:00:00\",\"2022-06-09T00:00:00\",\"2022-06-10T00:00:00\",\"2022-06-13T00:00:00\",\"2022-06-14T00:00:00\",\"2022-06-15T00:00:00\",\"2022-06-16T00:00:00\",\"2022-06-17T00:00:00\",\"2022-06-21T00:00:00\",\"2022-06-22T00:00:00\",\"2022-06-23T00:00:00\",\"2022-06-24T00:00:00\",\"2022-06-27T00:00:00\",\"2022-06-28T00:00:00\",\"2022-06-29T00:00:00\",\"2022-06-30T00:00:00\",\"2022-07-01T00:00:00\",\"2022-07-05T00:00:00\",\"2022-07-06T00:00:00\",\"2022-07-07T00:00:00\",\"2022-07-08T00:00:00\",\"2022-07-11T00:00:00\",\"2022-07-12T00:00:00\",\"2022-07-13T00:00:00\",\"2022-07-14T00:00:00\",\"2022-07-15T00:00:00\",\"2022-07-18T00:00:00\",\"2022-07-19T00:00:00\",\"2022-07-20T00:00:00\",\"2022-07-21T00:00:00\",\"2022-07-22T00:00:00\",\"2022-07-25T00:00:00\",\"2022-07-26T00:00:00\",\"2022-07-27T00:00:00\",\"2022-07-28T00:00:00\",\"2022-07-29T00:00:00\",\"2022-08-01T00:00:00\",\"2022-08-02T00:00:00\",\"2022-08-03T00:00:00\",\"2022-08-04T00:00:00\",\"2022-08-05T00:00:00\",\"2022-08-08T00:00:00\",\"2022-08-09T00:00:00\",\"2022-08-10T00:00:00\",\"2022-08-11T00:00:00\",\"2022-08-12T00:00:00\",\"2022-08-15T00:00:00\",\"2022-08-16T00:00:00\",\"2022-08-17T00:00:00\",\"2022-08-18T00:00:00\",\"2022-08-19T00:00:00\",\"2022-08-22T00:00:00\",\"2022-08-23T00:00:00\",\"2022-08-24T00:00:00\",\"2022-08-25T00:00:00\",\"2022-08-26T00:00:00\",\"2022-08-29T00:00:00\",\"2022-08-30T00:00:00\",\"2022-08-31T00:00:00\",\"2022-09-01T00:00:00\",\"2022-09-02T00:00:00\",\"2022-09-06T00:00:00\",\"2022-09-07T00:00:00\",\"2022-09-08T00:00:00\",\"2022-09-09T00:00:00\",\"2022-09-12T00:00:00\",\"2022-09-13T00:00:00\",\"2022-09-14T00:00:00\",\"2022-09-15T00:00:00\",\"2022-09-16T00:00:00\",\"2022-09-19T00:00:00\",\"2022-09-20T00:00:00\",\"2022-09-21T00:00:00\",\"2022-09-22T00:00:00\",\"2022-09-23T00:00:00\",\"2022-09-26T00:00:00\",\"2022-09-27T00:00:00\",\"2022-09-28T00:00:00\",\"2022-09-29T00:00:00\",\"2022-09-30T00:00:00\",\"2022-10-03T00:00:00\",\"2022-10-04T00:00:00\",\"2022-10-05T00:00:00\",\"2022-10-06T00:00:00\",\"2022-10-07T00:00:00\",\"2022-10-10T00:00:00\",\"2022-10-11T00:00:00\",\"2022-10-12T00:00:00\",\"2022-10-13T00:00:00\",\"2022-10-14T00:00:00\",\"2022-10-17T00:00:00\",\"2022-10-18T00:00:00\",\"2022-10-19T00:00:00\",\"2022-10-20T00:00:00\",\"2022-10-21T00:00:00\",\"2022-10-24T00:00:00\",\"2022-10-25T00:00:00\",\"2022-10-26T00:00:00\",\"2022-10-27T00:00:00\",\"2022-10-28T00:00:00\",\"2022-10-31T00:00:00\",\"2022-11-01T00:00:00\",\"2022-11-02T00:00:00\",\"2022-11-03T00:00:00\",\"2022-11-04T00:00:00\",\"2022-11-07T00:00:00\",\"2022-11-08T00:00:00\",\"2022-11-09T00:00:00\",\"2022-11-10T00:00:00\",\"2022-11-11T00:00:00\",\"2022-11-14T00:00:00\",\"2022-11-15T00:00:00\",\"2022-11-16T00:00:00\",\"2022-11-17T00:00:00\",\"2022-11-18T00:00:00\",\"2022-11-21T00:00:00\",\"2022-11-22T00:00:00\",\"2022-11-23T00:00:00\",\"2022-11-25T00:00:00\",\"2022-11-28T00:00:00\",\"2022-11-29T00:00:00\",\"2022-11-30T00:00:00\",\"2022-12-01T00:00:00\",\"2022-12-02T00:00:00\",\"2022-12-05T00:00:00\",\"2022-12-06T00:00:00\",\"2022-12-07T00:00:00\",\"2022-12-08T00:00:00\",\"2022-12-09T00:00:00\",\"2022-12-12T00:00:00\",\"2022-12-13T00:00:00\",\"2022-12-14T00:00:00\",\"2022-12-15T00:00:00\",\"2022-12-16T00:00:00\",\"2022-12-19T00:00:00\",\"2022-12-20T00:00:00\",\"2022-12-21T00:00:00\",\"2022-12-22T00:00:00\",\"2022-12-23T00:00:00\",\"2022-12-27T00:00:00\",\"2022-12-28T00:00:00\",\"2022-12-29T00:00:00\",\"2022-12-30T00:00:00\",\"2023-01-03T00:00:00\",\"2023-01-04T00:00:00\",\"2023-01-05T00:00:00\",\"2023-01-06T00:00:00\",\"2023-01-09T00:00:00\",\"2023-01-10T00:00:00\",\"2023-01-11T00:00:00\",\"2023-01-12T00:00:00\",\"2023-01-13T00:00:00\",\"2023-01-17T00:00:00\",\"2023-01-18T00:00:00\",\"2023-01-19T00:00:00\",\"2023-01-20T00:00:00\",\"2023-01-23T00:00:00\",\"2023-01-24T00:00:00\",\"2023-01-25T00:00:00\",\"2023-01-26T00:00:00\",\"2023-01-27T00:00:00\",\"2023-01-30T00:00:00\",\"2023-01-31T00:00:00\",\"2023-02-01T00:00:00\",\"2023-02-02T00:00:00\",\"2023-02-03T00:00:00\",\"2023-02-06T00:00:00\",\"2023-02-07T00:00:00\",\"2023-02-08T00:00:00\",\"2023-02-09T00:00:00\",\"2023-02-10T00:00:00\",\"2023-02-13T00:00:00\",\"2023-02-14T00:00:00\",\"2023-02-15T00:00:00\",\"2023-02-16T00:00:00\",\"2023-02-17T00:00:00\",\"2023-02-21T00:00:00\",\"2023-02-22T00:00:00\",\"2023-02-23T00:00:00\",\"2023-02-24T00:00:00\",\"2023-02-27T00:00:00\",\"2023-02-28T00:00:00\",\"2023-03-01T00:00:00\",\"2023-03-02T00:00:00\",\"2023-03-03T00:00:00\",\"2023-03-06T00:00:00\",\"2023-03-07T00:00:00\",\"2023-03-08T00:00:00\",\"2023-03-09T00:00:00\",\"2023-03-10T00:00:00\",\"2023-03-13T00:00:00\",\"2023-03-14T00:00:00\",\"2023-03-15T00:00:00\",\"2023-03-16T00:00:00\",\"2023-03-17T00:00:00\",\"2023-03-20T00:00:00\",\"2023-03-21T00:00:00\",\"2023-03-22T00:00:00\",\"2023-03-23T00:00:00\",\"2023-03-24T00:00:00\",\"2023-03-27T00:00:00\",\"2023-03-28T00:00:00\",\"2023-03-29T00:00:00\",\"2023-03-30T00:00:00\",\"2023-03-31T00:00:00\",\"2023-04-03T00:00:00\",\"2023-04-04T00:00:00\",\"2023-04-05T00:00:00\",\"2023-04-06T00:00:00\",\"2023-04-11T00:00:00\",\"2023-04-12T00:00:00\",\"2023-04-13T00:00:00\",\"2023-04-14T00:00:00\",\"2023-04-17T00:00:00\",\"2023-04-18T00:00:00\",\"2023-04-19T00:00:00\",\"2023-04-20T00:00:00\",\"2023-04-21T00:00:00\",\"2023-04-24T00:00:00\",\"2023-04-25T00:00:00\",\"2023-04-26T00:00:00\",\"2023-04-27T00:00:00\",\"2023-04-28T00:00:00\",\"2023-05-02T00:00:00\",\"2023-05-03T00:00:00\",\"2023-05-04T00:00:00\",\"2023-05-05T00:00:00\",\"2023-05-08T00:00:00\",\"2023-05-09T00:00:00\",\"2023-05-10T00:00:00\",\"2023-05-11T00:00:00\",\"2023-05-12T00:00:00\",\"2023-05-15T00:00:00\",\"2023-05-16T00:00:00\",\"2023-05-17T00:00:00\",\"2023-05-18T00:00:00\",\"2023-05-19T00:00:00\",\"2023-05-22T00:00:00\",\"2023-05-23T00:00:00\",\"2023-05-24T00:00:00\",\"2023-05-25T00:00:00\",\"2023-05-26T00:00:00\",\"2023-05-30T00:00:00\",\"2023-05-31T00:00:00\",\"2023-06-01T00:00:00\",\"2023-06-02T00:00:00\",\"2023-06-05T00:00:00\",\"2023-06-06T00:00:00\",\"2023-06-07T00:00:00\",\"2023-06-08T00:00:00\",\"2023-06-09T00:00:00\",\"2023-06-12T00:00:00\",\"2023-06-13T00:00:00\",\"2023-06-14T00:00:00\",\"2023-06-15T00:00:00\",\"2023-06-16T00:00:00\",\"2023-06-20T00:00:00\",\"2023-06-21T00:00:00\",\"2023-06-22T00:00:00\",\"2023-06-23T00:00:00\",\"2023-06-26T00:00:00\",\"2023-06-27T00:00:00\",\"2023-06-28T00:00:00\",\"2023-06-29T00:00:00\",\"2023-06-30T00:00:00\",\"2023-07-03T00:00:00\",\"2023-07-05T00:00:00\",\"2023-07-06T00:00:00\",\"2023-07-07T00:00:00\",\"2023-07-10T00:00:00\",\"2023-07-11T00:00:00\",\"2023-07-12T00:00:00\",\"2023-07-13T00:00:00\",\"2023-07-14T00:00:00\",\"2023-07-17T00:00:00\",\"2023-07-18T00:00:00\",\"2023-07-19T00:00:00\",\"2023-07-20T00:00:00\",\"2023-07-21T00:00:00\",\"2023-07-24T00:00:00\",\"2023-07-25T00:00:00\",\"2023-07-26T00:00:00\",\"2023-07-27T00:00:00\",\"2023-07-28T00:00:00\",\"2023-07-31T00:00:00\",\"2023-08-01T00:00:00\",\"2023-08-02T00:00:00\",\"2023-08-03T00:00:00\",\"2023-08-04T00:00:00\",\"2023-08-07T00:00:00\",\"2023-08-08T00:00:00\",\"2023-08-09T00:00:00\",\"2023-08-10T00:00:00\",\"2023-08-11T00:00:00\",\"2023-08-14T00:00:00\",\"2023-08-15T00:00:00\",\"2023-08-16T00:00:00\",\"2023-08-17T00:00:00\",\"2023-08-18T00:00:00\",\"2023-08-21T00:00:00\",\"2023-08-22T00:00:00\",\"2023-08-23T00:00:00\",\"2023-08-24T00:00:00\",\"2023-08-25T00:00:00\",\"2023-08-28T00:00:00\",\"2023-08-29T00:00:00\",\"2023-08-30T00:00:00\",\"2023-08-31T00:00:00\",\"2023-09-01T00:00:00\",\"2023-09-05T00:00:00\",\"2023-09-06T00:00:00\",\"2023-09-07T00:00:00\",\"2023-09-08T00:00:00\",\"2023-09-11T00:00:00\",\"2023-09-12T00:00:00\",\"2023-09-13T00:00:00\",\"2023-09-14T00:00:00\",\"2023-09-15T00:00:00\",\"2023-09-18T00:00:00\",\"2023-09-19T00:00:00\",\"2023-09-20T00:00:00\",\"2023-09-21T00:00:00\",\"2023-09-22T00:00:00\",\"2023-09-25T00:00:00\",\"2023-09-26T00:00:00\",\"2023-09-27T00:00:00\",\"2023-09-28T00:00:00\",\"2023-09-29T00:00:00\",\"2023-10-02T00:00:00\",\"2023-10-03T00:00:00\",\"2023-10-04T00:00:00\",\"2023-10-05T00:00:00\",\"2023-10-06T00:00:00\",\"2023-10-09T00:00:00\",\"2023-10-10T00:00:00\",\"2023-10-11T00:00:00\",\"2023-10-12T00:00:00\",\"2023-10-13T00:00:00\",\"2023-10-16T00:00:00\",\"2023-10-17T00:00:00\",\"2023-10-18T00:00:00\",\"2023-10-19T00:00:00\",\"2023-10-20T00:00:00\",\"2023-10-23T00:00:00\",\"2023-10-24T00:00:00\",\"2023-10-25T00:00:00\",\"2023-10-26T00:00:00\",\"2023-10-27T00:00:00\",\"2023-10-30T00:00:00\",\"2023-10-31T00:00:00\",\"2023-11-01T00:00:00\",\"2023-11-02T00:00:00\",\"2023-11-03T00:00:00\",\"2023-11-06T00:00:00\",\"2023-11-07T00:00:00\",\"2023-11-08T00:00:00\",\"2023-11-09T00:00:00\",\"2023-11-10T00:00:00\",\"2023-11-13T00:00:00\",\"2023-11-14T00:00:00\",\"2023-11-15T00:00:00\",\"2023-11-16T00:00:00\",\"2023-11-17T00:00:00\",\"2023-11-20T00:00:00\",\"2023-11-21T00:00:00\",\"2023-11-22T00:00:00\",\"2023-11-24T00:00:00\",\"2023-11-27T00:00:00\",\"2023-11-28T00:00:00\",\"2023-11-29T00:00:00\",\"2023-11-30T00:00:00\",\"2023-12-01T00:00:00\",\"2023-12-04T00:00:00\",\"2023-12-05T00:00:00\",\"2023-12-06T00:00:00\",\"2023-12-07T00:00:00\",\"2023-12-08T00:00:00\",\"2023-12-11T00:00:00\",\"2023-12-12T00:00:00\",\"2023-12-13T00:00:00\",\"2023-12-14T00:00:00\",\"2023-12-15T00:00:00\",\"2023-12-18T00:00:00\",\"2023-12-19T00:00:00\",\"2023-12-20T00:00:00\",\"2023-12-21T00:00:00\",\"2023-12-22T00:00:00\",\"2023-12-27T00:00:00\",\"2023-12-28T00:00:00\",\"2023-12-29T00:00:00\",\"2024-01-02T00:00:00\",\"2024-01-03T00:00:00\",\"2024-01-04T00:00:00\",\"2024-01-05T00:00:00\",\"2024-01-08T00:00:00\",\"2024-01-09T00:00:00\",\"2024-01-10T00:00:00\",\"2024-01-11T00:00:00\",\"2024-01-12T00:00:00\",\"2024-01-16T00:00:00\",\"2024-01-17T00:00:00\",\"2024-01-18T00:00:00\",\"2024-01-19T00:00:00\",\"2024-01-22T00:00:00\",\"2024-01-23T00:00:00\",\"2024-01-24T00:00:00\",\"2024-01-25T00:00:00\",\"2024-01-26T00:00:00\",\"2024-01-29T00:00:00\",\"2024-01-30T00:00:00\",\"2024-01-31T00:00:00\",\"2024-02-01T00:00:00\",\"2024-02-02T00:00:00\",\"2024-02-05T00:00:00\",\"2024-02-06T00:00:00\",\"2024-02-07T00:00:00\",\"2024-02-08T00:00:00\",\"2024-02-09T00:00:00\",\"2024-02-12T00:00:00\",\"2024-02-13T00:00:00\",\"2024-02-14T00:00:00\",\"2024-02-15T00:00:00\",\"2024-02-16T00:00:00\"],\"xaxis\":\"x\",\"y\":[0.004815585835201183,-0.01992236891690148,-0.0195764482662859,-0.01548814622576525,0.007440104229720407,-0.03086405302072346,-0.03809606293017535,-0.06948670579481721,-0.06334706425800812,-0.05570573557221617,-0.07070081384026909,-0.04655367313699454,-0.056101424927619506,-0.026143070775388313,-0.06205775863480711,-0.07465394427524404,-0.07289694668707643,-0.06753081634082655,-0.0839610022515314,-0.08620747104102007,-0.07047125286586911,-0.05646784702451994,-0.06864034208101881,-0.0729401463934194,-0.06631493234129289,-0.07975725030004002,-0.069972403719427,-0.07136836029723621,-0.0827205828347652,-0.1155821780845592,-0.13414046404024374,-0.1685072796608344,-0.1612509066000739,-0.14788922132441948,-0.16956480750774316,-0.17254215066732334,-0.15990135509852182,-0.162209393905817,-0.1624097684343855,-0.1375786847306621,-0.1373081215997575,-0.1381228271183251,-0.13528730986541923,-0.14640529158646134,-0.1359214347364457,-0.15494277768484976,-0.13855743006044383,-0.1149683661605806,-0.11328827180816095,-0.11754123603037904,-0.12630607134137947,-0.1401065399119444,-0.152565603038742,-0.1448301454565702,-0.14986755938237334,-0.1350026404795373,-0.1312161205138257,-0.1316437124006019,-0.12039009554573314,-0.13990537657741822,-0.14724066057877572,-0.13729577589528247,-0.13349018542075286,-0.11810971986148032,-0.11968372096817802,-0.13421438828831234,-0.12215568565313854,-0.1089330498893336,-0.1112761199676078,-0.11333162551531846,-0.1222332060324058,-0.10526040476622349,-0.09542541325665715,-0.09173752409850244,-0.09205458003370982,-0.0940907814249719,-0.0961759624676458,-0.0979509117790542,-0.1153376156344606,-0.13887011819201642,-0.14542517086421733,-0.1444434029125522,-0.13966017428996755,-0.15676592946253023,-0.16592715130307664,-0.17345439703455393,-0.1732533841944512,-0.1804643391022522,-0.1802977981451606,-0.19558432876960619,-0.18937159444939985,-0.1715841495753126,-0.1438569823284329,-0.13913696744888962,-0.1634998083467387,-0.15084901836673364,-0.1536465392147187,-0.16767590164604831,-0.16666432064576486,-0.17254722311457302,-0.18447361567465853,-0.18707947918871778,-0.19301950311495514,-0.16871161129501186,-0.16822393408268901,-0.15661559257374014,-0.184755456092525,-0.1879323344772474,-0.1611069791774723,-0.13205978365017684,-0.12959693439445577,-0.13314916448203507,-0.1395366897592067,-0.14686305779204722,-0.13898408975389737,-0.1523182261687959,-0.14043244584446546,-0.14995116130725455,-0.1227128260892581,-0.10876878335613324,-0.11641002352223896,-0.12039802683025828,-0.1076242157292552,-0.09710878496529096,-0.094324204584149,-0.08906457180125113,-0.09402523050936663,-0.07481168451542013,-0.0710868382288429,-0.07116364389769879,-0.06427325458576022,-0.07260898288460647,-0.05426794795884382,-0.055014324241720924,-0.052245710827874936,-0.06024125886252187,-0.02040083481247476,-0.016650440929578136,-0.010196958596232566,-0.005170464587903356,-0.010257552518822703,-0.008624534753262657,-0.00979028678133619,-0.02362275451709489,-0.018536290473846192,-0.014341769322096291,-0.011301388315560257,-0.02202625185128495,-0.03386249172508701,-0.020907925145738852,-0.034724040275993545,-0.028713681345292025,-0.03523767165301544,-0.03655196417471191,-0.04132046640627529,-0.04118329872337368,-0.03463325506973819,-0.023742262542680723,-0.012539101376304181,-0.005105908758164282,-0.04287056907653769,-0.046996469051809514,-0.056990581899458555,-0.05709237993444433,-0.043423526564161784,-0.05668253988116765,-0.04993325825810721,-0.05623768849656678,-0.06532875877970229,-0.050938915214452395,-0.05300352690636983,-0.05267908075138385,-0.047341371717980286,-0.04463502106616393,-0.03121354141434759,-0.027501299433888297,-0.014319353797085465,-0.013487803946713625,-0.019505572751964746,-0.013845508425298456,-0.01845191585451595,-0.016988333997737384,-0.02204443689900839,-0.010410084562695838,-0.0018689662424301555,-0.005063724824333451,-0.008861894800142623,0.0018745206633541574,0.0017960902396977553,-0.005566807011263964,0.010986822053313567,0.014561760090441262,0.033748544211980626,0.03081766939115551,0.020922806750366882,0.02382075808837343,0.0212077355107013,0.018794966053246445,0.013549079279015268,0.018523708135830323,0.0107869523893009,0.019154201709256753,0.01636636469711912,0.005752393486978695,-0.01451408145965738,-0.014102107065789578,-0.005564804604638755,-0.021801217060625447,-0.012043002688160352,-0.011055545613076529,-0.014285186005104094,-0.01259392445389703,-0.004137060853583466,0.0004826776983899699,-0.005887746927623512,-0.006461099200919375,-0.01637803383291707,-0.032762299698788744,-0.04198059314712853,-0.024093086452012056,-0.034837637139148545,-0.012608025505825217,-0.031966786824442615,-0.02862240603588746,-0.04447030363260761,-0.059106855258008975,-0.06410565476567169,-0.061190858353596174,-0.052200554264039724,-0.06320509367550221,-0.05176893173048196,-0.0406579822433637,-0.0384200398814826,-0.04328260000685014,-0.04441074125598361,-0.04680886855105493,-0.046238849992397156,-0.04719016316258813,-0.039783024085951885,-0.03160841686448691,-0.03077677614058079,-0.030588870928106495,-0.03138156842187956,-0.030647491613707112,-0.03125070889623283,-0.02847570733049923,-0.030709463509325536,-0.03712443407438077,-0.037045896366868745,-0.0206330561425499,-0.01739365935539061,-0.028923928361526078,-0.031378423094080926,-0.035831799340975405,-0.02780171702837242,-0.0288160657660285,-0.031358376530626016,-0.028707784736649308,-0.021862296253762358,-0.025686503859027855,-0.025854022822964083,-0.03632187246794453,-0.03562014749885673,-0.029954965844771024,-0.020936419411212166,-0.013797535021994416,-0.013529122300350024,-0.034476602596516956,-0.029670800178338893,-0.01230570480671326,-0.0024565011835251185,-0.014262926673321758,-0.001010961982922328,0.017920454779838866,0.021591960321999393,0.02633965690609536,0.0207947333033343,0.02363387264247216,0.0206455578821123,0.04674736531778503,0.047689707453636584,0.0803991031636929,0.09856571551863456,0.09762408605094991,0.0727921057422041,0.06799334266411644,0.07134307066108621,0.06240681740510523,0.05985427596190085,0.06021352601950108,0.06654957001077766,0.0740339101145563,0.08177164759044653,0.08319017755809119,0.060577226893627434,0.05618542880093379,0.05606187849516857,0.059412832941783685,0.06247028822283132,0.07875469587869141,0.08855073107612199,0.08754548536537866,0.09710957961314332,0.10002233428267213,0.10135170931195303,0.10179020797025327,0.10106413900375825,0.09934971721676343,0.10043416587520197,0.10071476154747944,0.10958520381314069,0.11489556337905027,0.11282280911666226,0.10731197143951882,0.09540199229322163,0.09903088502571206,0.0990711367604247,0.10366613965929591,0.0959861158309856,0.08639181239629569,0.10059383538700904,0.09564745228727145,0.10001090739683467,0.09132348791027022,0.07584020218628967,0.06998348756908407,0.07679113854962503,0.08011651060271431,0.08151813607222966,0.09111781359142734,0.0781063049503253,0.08331661017618158,0.08617782594854646,0.09434576387360194,0.09195600073216828,0.08188140581680971,0.08728940722179411,0.08908690721110532,0.08230208058966297,0.07644126890759141,0.08792963173272345,0.09538831624801351,0.09552030541700147,0.0951624494921276,0.10057014664203656,0.09167842436065278,0.08686312310903792,0.07954996910501654,0.08090122460233304,0.06419731957636134,0.06476337516113886,0.0665987126740247,0.04555258216676339,0.033359173016841034,0.018264577983918007,0.018228934494339512,0.008366425166559516,0.015092311375224316,0.014517323515478726,3.307076601232785e-05,-0.012431970994623785,-0.005478365079376057,0.005073723198130695,0.003355742351779748,-0.008887611787721562,-0.013666941641058111,-0.015945804592035005,-0.007329858742286557,-0.01809040903065526,-0.023166163031478282,-0.033995674282449984,-0.039413782805374185,-0.034616441166182295,-0.03613395831756057,-0.041156370335551626,-0.04308219213052245,-0.03848525720680479,-0.03496166491915881,-0.027131674543671817,-0.011002777220192661,-0.005305745831186945,-0.004780919406969756,-0.005428892536947461,-0.006573567459431398,-0.004352895376298088,-0.000548872970864389,-0.004509187218954734,0.01879999182983434,0.01948176920614449,0.018000533981325367,0.021017008559825988,0.024365527526856685,0.023045776046761647,0.026220342196397368,0.02434669732248187,0.01728233013339327,0.014320435200211487,0.0061308650135021864,0.017990613955957177,0.0281460948996541,0.01666376898210574,0.021339988900667614,0.022689720812588243,0.026476965406844875,0.03831351875253762,0.04424154851548451,0.044898957241714665,0.04862183126744827,0.04881278985394887,0.05010738812778777,0.05482040679170843,0.060903256052529,0.05313486125056441,0.05751374403360661,0.060050868158707235,0.05939203080666368,0.05878788124511495,0.0566998844972175,0.04968991805971585,0.04384162992853917,0.04539411092455924,0.04295031588551093,0.0488940440280381,0.05029882123969179,0.051410419032951835,0.04256404256481209,0.04497619294916691,0.037639112531288585,0.025576632301424068,0.029406214141466037,0.03521983984416905,0.0412010732104956,0.04524747707561805,0.05189957504646828,0.05481598192161289,0.05270490355870243,0.05460134147271826,0.05233308369878742,0.04775203990419228,0.05187350610335051,0.055416321613523986,0.06492184121194366,0.06637489970006356,0.0677039690508401,0.07098933506378165,0.07511296544245377,0.08141504230660504,0.06787346442581292,0.07272958098479876,0.08358222674943944,0.08334338928594147],\"yaxis\":\"y\",\"type\":\"scattergl\"}],                        {\"template\":{\"data\":{\"histogram2dcontour\":[{\"type\":\"histogram2dcontour\",\"colorbar\":{\"outlinewidth\":0,\"ticks\":\"\"},\"colorscale\":[[0.0,\"#0d0887\"],[0.1111111111111111,\"#46039f\"],[0.2222222222222222,\"#7201a8\"],[0.3333333333333333,\"#9c179e\"],[0.4444444444444444,\"#bd3786\"],[0.5555555555555556,\"#d8576b\"],[0.6666666666666666,\"#ed7953\"],[0.7777777777777778,\"#fb9f3a\"],[0.8888888888888888,\"#fdca26\"],[1.0,\"#f0f921\"]]}],\"choropleth\":[{\"type\":\"choropleth\",\"colorbar\":{\"outlinewidth\":0,\"ticks\":\"\"}}],\"histogram2d\":[{\"type\":\"histogram2d\",\"colorbar\":{\"outlinewidth\":0,\"ticks\":\"\"},\"colorscale\":[[0.0,\"#0d0887\"],[0.1111111111111111,\"#46039f\"],[0.2222222222222222,\"#7201a8\"],[0.3333333333333333,\"#9c179e\"],[0.4444444444444444,\"#bd3786\"],[0.5555555555555556,\"#d8576b\"],[0.6666666666666666,\"#ed7953\"],[0.7777777777777778,\"#fb9f3a\"],[0.8888888888888888,\"#fdca26\"],[1.0,\"#f0f921\"]]}],\"heatmap\":[{\"type\":\"heatmap\",\"colorbar\":{\"outlinewidth\":0,\"ticks\":\"\"},\"colorscale\":[[0.0,\"#0d0887\"],[0.1111111111111111,\"#46039f\"],[0.2222222222222222,\"#7201a8\"],[0.3333333333333333,\"#9c179e\"],[0.4444444444444444,\"#bd3786\"],[0.5555555555555556,\"#d8576b\"],[0.6666666666666666,\"#ed7953\"],[0.7777777777777778,\"#fb9f3a\"],[0.8888888888888888,\"#fdca26\"],[1.0,\"#f0f921\"]]}],\"heatmapgl\":[{\"type\":\"heatmapgl\",\"colorbar\":{\"outlinewidth\":0,\"ticks\":\"\"},\"colorscale\":[[0.0,\"#0d0887\"],[0.1111111111111111,\"#46039f\"],[0.2222222222222222,\"#7201a8\"],[0.3333333333333333,\"#9c179e\"],[0.4444444444444444,\"#bd3786\"],[0.5555555555555556,\"#d8576b\"],[0.6666666666666666,\"#ed7953\"],[0.7777777777777778,\"#fb9f3a\"],[0.8888888888888888,\"#fdca26\"],[1.0,\"#f0f921\"]]}],\"contourcarpet\":[{\"type\":\"contourcarpet\",\"colorbar\":{\"outlinewidth\":0,\"ticks\":\"\"}}],\"contour\":[{\"type\":\"contour\",\"colorbar\":{\"outlinewidth\":0,\"ticks\":\"\"},\"colorscale\":[[0.0,\"#0d0887\"],[0.1111111111111111,\"#46039f\"],[0.2222222222222222,\"#7201a8\"],[0.3333333333333333,\"#9c179e\"],[0.4444444444444444,\"#bd3786\"],[0.5555555555555556,\"#d8576b\"],[0.6666666666666666,\"#ed7953\"],[0.7777777777777778,\"#fb9f3a\"],[0.8888888888888888,\"#fdca26\"],[1.0,\"#f0f921\"]]}],\"surface\":[{\"type\":\"surface\",\"colorbar\":{\"outlinewidth\":0,\"ticks\":\"\"},\"colorscale\":[[0.0,\"#0d0887\"],[0.1111111111111111,\"#46039f\"],[0.2222222222222222,\"#7201a8\"],[0.3333333333333333,\"#9c179e\"],[0.4444444444444444,\"#bd3786\"],[0.5555555555555556,\"#d8576b\"],[0.6666666666666666,\"#ed7953\"],[0.7777777777777778,\"#fb9f3a\"],[0.8888888888888888,\"#fdca26\"],[1.0,\"#f0f921\"]]}],\"mesh3d\":[{\"type\":\"mesh3d\",\"colorbar\":{\"outlinewidth\":0,\"ticks\":\"\"}}],\"scatter\":[{\"marker\":{\"line\":{\"color\":\"#283442\"}},\"type\":\"scatter\"}],\"parcoords\":[{\"type\":\"parcoords\",\"line\":{\"colorbar\":{\"outlinewidth\":0,\"ticks\":\"\"}}}],\"scatterpolargl\":[{\"type\":\"scatterpolargl\",\"marker\":{\"colorbar\":{\"outlinewidth\":0,\"ticks\":\"\"}}}],\"bar\":[{\"error_x\":{\"color\":\"#f2f5fa\"},\"error_y\":{\"color\":\"#f2f5fa\"},\"marker\":{\"line\":{\"color\":\"rgb(17,17,17)\",\"width\":0.5},\"pattern\":{\"fillmode\":\"overlay\",\"size\":10,\"solidity\":0.2}},\"type\":\"bar\"}],\"scattergeo\":[{\"type\":\"scattergeo\",\"marker\":{\"colorbar\":{\"outlinewidth\":0,\"ticks\":\"\"}}}],\"scatterpolar\":[{\"type\":\"scatterpolar\",\"marker\":{\"colorbar\":{\"outlinewidth\":0,\"ticks\":\"\"}}}],\"histogram\":[{\"marker\":{\"pattern\":{\"fillmode\":\"overlay\",\"size\":10,\"solidity\":0.2}},\"type\":\"histogram\"}],\"scattergl\":[{\"marker\":{\"line\":{\"color\":\"#283442\"}},\"type\":\"scattergl\"}],\"scatter3d\":[{\"type\":\"scatter3d\",\"line\":{\"colorbar\":{\"outlinewidth\":0,\"ticks\":\"\"}},\"marker\":{\"colorbar\":{\"outlinewidth\":0,\"ticks\":\"\"}}}],\"scattermapbox\":[{\"type\":\"scattermapbox\",\"marker\":{\"colorbar\":{\"outlinewidth\":0,\"ticks\":\"\"}}}],\"scatterternary\":[{\"type\":\"scatterternary\",\"marker\":{\"colorbar\":{\"outlinewidth\":0,\"ticks\":\"\"}}}],\"scattercarpet\":[{\"type\":\"scattercarpet\",\"marker\":{\"colorbar\":{\"outlinewidth\":0,\"ticks\":\"\"}}}],\"carpet\":[{\"aaxis\":{\"endlinecolor\":\"#A2B1C6\",\"gridcolor\":\"#506784\",\"linecolor\":\"#506784\",\"minorgridcolor\":\"#506784\",\"startlinecolor\":\"#A2B1C6\"},\"baxis\":{\"endlinecolor\":\"#A2B1C6\",\"gridcolor\":\"#506784\",\"linecolor\":\"#506784\",\"minorgridcolor\":\"#506784\",\"startlinecolor\":\"#A2B1C6\"},\"type\":\"carpet\"}],\"table\":[{\"cells\":{\"fill\":{\"color\":\"#506784\"},\"line\":{\"color\":\"rgb(17,17,17)\"}},\"header\":{\"fill\":{\"color\":\"#2a3f5f\"},\"line\":{\"color\":\"rgb(17,17,17)\"}},\"type\":\"table\"}],\"barpolar\":[{\"marker\":{\"line\":{\"color\":\"rgb(17,17,17)\",\"width\":0.5},\"pattern\":{\"fillmode\":\"overlay\",\"size\":10,\"solidity\":0.2}},\"type\":\"barpolar\"}],\"pie\":[{\"automargin\":true,\"type\":\"pie\"}]},\"layout\":{\"autotypenumbers\":\"strict\",\"colorway\":[\"#636efa\",\"#EF553B\",\"#00cc96\",\"#ab63fa\",\"#FFA15A\",\"#19d3f3\",\"#FF6692\",\"#B6E880\",\"#FF97FF\",\"#FECB52\"],\"font\":{\"color\":\"#f2f5fa\"},\"hovermode\":\"closest\",\"hoverlabel\":{\"align\":\"left\"},\"paper_bgcolor\":\"rgb(17,17,17)\",\"plot_bgcolor\":\"rgb(17,17,17)\",\"polar\":{\"bgcolor\":\"rgb(17,17,17)\",\"angularaxis\":{\"gridcolor\":\"#506784\",\"linecolor\":\"#506784\",\"ticks\":\"\"},\"radialaxis\":{\"gridcolor\":\"#506784\",\"linecolor\":\"#506784\",\"ticks\":\"\"}},\"ternary\":{\"bgcolor\":\"rgb(17,17,17)\",\"aaxis\":{\"gridcolor\":\"#506784\",\"linecolor\":\"#506784\",\"ticks\":\"\"},\"baxis\":{\"gridcolor\":\"#506784\",\"linecolor\":\"#506784\",\"ticks\":\"\"},\"caxis\":{\"gridcolor\":\"#506784\",\"linecolor\":\"#506784\",\"ticks\":\"\"}},\"coloraxis\":{\"colorbar\":{\"outlinewidth\":0,\"ticks\":\"\"}},\"colorscale\":{\"sequential\":[[0.0,\"#0d0887\"],[0.1111111111111111,\"#46039f\"],[0.2222222222222222,\"#7201a8\"],[0.3333333333333333,\"#9c179e\"],[0.4444444444444444,\"#bd3786\"],[0.5555555555555556,\"#d8576b\"],[0.6666666666666666,\"#ed7953\"],[0.7777777777777778,\"#fb9f3a\"],[0.8888888888888888,\"#fdca26\"],[1.0,\"#f0f921\"]],\"sequentialminus\":[[0.0,\"#0d0887\"],[0.1111111111111111,\"#46039f\"],[0.2222222222222222,\"#7201a8\"],[0.3333333333333333,\"#9c179e\"],[0.4444444444444444,\"#bd3786\"],[0.5555555555555556,\"#d8576b\"],[0.6666666666666666,\"#ed7953\"],[0.7777777777777778,\"#fb9f3a\"],[0.8888888888888888,\"#fdca26\"],[1.0,\"#f0f921\"]],\"diverging\":[[0,\"#8e0152\"],[0.1,\"#c51b7d\"],[0.2,\"#de77ae\"],[0.3,\"#f1b6da\"],[0.4,\"#fde0ef\"],[0.5,\"#f7f7f7\"],[0.6,\"#e6f5d0\"],[0.7,\"#b8e186\"],[0.8,\"#7fbc41\"],[0.9,\"#4d9221\"],[1,\"#276419\"]]},\"xaxis\":{\"gridcolor\":\"#283442\",\"linecolor\":\"#506784\",\"ticks\":\"\",\"title\":{\"standoff\":15},\"zerolinecolor\":\"#283442\",\"automargin\":true,\"zerolinewidth\":2},\"yaxis\":{\"gridcolor\":\"#283442\",\"linecolor\":\"#506784\",\"ticks\":\"\",\"title\":{\"standoff\":15},\"zerolinecolor\":\"#283442\",\"automargin\":true,\"zerolinewidth\":2},\"scene\":{\"xaxis\":{\"backgroundcolor\":\"rgb(17,17,17)\",\"gridcolor\":\"#506784\",\"linecolor\":\"#506784\",\"showbackground\":true,\"ticks\":\"\",\"zerolinecolor\":\"#C8D4E3\",\"gridwidth\":2},\"yaxis\":{\"backgroundcolor\":\"rgb(17,17,17)\",\"gridcolor\":\"#506784\",\"linecolor\":\"#506784\",\"showbackground\":true,\"ticks\":\"\",\"zerolinecolor\":\"#C8D4E3\",\"gridwidth\":2},\"zaxis\":{\"backgroundcolor\":\"rgb(17,17,17)\",\"gridcolor\":\"#506784\",\"linecolor\":\"#506784\",\"showbackground\":true,\"ticks\":\"\",\"zerolinecolor\":\"#C8D4E3\",\"gridwidth\":2}},\"shapedefaults\":{\"line\":{\"color\":\"#f2f5fa\"}},\"annotationdefaults\":{\"arrowcolor\":\"#f2f5fa\",\"arrowhead\":0,\"arrowwidth\":1},\"geo\":{\"bgcolor\":\"rgb(17,17,17)\",\"landcolor\":\"rgb(17,17,17)\",\"subunitcolor\":\"#506784\",\"showland\":true,\"showlakes\":true,\"lakecolor\":\"rgb(17,17,17)\"},\"title\":{\"x\":0.05},\"updatemenudefaults\":{\"bgcolor\":\"#506784\",\"borderwidth\":0},\"sliderdefaults\":{\"bgcolor\":\"#C8D4E3\",\"borderwidth\":1,\"bordercolor\":\"rgb(17,17,17)\",\"tickwidth\":0},\"mapbox\":{\"style\":\"dark\"}}},\"xaxis\":{\"anchor\":\"y\",\"domain\":[0.0,1.0],\"title\":{\"text\":\"Observations\"}},\"yaxis\":{\"anchor\":\"x\",\"domain\":[0.0,1.0],\"title\":{\"text\":\"Cumulative Returns\"},\"tickformat\":\".2%\"},\"legend\":{\"title\":{\"text\":\"Portfolios\"},\"tracegroupgap\":0},\"margin\":{\"t\":60},\"title\":{\"text\":\"Cumulative Returns (non-compounded)\"}},                        {\"responsive\": true}                    ).then(function(){\n                            \nvar gd = document.getElementById('7e1ac700-730e-4ece-b63e-66b71dccae89');\nvar x = new MutationObserver(function (mutations, observer) {{\n        var display = window.getComputedStyle(gd).display;\n        if (!display || display === 'none') {{\n            console.log([gd, 'removed!']);\n            Plotly.purge(gd);\n            observer.disconnect();\n        }}\n}});\n\n// Listen for the removal of the full notebook cells\nvar notebookContainer = gd.closest('#notebook-container');\nif (notebookContainer) {{\n    x.observe(notebookContainer, {childList: true});\n}}\n\n// Listen for the clearing of the current output cell\nvar outputEl = gd.closest('.output');\nif (outputEl) {{\n    x.observe(outputEl, {childList: true});\n}}\n\n                        })                };                });            </script>        </div>"
     },
     "metadata": {},
     "output_type": "display_data"
    }
   ],
   "source": [
    "population.plot_cumulative_returns()"
   ],
   "metadata": {
    "collapsed": false,
    "ExecuteTime": {
     "end_time": "2024-02-17T16:15:05.233708500Z",
     "start_time": "2024-02-17T16:15:05.137452300Z"
    }
   },
   "id": "c89aaa32885c1267",
   "execution_count": 119
  },
  {
   "cell_type": "code",
   "outputs": [
    {
     "data": {
      "text/plain": "                                   MaximumDiversification      EqualWeighted  \\\nMean                                              0.0052%             0.011%   \nAnnualized Mean                                     1.32%              2.69%   \nVariance                                          0.0093%            0.0095%   \nAnnualized Variance                                 2.33%              2.40%   \nSemi-Variance                                     0.0050%            0.0051%   \nAnnualized Semi-Variance                            1.26%              1.28%   \nStandard Deviation                                  0.96%              0.98%   \nAnnualized Standard Deviation                      15.28%             15.50%   \nSemi-Deviation                                      0.71%              0.71%   \nAnnualized Semi-Deviation                          11.24%             11.32%   \nMean Absolute Deviation                             0.69%              0.70%   \nCVaR at 95%                                         2.36%              2.37%   \nEVaR at 95%                                         3.15%              2.99%   \nWorst Realization                                   4.55%              4.10%   \nCDaR at 95%                                        21.71%             19.47%   \nMAX Drawdown                                       23.61%             21.19%   \nAverage Drawdown                                    8.29%              7.62%   \nEDaR at 95%                                        22.22%             20.03%   \nFirst Lower Partial Moment                          0.34%              0.35%   \nUlcer Index                                          0.10              0.092   \nGini Mean Difference                                1.03%              1.05%   \nValue at Risk at 95%                                1.60%              1.56%   \nDrawdown at Risk at 95%                            20.02%             17.88%   \nEntropic Risk Measure at 95%                         3.00               3.00   \nFourth Central Moment                           0.000005%          0.000005%   \nFourth Lower Partial Moment                     0.000003%          0.000003%   \nSkew                                                -0.37              -0.29   \nKurtosis                                             5.54               5.06   \nSharpe Ratio                                       0.0054              0.011   \nAnnualized Sharpe Ratio                             0.086               0.17   \nSortino Ratio                                      0.0074              0.015   \nAnnualized Sortino Ratio                             0.12               0.24   \nMean Absolute Deviation Ratio                      0.0076              0.015   \nFirst Lower Partial Moment Ratio                    0.015              0.030   \nValue at Risk Ratio at 95%                         0.0033             0.0068   \nCVaR Ratio at 95%                                  0.0022             0.0045   \nEntropic Risk Measure Ratio at 95%               0.000017           0.000036   \nEVaR Ratio at 95%                                  0.0017             0.0036   \nWorst Realization Ratio                            0.0011             0.0026   \nDrawdown at Risk Ratio at 95%                     0.00026            0.00060   \nCDaR Ratio at 95%                                 0.00024            0.00055   \nCalmar Ratio                                      0.00022            0.00050   \nAverage Drawdown Ratio                            0.00063             0.0014   \nEDaR Ratio at 95%                                 0.00024            0.00053   \nUlcer Index Ratio                                 0.00052             0.0012   \nGini Mean Difference Ratio                         0.0051              0.010   \nEffective Number of Assets             3.2052534184689287  4.999999999999999   \nAssets Number                                           5                  5   \n\n                                               Random  \nMean                                           0.018%  \nAnnualized Mean                                 4.66%  \nVariance                                       0.011%  \nAnnualized Variance                             2.89%  \nSemi-Variance                                 0.0060%  \nAnnualized Semi-Variance                        1.51%  \nStandard Deviation                              1.07%  \nAnnualized Standard Deviation                  17.01%  \nSemi-Deviation                                  0.77%  \nAnnualized Semi-Deviation                      12.28%  \nMean Absolute Deviation                         0.79%  \nCVaR at 95%                                     2.50%  \nEVaR at 95%                                     3.05%  \nWorst Realization                               3.83%  \nCDaR at 95%                                    18.37%  \nMAX Drawdown                                   20.30%  \nAverage Drawdown                                7.48%  \nEDaR at 95%                                    18.94%  \nFirst Lower Partial Moment                      0.39%  \nUlcer Index                                     0.091  \nGini Mean Difference                            1.16%  \nValue at Risk at 95%                            1.67%  \nDrawdown at Risk at 95%                        16.98%  \nEntropic Risk Measure at 95%                     3.00  \nFourth Central Moment                       0.000006%  \nFourth Lower Partial Moment                 0.000003%  \nSkew                                            -0.16  \nKurtosis                                         4.52  \nSharpe Ratio                                    0.017  \nAnnualized Sharpe Ratio                          0.27  \nSortino Ratio                                   0.024  \nAnnualized Sortino Ratio                         0.38  \nMean Absolute Deviation Ratio                   0.024  \nFirst Lower Partial Moment Ratio                0.047  \nValue at Risk Ratio at 95%                      0.011  \nCVaR Ratio at 95%                              0.0074  \nEntropic Risk Measure Ratio at 95%           0.000062  \nEVaR Ratio at 95%                              0.0061  \nWorst Realization Ratio                        0.0048  \nDrawdown at Risk Ratio at 95%                  0.0011  \nCDaR Ratio at 95%                              0.0010  \nCalmar Ratio                                  0.00091  \nAverage Drawdown Ratio                         0.0025  \nEDaR Ratio at 95%                             0.00098  \nUlcer Index Ratio                              0.0020  \nGini Mean Difference Ratio                      0.016  \nEffective Number of Assets          4.112552122124298  \nAssets Number                                       5  ",
      "text/html": "<div>\n<style scoped>\n    .dataframe tbody tr th:only-of-type {\n        vertical-align: middle;\n    }\n\n    .dataframe tbody tr th {\n        vertical-align: top;\n    }\n\n    .dataframe thead th {\n        text-align: right;\n    }\n</style>\n<table border=\"1\" class=\"dataframe\">\n  <thead>\n    <tr style=\"text-align: right;\">\n      <th></th>\n      <th>MaximumDiversification</th>\n      <th>EqualWeighted</th>\n      <th>Random</th>\n    </tr>\n  </thead>\n  <tbody>\n    <tr>\n      <th>Mean</th>\n      <td>0.0052%</td>\n      <td>0.011%</td>\n      <td>0.018%</td>\n    </tr>\n    <tr>\n      <th>Annualized Mean</th>\n      <td>1.32%</td>\n      <td>2.69%</td>\n      <td>4.66%</td>\n    </tr>\n    <tr>\n      <th>Variance</th>\n      <td>0.0093%</td>\n      <td>0.0095%</td>\n      <td>0.011%</td>\n    </tr>\n    <tr>\n      <th>Annualized Variance</th>\n      <td>2.33%</td>\n      <td>2.40%</td>\n      <td>2.89%</td>\n    </tr>\n    <tr>\n      <th>Semi-Variance</th>\n      <td>0.0050%</td>\n      <td>0.0051%</td>\n      <td>0.0060%</td>\n    </tr>\n    <tr>\n      <th>Annualized Semi-Variance</th>\n      <td>1.26%</td>\n      <td>1.28%</td>\n      <td>1.51%</td>\n    </tr>\n    <tr>\n      <th>Standard Deviation</th>\n      <td>0.96%</td>\n      <td>0.98%</td>\n      <td>1.07%</td>\n    </tr>\n    <tr>\n      <th>Annualized Standard Deviation</th>\n      <td>15.28%</td>\n      <td>15.50%</td>\n      <td>17.01%</td>\n    </tr>\n    <tr>\n      <th>Semi-Deviation</th>\n      <td>0.71%</td>\n      <td>0.71%</td>\n      <td>0.77%</td>\n    </tr>\n    <tr>\n      <th>Annualized Semi-Deviation</th>\n      <td>11.24%</td>\n      <td>11.32%</td>\n      <td>12.28%</td>\n    </tr>\n    <tr>\n      <th>Mean Absolute Deviation</th>\n      <td>0.69%</td>\n      <td>0.70%</td>\n      <td>0.79%</td>\n    </tr>\n    <tr>\n      <th>CVaR at 95%</th>\n      <td>2.36%</td>\n      <td>2.37%</td>\n      <td>2.50%</td>\n    </tr>\n    <tr>\n      <th>EVaR at 95%</th>\n      <td>3.15%</td>\n      <td>2.99%</td>\n      <td>3.05%</td>\n    </tr>\n    <tr>\n      <th>Worst Realization</th>\n      <td>4.55%</td>\n      <td>4.10%</td>\n      <td>3.83%</td>\n    </tr>\n    <tr>\n      <th>CDaR at 95%</th>\n      <td>21.71%</td>\n      <td>19.47%</td>\n      <td>18.37%</td>\n    </tr>\n    <tr>\n      <th>MAX Drawdown</th>\n      <td>23.61%</td>\n      <td>21.19%</td>\n      <td>20.30%</td>\n    </tr>\n    <tr>\n      <th>Average Drawdown</th>\n      <td>8.29%</td>\n      <td>7.62%</td>\n      <td>7.48%</td>\n    </tr>\n    <tr>\n      <th>EDaR at 95%</th>\n      <td>22.22%</td>\n      <td>20.03%</td>\n      <td>18.94%</td>\n    </tr>\n    <tr>\n      <th>First Lower Partial Moment</th>\n      <td>0.34%</td>\n      <td>0.35%</td>\n      <td>0.39%</td>\n    </tr>\n    <tr>\n      <th>Ulcer Index</th>\n      <td>0.10</td>\n      <td>0.092</td>\n      <td>0.091</td>\n    </tr>\n    <tr>\n      <th>Gini Mean Difference</th>\n      <td>1.03%</td>\n      <td>1.05%</td>\n      <td>1.16%</td>\n    </tr>\n    <tr>\n      <th>Value at Risk at 95%</th>\n      <td>1.60%</td>\n      <td>1.56%</td>\n      <td>1.67%</td>\n    </tr>\n    <tr>\n      <th>Drawdown at Risk at 95%</th>\n      <td>20.02%</td>\n      <td>17.88%</td>\n      <td>16.98%</td>\n    </tr>\n    <tr>\n      <th>Entropic Risk Measure at 95%</th>\n      <td>3.00</td>\n      <td>3.00</td>\n      <td>3.00</td>\n    </tr>\n    <tr>\n      <th>Fourth Central Moment</th>\n      <td>0.000005%</td>\n      <td>0.000005%</td>\n      <td>0.000006%</td>\n    </tr>\n    <tr>\n      <th>Fourth Lower Partial Moment</th>\n      <td>0.000003%</td>\n      <td>0.000003%</td>\n      <td>0.000003%</td>\n    </tr>\n    <tr>\n      <th>Skew</th>\n      <td>-0.37</td>\n      <td>-0.29</td>\n      <td>-0.16</td>\n    </tr>\n    <tr>\n      <th>Kurtosis</th>\n      <td>5.54</td>\n      <td>5.06</td>\n      <td>4.52</td>\n    </tr>\n    <tr>\n      <th>Sharpe Ratio</th>\n      <td>0.0054</td>\n      <td>0.011</td>\n      <td>0.017</td>\n    </tr>\n    <tr>\n      <th>Annualized Sharpe Ratio</th>\n      <td>0.086</td>\n      <td>0.17</td>\n      <td>0.27</td>\n    </tr>\n    <tr>\n      <th>Sortino Ratio</th>\n      <td>0.0074</td>\n      <td>0.015</td>\n      <td>0.024</td>\n    </tr>\n    <tr>\n      <th>Annualized Sortino Ratio</th>\n      <td>0.12</td>\n      <td>0.24</td>\n      <td>0.38</td>\n    </tr>\n    <tr>\n      <th>Mean Absolute Deviation Ratio</th>\n      <td>0.0076</td>\n      <td>0.015</td>\n      <td>0.024</td>\n    </tr>\n    <tr>\n      <th>First Lower Partial Moment Ratio</th>\n      <td>0.015</td>\n      <td>0.030</td>\n      <td>0.047</td>\n    </tr>\n    <tr>\n      <th>Value at Risk Ratio at 95%</th>\n      <td>0.0033</td>\n      <td>0.0068</td>\n      <td>0.011</td>\n    </tr>\n    <tr>\n      <th>CVaR Ratio at 95%</th>\n      <td>0.0022</td>\n      <td>0.0045</td>\n      <td>0.0074</td>\n    </tr>\n    <tr>\n      <th>Entropic Risk Measure Ratio at 95%</th>\n      <td>0.000017</td>\n      <td>0.000036</td>\n      <td>0.000062</td>\n    </tr>\n    <tr>\n      <th>EVaR Ratio at 95%</th>\n      <td>0.0017</td>\n      <td>0.0036</td>\n      <td>0.0061</td>\n    </tr>\n    <tr>\n      <th>Worst Realization Ratio</th>\n      <td>0.0011</td>\n      <td>0.0026</td>\n      <td>0.0048</td>\n    </tr>\n    <tr>\n      <th>Drawdown at Risk Ratio at 95%</th>\n      <td>0.00026</td>\n      <td>0.00060</td>\n      <td>0.0011</td>\n    </tr>\n    <tr>\n      <th>CDaR Ratio at 95%</th>\n      <td>0.00024</td>\n      <td>0.00055</td>\n      <td>0.0010</td>\n    </tr>\n    <tr>\n      <th>Calmar Ratio</th>\n      <td>0.00022</td>\n      <td>0.00050</td>\n      <td>0.00091</td>\n    </tr>\n    <tr>\n      <th>Average Drawdown Ratio</th>\n      <td>0.00063</td>\n      <td>0.0014</td>\n      <td>0.0025</td>\n    </tr>\n    <tr>\n      <th>EDaR Ratio at 95%</th>\n      <td>0.00024</td>\n      <td>0.00053</td>\n      <td>0.00098</td>\n    </tr>\n    <tr>\n      <th>Ulcer Index Ratio</th>\n      <td>0.00052</td>\n      <td>0.0012</td>\n      <td>0.0020</td>\n    </tr>\n    <tr>\n      <th>Gini Mean Difference Ratio</th>\n      <td>0.0051</td>\n      <td>0.010</td>\n      <td>0.016</td>\n    </tr>\n    <tr>\n      <th>Effective Number of Assets</th>\n      <td>3.2052534184689287</td>\n      <td>4.999999999999999</td>\n      <td>4.112552122124298</td>\n    </tr>\n    <tr>\n      <th>Assets Number</th>\n      <td>5</td>\n      <td>5</td>\n      <td>5</td>\n    </tr>\n  </tbody>\n</table>\n</div>"
     },
     "execution_count": 120,
     "metadata": {},
     "output_type": "execute_result"
    }
   ],
   "source": [
    "population.summary()"
   ],
   "metadata": {
    "collapsed": false,
    "ExecuteTime": {
     "end_time": "2024-02-17T16:15:05.234708600Z",
     "start_time": "2024-02-17T16:15:05.171662600Z"
    }
   },
   "id": "930fe7fa9a725b1b",
   "execution_count": 120
  }
 ],
 "metadata": {
  "kernelspec": {
   "display_name": "Python 3",
   "language": "python",
   "name": "python3"
  },
  "language_info": {
   "codemirror_mode": {
    "name": "ipython",
    "version": 2
   },
   "file_extension": ".py",
   "mimetype": "text/x-python",
   "name": "python",
   "nbconvert_exporter": "python",
   "pygments_lexer": "ipython2",
   "version": "2.7.6"
  }
 },
 "nbformat": 4,
 "nbformat_minor": 5
}
