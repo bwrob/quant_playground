{
 "cells": [
  {
   "cell_type": "code",
   "execution_count": null,
   "id": "initial_id",
   "metadata": {
    "collapsed": true
   },
   "outputs": [],
   "source": [
    "import numpy as np\n",
    "import pandas as pd\n",
    "\n",
    "from openbb import obb\n",
    "from pprint import pprint\n",
    "from sklearn.decomposition import PCA\n",
    "\n",
    "np.set_printoptions(precision=2, suppress=True)"
   ]
  },
  {
   "cell_type": "code",
   "outputs": [],
   "source": [
    "obb.fixedincome.government.us_yield_curve(\n",
    "    start_date=\"2023-01-01\", end_date=\"2023-12-01\"\n",
    ")"
   ],
   "metadata": {
    "collapsed": false
   },
   "id": "c1c77b0843dee292",
   "execution_count": null
  },
  {
   "cell_type": "code",
   "outputs": [],
   "source": [
    "rates = (\n",
    "    obb.fixedincome.government.treasury_rates(start_date=\"2020-01-01\")\n",
    "    .to_df()\n",
    "    .dropna()\n",
    "    .div(100)\n",
    ")\n",
    "\n",
    "obb.fixedincome.government.treasury_rates(start_date=\"2020-01-01\")\n",
    "rates"
   ],
   "metadata": {
    "collapsed": false
   },
   "id": "94217ef929477413",
   "execution_count": null
  },
  {
   "cell_type": "code",
   "outputs": [],
   "source": [
    "covariance_matrix = rates.cov()\n",
    "covariance_matrix"
   ],
   "metadata": {
    "collapsed": false
   },
   "id": "c510c0aec6df71a",
   "execution_count": null
  },
  {
   "cell_type": "code",
   "outputs": [],
   "source": [
    "eigenvalues, eigenvectors = np.linalg.eig(covariance_matrix)\n",
    "lambda_sqrt = np.sqrt(eigenvalues)\n",
    "eigv_decom = np.diag(eigenvalues)\n",
    "\n",
    "print(eigenvalues, eigenvectors, lambda_sqrt, eigv_decom, sep=\"\\n\")"
   ],
   "metadata": {
    "collapsed": false
   },
   "id": "7f0af5ec3077687e",
   "execution_count": null
  },
  {
   "cell_type": "code",
   "outputs": [],
   "source": [
    "B = eigv_decom @ eigenvectors.T\n",
    "B = pd.DataFrame(\n",
    "    data=B[:4] * 100, index=[\"wiggle\", \"flex\", \"twist\", \"shift\"], columns=rates.columns\n",
    ")\n",
    "pprint(B)"
   ],
   "metadata": {
    "collapsed": false
   },
   "id": "ec4037019b798e2",
   "execution_count": null
  },
  {
   "cell_type": "code",
   "outputs": [],
   "source": [
    "pca = PCA(n_components=4)\n",
    "pca.fit(rates)\n",
    "pct = pca.explained_variance_ratio_\n",
    "pca_components = pca.components_\n",
    "pca_components"
   ],
   "metadata": {
    "collapsed": false
   },
   "id": "af14075823d27210",
   "execution_count": null
  },
  {
   "cell_type": "code",
   "outputs": [],
   "source": [
    "random_shocks = np.random.normal(0, 1, size=(4,))\n",
    "random_shocks @ B"
   ],
   "metadata": {
    "collapsed": false
   },
   "id": "8e64d76ab41ee2fc",
   "execution_count": null
  },
  {
   "cell_type": "code",
   "outputs": [],
   "source": [],
   "metadata": {
    "collapsed": false
   },
   "id": "5340d381a20f6ad5",
   "execution_count": null
  }
 ],
 "metadata": {
  "kernelspec": {
   "display_name": "Python 3",
   "language": "python",
   "name": "python3"
  },
  "language_info": {
   "codemirror_mode": {
    "name": "ipython",
    "version": 2
   },
   "file_extension": ".py",
   "mimetype": "text/x-python",
   "name": "python",
   "nbconvert_exporter": "python",
   "pygments_lexer": "ipython2",
   "version": "2.7.6"
  }
 },
 "nbformat": 4,
 "nbformat_minor": 5
}
