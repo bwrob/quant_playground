{
 "cells": [
  {
   "cell_type": "code",
   "execution_count": null,
   "id": "4542f34b4a21e5ff",
   "metadata": {
    "collapsed": false
   },
   "outputs": [],
   "source": [
    "import requests\n",
    "from io import BytesIO\n",
    "from zipfile import ZipFile, BadZipFile\n",
    "from pathlib import Path\n",
    "from tqdm import tqdm\n",
    "import pandas as pd\n",
    "from openbb import obb"
   ]
  },
  {
   "cell_type": "code",
   "outputs": [],
   "source": [
    "# Set the URLs to Edgar's data repository\n",
    "SEC_URL = \"https://www.sec.gov/\"\n",
    "FSN_PATH = \"files/dera/data/financial-statement-and-notes-data-sets/\"\n",
    "DATA_PATH = Path(\"edgar\")\n",
    "user_agent = \"Mozilla/5.0 (Macintosh; Intel Mac OS X 10_15_7) AppleWebKit/537.36 (KHTML, like Gecko) Chrome/121.0.0.0 Safari/537.36\""
   ],
   "metadata": {
    "collapsed": true
   },
   "id": "initial_id",
   "execution_count": null
  },
  {
   "cell_type": "markdown",
   "source": [
    "https://superfastpython.com/python-async-requests/"
   ],
   "metadata": {
    "collapsed": false
   },
   "id": "4c799fc63c3ebe80"
  },
  {
   "cell_type": "code",
   "outputs": [],
   "source": [
    "filing_periods = [\n",
    "    (d.year, d.quarter) for d in pd.date_range(\"2015\", \"2015-12-31\", freq=\"QE\")\n",
    "]\n",
    "filing_periods"
   ],
   "metadata": {
    "collapsed": false
   },
   "id": "19ddca8b23a0c767",
   "execution_count": null
  },
  {
   "cell_type": "code",
   "outputs": [],
   "source": [
    "for yr, qtr in tqdm(filing_periods):\n",
    "    path = DATA_PATH / f\"{yr}_{qtr}\" / \"source\"\n",
    "    if not path.exists():\n",
    "        path.mkdir(parents=True)\n",
    "    filing = f\"{yr}q{qtr}_notes.zip\"\n",
    "    url = f\"{SEC_URL}{FSN_PATH}{filing}\"\n",
    "    response = requests.get(url, headers={\"User-Agent\": user_agent}).content\n",
    "    with ZipFile(BytesIO(response)) as zip_file:\n",
    "        for file in zip_file.namelist():\n",
    "            local_file = path / file\n",
    "            if local_file.exists():\n",
    "                continue\n",
    "            with local_file.open(\"wb\") as output:\n",
    "                for line in zip_file.open(file).readlines():\n",
    "                    output.write(line)"
   ],
   "metadata": {
    "collapsed": false
   },
   "id": "bf899c1e7ae1692",
   "execution_count": null
  },
  {
   "cell_type": "code",
   "outputs": [],
   "source": [
    "for f in tqdm(sorted(list(DATA_PATH.glob(\"**/*.tsv\")))):\n",
    "    parquet_path = f.parent.parent / \"parquet\"\n",
    "    if not parquet_path.exists():\n",
    "        parquet_path.mkdir(parents=True)\n",
    "    file_name = f.stem + \".parquet\"\n",
    "    if not (parquet_path / file_name).exists():\n",
    "        df = pd.read_csv(\n",
    "            f, sep=\"\\t\", encoding=\"latin1\", low_memory=False, on_bad_lines=\"skip\"\n",
    "        )\n",
    "        df.to_parquet(parquet_path / file_name)\n",
    "        f.unlink()"
   ],
   "metadata": {
    "collapsed": false
   },
   "id": "10a2d931e13d4b3f",
   "execution_count": null
  },
  {
   "cell_type": "code",
   "outputs": [],
   "source": [
    "sub = pd.read_parquet(DATA_PATH / \"2015_3\" / \"parquet\" / \"sub.parquet\")\n",
    "name = \"APPLE INC\"\n",
    "cik = sub[sub.name == name].T.dropna().squeeze().cik\n",
    "aapl_subs = pd.DataFrame()\n",
    "for sub in DATA_PATH.glob(\"**/sub.parquet\"):\n",
    "    sub = pd.read_parquet(sub)\n",
    "    aapl_sub = sub[(sub.cik.astype(int) == cik) & (sub.form.isin([\"10-Q\", \"10-K\"]))]\n",
    "    aapl_subs = pd.concat([aapl_subs, aapl_sub])"
   ],
   "metadata": {
    "collapsed": false
   },
   "id": "7a1c75cfcff3c4aa",
   "execution_count": null
  },
  {
   "cell_type": "code",
   "outputs": [],
   "source": [
    "aapl_nums = pd.DataFrame()\n",
    "for num in DATA_PATH.glob(\"**/num.parquet\"):\n",
    "    num = pd.read_parquet(num).drop(\"dimh\", axis=1)\n",
    "    aapl_num = num[num.adsh.isin(aapl_subs.adsh)]\n",
    "    aapl_nums = pd.concat([aapl_nums, aapl_num])\n",
    "aapl_nums.ddate = pd.to_datetime(aapl_nums.ddate, format=\"%Y%m%d\")\n",
    "aapl_nums.to_parquet(DATA_PATH / \"aapl_nums.parquet\")"
   ],
   "metadata": {
    "collapsed": false
   },
   "id": "da307f3c256323f1",
   "execution_count": null
  },
  {
   "cell_type": "code",
   "outputs": [],
   "source": [],
   "metadata": {
    "collapsed": false
   },
   "id": "8b26ef23adff6f7a",
   "execution_count": null
  },
  {
   "cell_type": "code",
   "outputs": [],
   "source": [
    "eps = aapl_nums[\n",
    "    (aapl_nums.tag == \"EarningsPerShareDiluted\") & (aapl_nums.qtrs == 1)\n",
    "].drop(\"tag\", axis=1)\n",
    "eps = eps.groupby(\"adsh\").apply(\n",
    "    lambda x: x.nlargest(n=1, columns=[\"ddate\"]), include_groups=False\n",
    ")\n",
    "eps = eps[[\"ddate\", \"value\"]].set_index(\"ddate\").squeeze().sort_index()\n",
    "ax = eps.plot.bar()\n",
    "ax.set_xticklabels(eps.index.to_period(\"Q\"));"
   ],
   "metadata": {
    "collapsed": false
   },
   "id": "117d9746f6833628",
   "execution_count": null
  },
  {
   "cell_type": "code",
   "outputs": [],
   "source": [
    "aapl = (\n",
    "    obb.equity.price.historical(\n",
    "        \"AAPL\", start_date=\"2014-12-31\", end_date=eps.index.max(), provider=\"yfinance\"\n",
    "    )\n",
    "    .to_df()\n",
    "    .resample(\"D\")\n",
    "    .last()\n",
    "    .loc[\"2014\":\"2015\"]\n",
    ")\n",
    "\n",
    "pe = aapl.close.to_frame(\"price\").join(eps.to_frame(\"eps\")).ffill().dropna()\n",
    "pe[\"pe_ratio\"] = pe.price.div(pe.eps)\n",
    "ax = pe.plot(subplots=True, figsize=(16, 8), legend=False, lw=0.5)\n",
    "ax[0].set_title(\"Adj Close\")\n",
    "ax[1].set_title(\"Diluted EPS\")\n",
    "ax[2].set_title(\"Trailing P/E\")"
   ],
   "metadata": {
    "collapsed": false
   },
   "id": "eabbc2abceb96b1",
   "execution_count": null
  }
 ],
 "metadata": {
  "kernelspec": {
   "display_name": "Python 3",
   "language": "python",
   "name": "python3"
  },
  "language_info": {
   "codemirror_mode": {
    "name": "ipython",
    "version": 2
   },
   "file_extension": ".py",
   "mimetype": "text/x-python",
   "name": "python",
   "nbconvert_exporter": "python",
   "pygments_lexer": "ipython2",
   "version": "2.7.6"
  }
 },
 "nbformat": 4,
 "nbformat_minor": 5
}
